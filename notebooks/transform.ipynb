{
 "cells": [
  {
   "cell_type": "code",
   "execution_count": 11,
   "id": "77ea0565-aa10-4158-a904-314869fc0775",
   "metadata": {},
   "outputs": [
    {
     "name": "stdout",
     "output_type": "stream",
     "text": [
      "Collecting boto3\n",
      "  Downloading boto3-1.40.1-py3-none-any.whl.metadata (6.7 kB)\n",
      "Collecting botocore<1.41.0,>=1.40.1 (from boto3)\n",
      "  Downloading botocore-1.40.1-py3-none-any.whl.metadata (5.7 kB)\n",
      "Collecting jmespath<2.0.0,>=0.7.1 (from boto3)\n",
      "  Downloading jmespath-1.0.1-py3-none-any.whl.metadata (7.6 kB)\n",
      "Collecting s3transfer<0.14.0,>=0.13.0 (from boto3)\n",
      "  Downloading s3transfer-0.13.1-py3-none-any.whl.metadata (1.7 kB)\n",
      "Requirement already satisfied: python-dateutil<3.0.0,>=2.1 in /opt/conda/lib/python3.11/site-packages (from botocore<1.41.0,>=1.40.1->boto3) (2.8.2)\n",
      "Requirement already satisfied: urllib3!=2.2.0,<3,>=1.25.4 in /opt/conda/lib/python3.11/site-packages (from botocore<1.41.0,>=1.40.1->boto3) (2.0.7)\n",
      "Requirement already satisfied: six>=1.5 in /opt/conda/lib/python3.11/site-packages (from python-dateutil<3.0.0,>=2.1->botocore<1.41.0,>=1.40.1->boto3) (1.16.0)\n",
      "Downloading boto3-1.40.1-py3-none-any.whl (139 kB)\n",
      "\u001b[2K   \u001b[90m━━━━━━━━━━━━━━━━━━━━━━━━━━━━━━━━━━━━━━━━\u001b[0m \u001b[32m139.9/139.9 kB\u001b[0m \u001b[31m8.7 MB/s\u001b[0m eta \u001b[36m0:00:00\u001b[0m\n",
      "\u001b[?25hDownloading botocore-1.40.1-py3-none-any.whl (13.9 MB)\n",
      "\u001b[2K   \u001b[90m━━━━━━━━━━━━━━━━━━━━━━━━━━━━━━━━━━━━━━━━\u001b[0m \u001b[32m13.9/13.9 MB\u001b[0m \u001b[31m33.9 MB/s\u001b[0m eta \u001b[36m0:00:00\u001b[0m00:01\u001b[0m00:01\u001b[0m\n",
      "\u001b[?25hDownloading jmespath-1.0.1-py3-none-any.whl (20 kB)\n",
      "Downloading s3transfer-0.13.1-py3-none-any.whl (85 kB)\n",
      "\u001b[2K   \u001b[90m━━━━━━━━━━━━━━━━━━━━━━━━━━━━━━━━━━━━━━━━\u001b[0m \u001b[32m85.3/85.3 kB\u001b[0m \u001b[31m13.3 MB/s\u001b[0m eta \u001b[36m0:00:00\u001b[0m\n",
      "\u001b[?25hInstalling collected packages: jmespath, botocore, s3transfer, boto3\n",
      "Successfully installed boto3-1.40.1 botocore-1.40.1 jmespath-1.0.1 s3transfer-0.13.1\n"
     ]
    }
   ],
   "source": [
    "!pip install boto3"
   ]
  },
  {
   "cell_type": "code",
   "execution_count": 12,
   "id": "54fb722d-95a8-4c14-9a90-b6d461a4f08f",
   "metadata": {},
   "outputs": [],
   "source": [
    "from pyspark.sql import functions as f\n",
    "from pyspark.sql.window import Window as W\n",
    "from pyspark.sql import SparkSession\n",
    "from pyspark.sql.types import StructType, StructField, StringType, IntegerType, DoubleType, DateType\n",
    "import boto3"
   ]
  },
  {
   "cell_type": "markdown",
   "id": "fb544c99-b092-4ac4-8ef6-46af7bad6174",
   "metadata": {},
   "source": [
    "# 1 - configurando\n"
   ]
  },
  {
   "cell_type": "code",
   "execution_count": null,
   "id": "a3d3d0de-625a-4de4-bd72-d8e0c53a58fb",
   "metadata": {},
   "outputs": [],
   "source": [
    "\n",
    "spark = SparkSession.builder \\\n",
    "    .appName(\"Teste PySpark\") \\\n",
    "    .master(\"spark://spark-master:7077\") \\\n",
    "    .config(\"spark.jars.packages\", \"org.apache.hadoop:hadoop-aws:3.3.4\",) \\\n",
    "    .config(\"spark.hadoop.mapreduce.fileoutputcommitter.algorithm.version\", \"1\")\\\n",
    "    .getOrCreate()\n",
    "\n",
    "hadoop_conf = spark._jsc.hadoopConfiguration()\n",
    "hadoop_conf.set(\"fs.s3a.endpoint\", \"http://localstack:4566\")\n",
    "hadoop_conf.set(\"fs.s3a.access.key\", \"test\")\n",
    "hadoop_conf.set(\"fs.s3a.secret.key\", \"test\")\n",
    "hadoop_conf.set(\"fs.s3a.path.style.access\", \"true\")\n",
    "hadoop_conf.set(\"fs.s3a.impl\", \"org.apache.hadoop.fs.s3a.S3AFileSystem\")\n",
    "hadoop_conf.set(\"fs.s3a.committer.name\", \"directory\")\n"
   ]
  },
  {
   "cell_type": "markdown",
   "id": "44f6fb14-496f-40ad-81a3-f94cf4ce30d7",
   "metadata": {},
   "source": [
    "# 2 - lendo arquivos do bucket e unificando"
   ]
  },
  {
   "cell_type": "code",
   "execution_count": null,
   "id": "e53a6f16-e442-4a8f-b34d-89fd6aadc081",
   "metadata": {},
   "outputs": [],
   "source": [
    "\n",
    "schema = StructType([\n",
    "    StructField(\"TP_FUNDO_CLASSE\", StringType(), True),\n",
    "    StructField(\"CNPJ_FUNDO_CLASSE\", StringType(), True),\n",
    "    StructField(\"ID_SUBCLASSE\", StringType(),True),\n",
    "    StructField(\"DT_COMPTC\", DateType(), True),\n",
    "    StructField(\"NR_COTST\", IntegerType(), True),\n",
    "    StructField(\"VL_QUOTA\", DoubleType(), True),\n",
    "    StructField(\"VL_PATRIM_LIQ\", DoubleType(), True),\n",
    "    StructField(\"CAPTC_DIA\", DoubleType(), True),\n",
    "    StructField(\"RESG_DIA\", DoubleType(), True),\n",
    "    StructField(\"VL_TOTAL\", DoubleType(), True)\n",
    "])\n",
    "\n",
    "try:\n",
    "    df = spark.read \\\n",
    "        .option(\"header\", \"true\") \\\n",
    "        .option(\"encoding\", \"latin1\") \\\n",
    "        .option(\"sep\", \";\") \\\n",
    "        .schema(schema) \\\n",
    "        .csv(\"s3a://s3-cvm-fii/raw/*.csv\")\n",
    "    print('ok \\u2705')\n",
    "except Exception as e:\n",
    "    print(f'\\u270c{e}')"
   ]
  },
  {
   "cell_type": "markdown",
   "id": "c54e151b-3352-4944-bb2e-c5e4bb8fbe8a",
   "metadata": {},
   "source": [
    "# 3 tratando "
   ]
  },
  {
   "cell_type": "code",
   "execution_count": 2,
   "id": "c82872ed-1d43-4eea-b5f6-a1621463ef5c",
   "metadata": {},
   "outputs": [
    {
     "name": "stdout",
     "output_type": "stream",
     "text": [
      "ok ✅\n",
      "✅ [DADOS SALVOS COM SUCESSO EM s3a://s3-cvm-fii/s3a://s3-cvm-fii/stage-test2/]\n"
     ]
    }
   ],
   "source": [
    "\n",
    "df = (df\n",
    "    .withColumn('CNPJ_FUNDO_CLASSE',f.regexp_replace(f.col('CNPJ_FUNDO_CLASSE'), r'[./-]', ''))\n",
    "    .filter(f.col('TP_FUNDO_CLASSE')=='FI')\n",
    "    .withColumn('ano',f.year(f.col('DT_COMPTC')))\n",
    "    .select(\n",
    "        f.col('CNPJ_FUNDO_CLASSE').alias('cnpj_fundo'),\n",
    "        f.col('NR_COTST').alias('qtd_cotistas'),\n",
    "        f.col('RESG_DIA').alias('valor_resgates'),\n",
    "        f.col('CAPTC_DIA').alias('valor_aplicacoes'),\n",
    "        f.col('VL_QUOTA').alias('cota'),\n",
    "        f.col('VL_TOTAL').alias('valor_carteira'),\n",
    "        f.col('VL_PATRIM_LIQ').alias('pl_fundo'),\n",
    "        f.col('DT_COMPTC').alias('data_referencia'),\n",
    "        f.col('ano'),\n",
    "        f.current_date().alias('dt_ingest'))\n",
    ")\n",
    "\n",
    "df_25 = df.filter(f.col(\"ano\") == 2025)\n"
   ]
  },
  {
   "cell_type": "markdown",
   "id": "dea4d53e-e995-443e-888b-76a63c5528ff",
   "metadata": {},
   "source": [
    "# 4 - upload"
   ]
  },
  {
   "cell_type": "code",
   "execution_count": null,
   "id": "2d93c8a9-6f1a-430f-b139-2f9c64d84da4",
   "metadata": {},
   "outputs": [],
   "source": [
    "\n",
    "try:\n",
    "    df_25.write.mode(\"overwrite\").parquet(\"s3a://s3-cvm-fii/stage-test2/\")\n",
    "    print(\"\\u2705 [DADOS SALVOS COM SUCESSO EM s3a://s3-cvm-fii/s3a://s3-cvm-fii/stage-test2/]\")\n",
    "except Exception as e:\n",
    "    print(e)"
   ]
  },
  {
   "cell_type": "code",
   "execution_count": 8,
   "id": "c2371894-efc1-4b6b-ac45-53d723440896",
   "metadata": {},
   "outputs": [
    {
     "name": "stdout",
     "output_type": "stream",
     "text": [
      "✅\n"
     ]
    }
   ],
   "source": [
    "print('\\u2705')"
   ]
  },
  {
   "cell_type": "markdown",
   "id": "430e9880-97a9-4db0-b4ea-142f5c81ef03",
   "metadata": {},
   "source": [
    "# 5 - CONSULTANDO NO STAGE e LENDO PARQUET"
   ]
  },
  {
   "cell_type": "code",
   "execution_count": 16,
   "id": "727f9c24-46d2-4bd1-bbc9-7c863877ca27",
   "metadata": {},
   "outputs": [
    {
     "name": "stdout",
     "output_type": "stream",
     "text": [
      "ok ✅\n"
     ]
    }
   ],
   "source": [
    "s3 = boto3.client(\n",
    "    \"s3\",\n",
    "    endpoint_url=\"http://localstack:4566\",\n",
    "    aws_access_key_id=\"test\",\n",
    "    aws_secret_access_key=\"test\",\n",
    "    region_name=\"us-east-1\"\n",
    ")\n",
    "\n",
    "bucket_name = \"s3-cvm-fii\"\n",
    "prefix = \"stage-test2/\"\n",
    "\n",
    "response = s3.list_objects_v2(Bucket=bucket_name, Prefix=prefix)\n",
    "\n",
    "files = [f\"s3a://{bucket_name}/{obj['Key']}\" for obj in response.get(\"Contents\", []) if obj['Key'].endswith('.csv')]\n",
    "\n",
    "for path in files:\n",
    "    print(path)\n",
    "print('ok \\u2705')\n"
   ]
  },
  {
   "cell_type": "code",
   "execution_count": 15,
   "id": "4817b136-b949-48a3-bff6-480814b60f34",
   "metadata": {},
   "outputs": [
    {
     "data": {
      "text/plain": [
       "[]"
      ]
     },
     "execution_count": 15,
     "metadata": {},
     "output_type": "execute_result"
    }
   ],
   "source": [
    "\n",
    "try:\n",
    "    df = spark.read \\\n",
    "        .option(\"header\", \"true\") \\\n",
    "        .option(\"encoding\", \"latin1\") \\\n",
    "        .option(\"sep\", \";\") \\\n",
    "        .schema(schema) \\\n",
    "        .parquet(\"s3a://s3-cvm-fii/stage-test2/*.parquet\")\n",
    "    print('ok \\u2705')\n",
    "except Exception as e:\n",
    "    print(f'\\u270c{e}')"
   ]
  },
  {
   "cell_type": "code",
   "execution_count": null,
   "id": "89ef27c5-1807-4099-83de-f369a7c71e2b",
   "metadata": {},
   "outputs": [],
   "source": [
    "s3a://s3-cvm-fii/stage-test2"
   ]
  },
  {
   "cell_type": "code",
   "execution_count": null,
   "id": "557afd43-6c07-4a82-94f5-7b5e8e20c8a9",
   "metadata": {},
   "outputs": [],
   "source": [
    "## LENDO "
   ]
  },
  {
   "cell_type": "code",
   "execution_count": null,
   "id": "654f5cd0-98d6-4801-b060-27e18ba40844",
   "metadata": {},
   "outputs": [],
   "source": [
    "\n",
    "\n",
    "# ## variação cota dia\n",
    "# df_fi = (\n",
    "#     df_fi.withColumn('cota_dia_anterior',\n",
    "#                          f.lag(f.col('cota')).over(W.partitionBy(f.col('cnpj_fundo'))\n",
    "#                                                      .orderBy(f.col('data_referencia'))))\n",
    "#         .withColumn(\"variacao_cota_dia\",\n",
    "#             f.when(\n",
    "#                    (f.col(\"cota_dia_anterior\").isNotNull()) & (f.col(\"cota_dia_anterior\") != 0),\n",
    "#                     f.round(((f.col(\"cota\") - f.col(\"cota_dia_anterior\")) / f.col(\"cota_dia_anterior\")) * 100,4)))\n",
    "#         .withColumn(\"ano\", f.year(f.col(\"data_referencia\")))\n",
    "#         .withColumn(\"mes\",f.month(f.col(\"data_referencia\")))\n",
    "#         .withColumn(\"net\",\n",
    "#                    f.col(\"valor_aplicacoes\") - f.col(\"valor_resgates\"))\n",
    "#         .withColumn(\"pl_d1\",\n",
    "#                     f.lag(f.col(\"pl_fundo\")).over(W.partitionBy(f.col(\"cnpj_fundo\"))\n",
    "#                                                     .orderBy(f.col(\"data_referencia\")))\n",
    "#                     )\n",
    "#         .withColumn('pnl',f.col('pl_fundo') - f.col('pl_d1') - f.col('net'))\n",
    "#         .withColumn(\"dt_ingest\", f.current_date())\n",
    "#         .select(\n",
    "#              'cnpj_fundo',\n",
    "#              'pl_fundo',\n",
    "#              'cota',\n",
    "#              'qtd_cotistas',\n",
    "#              'valor_aplicacoes',\n",
    "#              'valor_resgates',\n",
    "#              'net',\n",
    "#              'pnl',\n",
    "#              'valor_carteira',\n",
    "#              'data_referencia',\n",
    "#              'variacao_cota_dia',\n",
    "#              'data_referencia',\n",
    "#              'mes',\n",
    "#              'ano',\n",
    "#             'dt_ingest')\n",
    "             \n",
    "# ).orderBy('data_referencia')"
   ]
  },
  {
   "cell_type": "code",
   "execution_count": null,
   "id": "bf2c531c-94e0-4d88-bbaa-a9e585ee9c6a",
   "metadata": {},
   "outputs": [],
   "source": []
  }
 ],
 "metadata": {
  "kernelspec": {
   "display_name": "Python 3 (ipykernel)",
   "language": "python",
   "name": "python3"
  },
  "language_info": {
   "codemirror_mode": {
    "name": "ipython",
    "version": 3
   },
   "file_extension": ".py",
   "mimetype": "text/x-python",
   "name": "python",
   "nbconvert_exporter": "python",
   "pygments_lexer": "ipython3",
   "version": "3.11.6"
  }
 },
 "nbformat": 4,
 "nbformat_minor": 5
}
