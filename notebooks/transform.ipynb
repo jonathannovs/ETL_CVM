{
 "cells": [
  {
   "cell_type": "code",
   "execution_count": 1,
   "id": "77ea0565-aa10-4158-a904-314869fc0775",
   "metadata": {},
   "outputs": [
    {
     "name": "stdout",
     "output_type": "stream",
     "text": [
      "Collecting boto3\n",
      "  Downloading boto3-1.40.5-py3-none-any.whl.metadata (6.7 kB)\n",
      "Collecting botocore<1.41.0,>=1.40.5 (from boto3)\n",
      "  Downloading botocore-1.40.5-py3-none-any.whl.metadata (5.7 kB)\n",
      "Collecting jmespath<2.0.0,>=0.7.1 (from boto3)\n",
      "  Downloading jmespath-1.0.1-py3-none-any.whl.metadata (7.6 kB)\n",
      "Collecting s3transfer<0.14.0,>=0.13.0 (from boto3)\n",
      "  Downloading s3transfer-0.13.1-py3-none-any.whl.metadata (1.7 kB)\n",
      "Requirement already satisfied: python-dateutil<3.0.0,>=2.1 in /opt/conda/lib/python3.11/site-packages (from botocore<1.41.0,>=1.40.5->boto3) (2.8.2)\n",
      "Requirement already satisfied: urllib3!=2.2.0,<3,>=1.25.4 in /opt/conda/lib/python3.11/site-packages (from botocore<1.41.0,>=1.40.5->boto3) (2.0.7)\n",
      "Requirement already satisfied: six>=1.5 in /opt/conda/lib/python3.11/site-packages (from python-dateutil<3.0.0,>=2.1->botocore<1.41.0,>=1.40.5->boto3) (1.16.0)\n",
      "Downloading boto3-1.40.5-py3-none-any.whl (140 kB)\n",
      "\u001b[2K   \u001b[90m━━━━━━━━━━━━━━━━━━━━━━━━━━━━━━━━━━━━━━━━\u001b[0m \u001b[32m140.1/140.1 kB\u001b[0m \u001b[31m10.8 MB/s\u001b[0m eta \u001b[36m0:00:00\u001b[0m\n",
      "\u001b[?25hDownloading botocore-1.40.5-py3-none-any.whl (14.0 MB)\n",
      "\u001b[2K   \u001b[90m━━━━━━━━━━━━━━━━━━━━━━━━━━━━━━━━━━━━━━━━\u001b[0m \u001b[32m14.0/14.0 MB\u001b[0m \u001b[31m24.6 MB/s\u001b[0m eta \u001b[36m0:00:00\u001b[0m00:01\u001b[0m00:01\u001b[0m\n",
      "\u001b[?25hDownloading jmespath-1.0.1-py3-none-any.whl (20 kB)\n",
      "Downloading s3transfer-0.13.1-py3-none-any.whl (85 kB)\n",
      "\u001b[2K   \u001b[90m━━━━━━━━━━━━━━━━━━━━━━━━━━━━━━━━━━━━━━━━\u001b[0m \u001b[32m85.3/85.3 kB\u001b[0m \u001b[31m8.7 MB/s\u001b[0m eta \u001b[36m0:00:00\u001b[0m\n",
      "\u001b[?25hInstalling collected packages: jmespath, botocore, s3transfer, boto3\n",
      "Successfully installed boto3-1.40.5 botocore-1.40.5 jmespath-1.0.1 s3transfer-0.13.1\n"
     ]
    }
   ],
   "source": [
    "!pip install boto3"
   ]
  },
  {
   "cell_type": "code",
   "execution_count": 77,
   "id": "54fb722d-95a8-4c14-9a90-b6d461a4f08f",
   "metadata": {},
   "outputs": [],
   "source": [
    "from pyspark.sql import functions as f\n",
    "from pyspark.sql.window import Window as w\n",
    "from pyspark.sql import SparkSession\n",
    "from pyspark.sql.types import StructType, StructField, StringType, IntegerType, DoubleType, DateType\n",
    "import boto3"
   ]
  },
  {
   "cell_type": "markdown",
   "id": "fb544c99-b092-4ac4-8ef6-46af7bad6174",
   "metadata": {},
   "source": [
    "# 1 - configurando\n"
   ]
  },
  {
   "cell_type": "code",
   "execution_count": 5,
   "id": "a3d3d0de-625a-4de4-bd72-d8e0c53a58fb",
   "metadata": {},
   "outputs": [],
   "source": [
    "\n",
    "spark = SparkSession.builder \\\n",
    "    .appName(\"Teste PySpark\") \\\n",
    "    .master(\"spark://spark-master:7077\") \\\n",
    "    .config(\"spark.jars.packages\", \"org.apache.hadoop:hadoop-aws:3.3.4\",) \\\n",
    "    .config(\"spark.hadoop.mapreduce.fileoutputcommitter.algorithm.version\", \"1\")\\\n",
    "    .getOrCreate()\n",
    "\n",
    "hadoop_conf = spark._jsc.hadoopConfiguration()\n",
    "hadoop_conf.set(\"fs.s3a.endpoint\", \"http://localstack:4566\")\n",
    "hadoop_conf.set(\"fs.s3a.access.key\", \"test\")\n",
    "hadoop_conf.set(\"fs.s3a.secret.key\", \"test\")\n",
    "hadoop_conf.set(\"fs.s3a.path.style.access\", \"true\")\n",
    "hadoop_conf.set(\"fs.s3a.impl\", \"org.apache.hadoop.fs.s3a.S3AFileSystem\")\n",
    "hadoop_conf.set(\"fs.s3a.committer.name\", \"directory\")\n"
   ]
  },
  {
   "cell_type": "markdown",
   "id": "44f6fb14-496f-40ad-81a3-f94cf4ce30d7",
   "metadata": {},
   "source": [
    "# 2 - lendo arquivos do bucket e unificando"
   ]
  },
  {
   "cell_type": "code",
   "execution_count": 106,
   "id": "e53a6f16-e442-4a8f-b34d-89fd6aadc081",
   "metadata": {},
   "outputs": [
    {
     "name": "stdout",
     "output_type": "stream",
     "text": [
      "ok ✅\n"
     ]
    }
   ],
   "source": [
    "\n",
    "\n",
    "columns = [\"TP_FUNDO_CLASSE\", \"CNPJ_FUNDO_CLASSE\", \"DT_COMPTC\", \"VL_QUOTA\",\"VL_PATRIM_LIQ\",'CAPTC_DIA','RESG_DIA','NR_COTST']\n",
    "map_col = {\n",
    "    \"TP_FUNDO\":'TP_FUNDO_CLASSE',\n",
    "    \"CNPJ_FUNDO\":\"CNPJ_FUNDO_CLASSE\"\n",
    "    }\n",
    "\n",
    "def padronizar_colunas(df, mapa):\n",
    "    for col in df.columns:\n",
    "        if col in mapa:\n",
    "            df = df.withColumnRenamed(col, mapa[col])\n",
    "    return df\n",
    "\n",
    "try:\n",
    "    df = spark.read \\\n",
    "        .option(\"header\", \"true\") \\\n",
    "        .option(\"encoding\", \"latin1\") \\\n",
    "        .option(\"sep\", \";\") \\\n",
    "        .option(\"inferSchema\", \"false\")\\\n",
    "        .csv(\"s3a://s3-cvm-fii/raw/*.csv\")\\\n",
    "        .select(*colunas_desejadas)\n",
    "    df = padronizar_colunas(df, mapa_colunas)\n",
    "    print('ok \\u2705')\n",
    "    \n",
    "except Exception as e:\n",
    "    print(f'\\u270c{e}')"
   ]
  },
  {
   "cell_type": "markdown",
   "id": "c54e151b-3352-4944-bb2e-c5e4bb8fbe8a",
   "metadata": {},
   "source": [
    "# 3 - tratando "
   ]
  },
  {
   "cell_type": "code",
   "execution_count": 62,
   "id": "21b6a823-c201-42de-9124-6a18586f64f6",
   "metadata": {},
   "outputs": [
    {
     "data": {
      "text/plain": [
       "22519897"
      ]
     },
     "execution_count": 62,
     "metadata": {},
     "output_type": "execute_result"
    }
   ],
   "source": [
    "df.count()"
   ]
  },
  {
   "cell_type": "code",
   "execution_count": 63,
   "id": "70c68d4a-7986-4c80-8d50-fd4779a262a4",
   "metadata": {},
   "outputs": [
    {
     "name": "stdout",
     "output_type": "stream",
     "text": [
      "+---------------+-----------------+---------+--------+-------------+---------+--------+--------+\n",
      "|TP_FUNDO_CLASSE|CNPJ_FUNDO_CLASSE|DT_COMPTC|VL_QUOTA|VL_PATRIM_LIQ|CAPTC_DIA|RESG_DIA|NR_COTST|\n",
      "+---------------+-----------------+---------+--------+-------------+---------+--------+--------+\n",
      "|              0|                0|        0|       0|            0|        0|       0|11691182|\n",
      "+---------------+-----------------+---------+--------+-------------+---------+--------+--------+\n",
      "\n"
     ]
    }
   ],
   "source": [
    "df.select([\n",
    "    f.count(f.when(f.col(c).isNull(), c)).alias(c)\n",
    "    for c in df.columns\n",
    "]).show()\n"
   ]
  },
  {
   "cell_type": "code",
   "execution_count": 64,
   "id": "e8f795de-2823-42a3-86e9-d63b23bd5651",
   "metadata": {},
   "outputs": [
    {
     "name": "stdout",
     "output_type": "stream",
     "text": [
      "+---------------+------------------+----------+---------------+-------------+---------+--------+--------+\n",
      "|TP_FUNDO_CLASSE| CNPJ_FUNDO_CLASSE| DT_COMPTC|       VL_QUOTA|VL_PATRIM_LIQ|CAPTC_DIA|RESG_DIA|NR_COTST|\n",
      "+---------------+------------------+----------+---------------+-------------+---------+--------+--------+\n",
      "|  CLASSES - FIF|00.017.024/0001-53|2025-07-01|39.213324800000|   1146691.57|     0.00|    0.00|       1|\n",
      "|  CLASSES - FIF|00.017.024/0001-53|2025-07-02|39.232973700000|   1147266.15|     0.00|    0.00|       1|\n",
      "|  CLASSES - FIF|00.017.024/0001-53|2025-07-03|39.252822600000|   1147846.58|     0.00|    0.00|       1|\n",
      "|  CLASSES - FIF|00.017.024/0001-53|2025-07-04|39.271309800000|   1148387.19|     0.00|    0.00|       1|\n",
      "|  CLASSES - FIF|00.017.024/0001-53|2025-07-07|39.289262100000|   1145782.62|     0.00| 3129.54|       1|\n",
      "|  CLASSES - FIF|00.017.024/0001-53|2025-07-08|39.307480200000|   1146313.91|     0.00|    0.00|       1|\n",
      "|  CLASSES - FIF|00.017.024/0001-53|2025-07-09|39.325666500000|   1146844.27|     0.00|    0.00|       1|\n",
      "|  CLASSES - FIF|00.017.024/0001-53|2025-07-10|39.343841400000|   1147374.30|     0.00|    0.00|       1|\n",
      "|  CLASSES - FIF|00.017.024/0001-53|2025-07-11|39.362610900000|   1147921.67|     0.00|    0.00|       1|\n",
      "|  CLASSES - FIF|00.017.024/0001-53|2025-07-14|39.381020000000|   1148458.53|     0.00|    0.00|       1|\n",
      "+---------------+------------------+----------+---------------+-------------+---------+--------+--------+\n",
      "\n"
     ]
    }
   ],
   "source": [
    "df.limit(10).show()"
   ]
  },
  {
   "cell_type": "code",
   "execution_count": 65,
   "id": "83f4382c-2dc4-4dcc-82fe-68ba1a46d196",
   "metadata": {},
   "outputs": [
    {
     "name": "stdout",
     "output_type": "stream",
     "text": [
      "root\n",
      " |-- TP_FUNDO_CLASSE: string (nullable = true)\n",
      " |-- CNPJ_FUNDO_CLASSE: string (nullable = true)\n",
      " |-- DT_COMPTC: string (nullable = true)\n",
      " |-- VL_QUOTA: string (nullable = true)\n",
      " |-- VL_PATRIM_LIQ: string (nullable = true)\n",
      " |-- CAPTC_DIA: string (nullable = true)\n",
      " |-- RESG_DIA: string (nullable = true)\n",
      " |-- NR_COTST: string (nullable = true)\n",
      "\n"
     ]
    }
   ],
   "source": [
    "df.printSchema()"
   ]
  },
  {
   "cell_type": "code",
   "execution_count": 115,
   "id": "00211a95-59cd-490f-8b61-ac00a658ced8",
   "metadata": {},
   "outputs": [],
   "source": [
    "df_test = df.limit(100)"
   ]
  },
  {
   "cell_type": "code",
   "execution_count": 111,
   "id": "a1fedef1-7f63-4f5f-aa3f-d19d07f374f1",
   "metadata": {},
   "outputs": [],
   "source": [
    "df = (\n",
    "    df\n",
    "    .withColumn('CNPJ_FUNDO_CLASSE',f.regexp_replace(f.col('CNPJ_FUNDO_CLASSE'), r'[./-]', ''))\n",
    "    .withColumn('DT_COMPTC',f.col('DT_COMPTC').cast(DateType()))\n",
    "    .withColumn('VL_QUOTA',f.round(f.col('VL_QUOTA').cast(DoubleType()),2))\n",
    "    .withColumn('VL_PATRIM_LIQ',f.round(f.col('VL_PATRIM_LIQ').cast(DoubleType()),2))\n",
    "    .withColumn('CAPTC_DIA',f.round(f.col('CAPTC_DIA').cast(DoubleType()),2))\n",
    "    .withColumn('RESG_DIA',f.round(f.col('RESG_DIA').cast(DoubleType()),2))\n",
    "    .withColumn('NR_COTST', f.col('NR_COTST').cast(IntegerType()))\n",
    "    .withColumn('ano',f.year(f.col('DT_COMPTC')))\n",
    "    .withColumn('id_fund_date',f.concat(f.col('CNPJ_FUNDO_CLASSE'),f.date_format(f.col('DT_COMPTC'), 'yyyyMMdd')))\n",
    "    .drop('TP_FUNDO_CLASSE')\n",
    "    .select(\n",
    "        f.col('id_fund_date'),\n",
    "        f.col('CNPJ_FUNDO_CLASSE').alias('cnpj_fundo'),\n",
    "        f.col('RESG_DIA').alias('valor_resgates'),\n",
    "        f.col('CAPTC_DIA').alias('valor_aplicacoes'),\n",
    "        f.col('VL_QUOTA').alias('cota'),\n",
    "        f.col('VL_PATRIM_LIQ').alias('pl_fundo'),\n",
    "        f.col('DT_COMPTC').alias('data_referencia'),\n",
    "        f.col('NR_COTST').alias('qtd_cotistas'),\n",
    "        f.col('ano'),\n",
    "        f.current_date().alias('dt_ingest')\n",
    "    )\n",
    ").drop_duplicates('id_fund_date')\n",
    "\n",
    "df = .whritrow_number"
   ]
  },
  {
   "cell_type": "code",
   "execution_count": null,
   "id": "4acf78e7-e34a-4ca0-9d52-7063447c0f3f",
   "metadata": {},
   "outputs": [],
   "source": []
  },
  {
   "cell_type": "code",
   "execution_count": 112,
   "id": "67f07d82-fc22-4a9d-a882-f9e7ae615e66",
   "metadata": {},
   "outputs": [
    {
     "data": {
      "text/plain": [
       "22519897"
      ]
     },
     "execution_count": 112,
     "metadata": {},
     "output_type": "execute_result"
    }
   ],
   "source": [
    "df.count()"
   ]
  },
  {
   "cell_type": "code",
   "execution_count": null,
   "id": "4e83ec24-2ac8-4fa4-9939-e3baf5730883",
   "metadata": {},
   "outputs": [],
   "source": [
    "df.select([\n",
    "    f.count(f.when(f.col(c).isNull(), 1)).alias(c)\n",
    "    for c in df.columns\n",
    "]).show()"
   ]
  },
  {
   "cell_type": "code",
   "execution_count": 76,
   "id": "10fa558e-c44a-4bd6-8ca2-356609e39a81",
   "metadata": {},
   "outputs": [
    {
     "name": "stdout",
     "output_type": "stream",
     "text": [
      "root\n",
      " |-- id_fund_date: string (nullable = true)\n",
      " |-- cnpj_fundo: string (nullable = true)\n",
      " |-- valor_resgates: double (nullable = true)\n",
      " |-- valor_aplicacoes: double (nullable = true)\n",
      " |-- cota: double (nullable = true)\n",
      " |-- pl_fundo: double (nullable = true)\n",
      " |-- data_referencia: date (nullable = true)\n",
      " |-- qtd_cotistas: integer (nullable = true)\n",
      " |-- ano: integer (nullable = true)\n",
      " |-- dt_ingest: date (nullable = false)\n",
      "\n"
     ]
    }
   ],
   "source": [
    "df_test.printSchema()"
   ]
  },
  {
   "cell_type": "markdown",
   "id": "4208760b-4bad-4022-9fcf-d8c8c635dcdc",
   "metadata": {},
   "source": [
    "# 4 - Calculo metricas "
   ]
  },
  {
   "cell_type": "code",
   "execution_count": 116,
   "id": "8a0a6561-875f-4016-9972-fd5288f54873",
   "metadata": {},
   "outputs": [],
   "source": [
    "df_metricas_ = df_test.select('id_fund_date','cnpj_fundo','valor_resgates','valor_aplicacoes','cota','pl_fundo','data_referencia','ano')"
   ]
  },
  {
   "cell_type": "code",
   "execution_count": 117,
   "id": "c92b1618-5e15-47e6-98b1-4612b9813b6c",
   "metadata": {},
   "outputs": [
    {
     "name": "stdout",
     "output_type": "stream",
     "text": [
      "+----------------------+--------------+--------------+----------------+-----+----------+---------------+----+\n",
      "|          id_fund_date|    cnpj_fundo|valor_resgates|valor_aplicacoes| cota|  pl_fundo|data_referencia| ano|\n",
      "+----------------------+--------------+--------------+----------------+-----+----------+---------------+----+\n",
      "|0001702400015320250701|00017024000153|           0.0|             0.0|39.21|1146691.57|     2025-07-01|2025|\n",
      "|0001702400015320250702|00017024000153|           0.0|             0.0|39.23|1147266.15|     2025-07-02|2025|\n",
      "|0001702400015320250703|00017024000153|           0.0|             0.0|39.25|1147846.58|     2025-07-03|2025|\n",
      "|0001702400015320250704|00017024000153|           0.0|             0.0|39.27|1148387.19|     2025-07-04|2025|\n",
      "|0001702400015320250707|00017024000153|       3129.54|             0.0|39.29|1145782.62|     2025-07-07|2025|\n",
      "|0001702400015320250708|00017024000153|           0.0|             0.0|39.31|1146313.91|     2025-07-08|2025|\n",
      "|0001702400015320250709|00017024000153|           0.0|             0.0|39.33|1146844.27|     2025-07-09|2025|\n",
      "|0001702400015320250710|00017024000153|           0.0|             0.0|39.34| 1147374.3|     2025-07-10|2025|\n",
      "|0001702400015320250711|00017024000153|           0.0|             0.0|39.36|1147921.67|     2025-07-11|2025|\n",
      "|0001702400015320250714|00017024000153|           0.0|             0.0|39.38|1148458.53|     2025-07-14|2025|\n",
      "|0001702400015320250715|00017024000153|           0.0|             0.0| 39.4|1148990.67|     2025-07-15|2025|\n",
      "|0001702400015320250716|00017024000153|           0.0|             0.0|39.42|1149525.23|     2025-07-16|2025|\n",
      "|0001702400015320250717|00017024000153|           0.0|             0.0|39.44|1150068.17|     2025-07-17|2025|\n",
      "|0001702400015320250718|00017024000153|           0.0|             0.0|39.45|1150612.24|     2025-07-18|2025|\n",
      "|0001702400015320250721|00017024000153|           0.0|             0.0|39.47|1151169.39|     2025-07-21|2025|\n",
      "|0001702400015320250722|00017024000153|           0.0|             0.0|39.49|1151717.41|     2025-07-22|2025|\n",
      "|0001702400015320250723|00017024000153|           0.0|             0.0|39.51| 1152276.3|     2025-07-23|2025|\n",
      "|0001702400015320250724|00017024000153|           0.0|             0.0|39.53|1152819.92|     2025-07-24|2025|\n",
      "|0001702400015320250725|00017024000153|           0.0|             0.0|39.55|1153353.82|     2025-07-25|2025|\n",
      "|0001702400015320250728|00017024000153|           0.0|             0.0|39.57|1153890.35|     2025-07-28|2025|\n",
      "+----------------------+--------------+--------------+----------------+-----+----------+---------------+----+\n",
      "only showing top 20 rows\n",
      "\n"
     ]
    }
   ],
   "source": [
    "df_metricas_.show(truncate=22)"
   ]
  },
  {
   "cell_type": "code",
   "execution_count": 118,
   "id": "ccf308f7-2397-4d1b-8b6a-4f1f2c8fa74e",
   "metadata": {},
   "outputs": [],
   "source": [
    "janela_fundo = w.partitionBy(f.col('cnpj_fundo')).orderBy('data_referencia')\n",
    "\n",
    "df_metricas_ = (\n",
    "    df_metricas_\n",
    "    .withColumn('cota_anterior',f.lag('cota').over(janela_fundo))\n",
    "    .withColumn('pct_rentabilidade_diaria', f.round(((f.col('cota') / f.col('cota_anterior'))-1)*100,4))\n",
    "    .withColumn('net', f.col('valor_aplicacoes') - f.col('valor_resgates'))\n",
    "    .withColumn('pl_anterior', f.lag('pl_fundo').over(janela_fundo))\n",
    "    .withColumn('pnl', f.round(f.col('pl_fundo') - f.col('pl_anterior') - f.col('net'),4))\n",
    "    .withColumn('dt_ingest',f.current_date())\n",
    "    .drop('cota_anterior','pl_anterior')\n",
    "    )"
   ]
  },
  {
   "cell_type": "code",
   "execution_count": 119,
   "id": "ba35345a-6387-481a-a8f4-d20eb7acbe4a",
   "metadata": {},
   "outputs": [
    {
     "name": "stdout",
     "output_type": "stream",
     "text": [
      "+--------------------+--------------+--------------+----------------+-----+----------+---------------+----+------------------------+--------+------+----------+\n",
      "|        id_fund_date|    cnpj_fundo|valor_resgates|valor_aplicacoes| cota|  pl_fundo|data_referencia| ano|pct_rentabilidade_diaria|     net|   pnl| dt_ingest|\n",
      "+--------------------+--------------+--------------+----------------+-----+----------+---------------+----+------------------------+--------+------+----------+\n",
      "|00017024000153202...|00017024000153|           0.0|             0.0|39.21|1146691.57|     2025-07-01|2025|                    NULL|     0.0|  NULL|2025-08-09|\n",
      "|00017024000153202...|00017024000153|           0.0|             0.0|39.23|1147266.15|     2025-07-02|2025|                   0.051|     0.0|574.58|2025-08-09|\n",
      "|00017024000153202...|00017024000153|           0.0|             0.0|39.25|1147846.58|     2025-07-03|2025|                   0.051|     0.0|580.43|2025-08-09|\n",
      "|00017024000153202...|00017024000153|           0.0|             0.0|39.27|1148387.19|     2025-07-04|2025|                   0.051|     0.0|540.61|2025-08-09|\n",
      "|00017024000153202...|00017024000153|       3129.54|             0.0|39.29|1145782.62|     2025-07-07|2025|                  0.0509|-3129.54|524.97|2025-08-09|\n",
      "|00017024000153202...|00017024000153|           0.0|             0.0|39.31|1146313.91|     2025-07-08|2025|                  0.0509|     0.0|531.29|2025-08-09|\n",
      "|00017024000153202...|00017024000153|           0.0|             0.0|39.33|1146844.27|     2025-07-09|2025|                  0.0509|     0.0|530.36|2025-08-09|\n",
      "|00017024000153202...|00017024000153|           0.0|             0.0|39.34| 1147374.3|     2025-07-10|2025|                  0.0254|     0.0|530.03|2025-08-09|\n",
      "|00017024000153202...|00017024000153|           0.0|             0.0|39.36|1147921.67|     2025-07-11|2025|                  0.0508|     0.0|547.37|2025-08-09|\n",
      "|00017024000153202...|00017024000153|           0.0|             0.0|39.38|1148458.53|     2025-07-14|2025|                  0.0508|     0.0|536.86|2025-08-09|\n",
      "|00017024000153202...|00017024000153|           0.0|             0.0| 39.4|1148990.67|     2025-07-15|2025|                  0.0508|     0.0|532.14|2025-08-09|\n",
      "|00017024000153202...|00017024000153|           0.0|             0.0|39.42|1149525.23|     2025-07-16|2025|                  0.0508|     0.0|534.56|2025-08-09|\n",
      "|00017024000153202...|00017024000153|           0.0|             0.0|39.44|1150068.17|     2025-07-17|2025|                  0.0507|     0.0|542.94|2025-08-09|\n",
      "|00017024000153202...|00017024000153|           0.0|             0.0|39.45|1150612.24|     2025-07-18|2025|                  0.0254|     0.0|544.07|2025-08-09|\n",
      "|00017024000153202...|00017024000153|           0.0|             0.0|39.47|1151169.39|     2025-07-21|2025|                  0.0507|     0.0|557.15|2025-08-09|\n",
      "|00017024000153202...|00017024000153|           0.0|             0.0|39.49|1151717.41|     2025-07-22|2025|                  0.0507|     0.0|548.02|2025-08-09|\n",
      "|00017024000153202...|00017024000153|           0.0|             0.0|39.51| 1152276.3|     2025-07-23|2025|                  0.0506|     0.0|558.89|2025-08-09|\n",
      "|00017024000153202...|00017024000153|           0.0|             0.0|39.53|1152819.92|     2025-07-24|2025|                  0.0506|     0.0|543.62|2025-08-09|\n",
      "|00017024000153202...|00017024000153|           0.0|             0.0|39.55|1153353.82|     2025-07-25|2025|                  0.0506|     0.0| 533.9|2025-08-09|\n",
      "|00017024000153202...|00017024000153|           0.0|             0.0|39.57|1153890.35|     2025-07-28|2025|                  0.0506|     0.0|536.53|2025-08-09|\n",
      "+--------------------+--------------+--------------+----------------+-----+----------+---------------+----+------------------------+--------+------+----------+\n",
      "only showing top 20 rows\n",
      "\n"
     ]
    }
   ],
   "source": [
    "df_metricas_.show()"
   ]
  },
  {
   "cell_type": "code",
   "execution_count": 124,
   "id": "d7df9f20-bd83-408c-9e9f-a3271b906e10",
   "metadata": {},
   "outputs": [
    {
     "ename": "Py4JJavaError",
     "evalue": "An error occurred while calling o3307.count.\n: org.apache.spark.SparkException: Job aborted due to stage failure: Task 1 in stage 159.0 failed 4 times, most recent failure: Lost task 1.3 in stage 159.0 (TID 1506) (172.19.0.5 executor 21): ExecutorLostFailure (executor 21 exited caused by one of the running tasks) Reason: Command exited with code 137\nDriver stacktrace:\n\tat org.apache.spark.scheduler.DAGScheduler.failJobAndIndependentStages(DAGScheduler.scala:2844)\n\tat org.apache.spark.scheduler.DAGScheduler.$anonfun$abortStage$2(DAGScheduler.scala:2780)\n\tat org.apache.spark.scheduler.DAGScheduler.$anonfun$abortStage$2$adapted(DAGScheduler.scala:2779)\n\tat scala.collection.mutable.ResizableArray.foreach(ResizableArray.scala:62)\n\tat scala.collection.mutable.ResizableArray.foreach$(ResizableArray.scala:55)\n\tat scala.collection.mutable.ArrayBuffer.foreach(ArrayBuffer.scala:49)\n\tat org.apache.spark.scheduler.DAGScheduler.abortStage(DAGScheduler.scala:2779)\n\tat org.apache.spark.scheduler.DAGScheduler.$anonfun$handleTaskSetFailed$1(DAGScheduler.scala:1242)\n\tat org.apache.spark.scheduler.DAGScheduler.$anonfun$handleTaskSetFailed$1$adapted(DAGScheduler.scala:1242)\n\tat scala.Option.foreach(Option.scala:407)\n\tat org.apache.spark.scheduler.DAGScheduler.handleTaskSetFailed(DAGScheduler.scala:1242)\n\tat org.apache.spark.scheduler.DAGSchedulerEventProcessLoop.doOnReceive(DAGScheduler.scala:3048)\n\tat org.apache.spark.scheduler.DAGSchedulerEventProcessLoop.onReceive(DAGScheduler.scala:2982)\n\tat org.apache.spark.scheduler.DAGSchedulerEventProcessLoop.onReceive(DAGScheduler.scala:2971)\n\tat org.apache.spark.util.EventLoop$$anon$1.run(EventLoop.scala:49)\n",
     "output_type": "error",
     "traceback": [
      "\u001b[0;31m---------------------------------------------------------------------------\u001b[0m",
      "\u001b[0;31mPy4JJavaError\u001b[0m                             Traceback (most recent call last)",
      "Cell \u001b[0;32mIn[124], line 1\u001b[0m\n\u001b[0;32m----> 1\u001b[0m \u001b[43mdf\u001b[49m\u001b[38;5;241;43m.\u001b[39;49m\u001b[43mselect\u001b[49m\u001b[43m(\u001b[49m\u001b[38;5;124;43m\"\u001b[39;49m\u001b[38;5;124;43mid_fund_date\u001b[39;49m\u001b[38;5;124;43m\"\u001b[39;49m\u001b[43m)\u001b[49m\u001b[38;5;241;43m.\u001b[39;49m\u001b[43mdistinct\u001b[49m\u001b[43m(\u001b[49m\u001b[43m)\u001b[49m\u001b[38;5;241;43m.\u001b[39;49m\u001b[43mcount\u001b[49m\u001b[43m(\u001b[49m\u001b[43m)\u001b[49m\n",
      "File \u001b[0;32m/usr/local/spark/python/pyspark/sql/dataframe.py:1234\u001b[0m, in \u001b[0;36mDataFrame.count\u001b[0;34m(self)\u001b[0m\n\u001b[1;32m   1211\u001b[0m \u001b[38;5;28;01mdef\u001b[39;00m \u001b[38;5;21mcount\u001b[39m(\u001b[38;5;28mself\u001b[39m) \u001b[38;5;241m-\u001b[39m\u001b[38;5;241m>\u001b[39m \u001b[38;5;28mint\u001b[39m:\n\u001b[1;32m   1212\u001b[0m \u001b[38;5;250m    \u001b[39m\u001b[38;5;124;03m\"\"\"Returns the number of rows in this :class:`DataFrame`.\u001b[39;00m\n\u001b[1;32m   1213\u001b[0m \n\u001b[1;32m   1214\u001b[0m \u001b[38;5;124;03m    .. versionadded:: 1.3.0\u001b[39;00m\n\u001b[0;32m   (...)\u001b[0m\n\u001b[1;32m   1232\u001b[0m \u001b[38;5;124;03m    3\u001b[39;00m\n\u001b[1;32m   1233\u001b[0m \u001b[38;5;124;03m    \"\"\"\u001b[39;00m\n\u001b[0;32m-> 1234\u001b[0m     \u001b[38;5;28;01mreturn\u001b[39;00m \u001b[38;5;28mint\u001b[39m(\u001b[38;5;28;43mself\u001b[39;49m\u001b[38;5;241;43m.\u001b[39;49m\u001b[43m_jdf\u001b[49m\u001b[38;5;241;43m.\u001b[39;49m\u001b[43mcount\u001b[49m\u001b[43m(\u001b[49m\u001b[43m)\u001b[49m)\n",
      "File \u001b[0;32m/usr/local/spark/python/lib/py4j-0.10.9.7-src.zip/py4j/java_gateway.py:1322\u001b[0m, in \u001b[0;36mJavaMember.__call__\u001b[0;34m(self, *args)\u001b[0m\n\u001b[1;32m   1316\u001b[0m command \u001b[38;5;241m=\u001b[39m proto\u001b[38;5;241m.\u001b[39mCALL_COMMAND_NAME \u001b[38;5;241m+\u001b[39m\\\n\u001b[1;32m   1317\u001b[0m     \u001b[38;5;28mself\u001b[39m\u001b[38;5;241m.\u001b[39mcommand_header \u001b[38;5;241m+\u001b[39m\\\n\u001b[1;32m   1318\u001b[0m     args_command \u001b[38;5;241m+\u001b[39m\\\n\u001b[1;32m   1319\u001b[0m     proto\u001b[38;5;241m.\u001b[39mEND_COMMAND_PART\n\u001b[1;32m   1321\u001b[0m answer \u001b[38;5;241m=\u001b[39m \u001b[38;5;28mself\u001b[39m\u001b[38;5;241m.\u001b[39mgateway_client\u001b[38;5;241m.\u001b[39msend_command(command)\n\u001b[0;32m-> 1322\u001b[0m return_value \u001b[38;5;241m=\u001b[39m \u001b[43mget_return_value\u001b[49m\u001b[43m(\u001b[49m\n\u001b[1;32m   1323\u001b[0m \u001b[43m    \u001b[49m\u001b[43manswer\u001b[49m\u001b[43m,\u001b[49m\u001b[43m \u001b[49m\u001b[38;5;28;43mself\u001b[39;49m\u001b[38;5;241;43m.\u001b[39;49m\u001b[43mgateway_client\u001b[49m\u001b[43m,\u001b[49m\u001b[43m \u001b[49m\u001b[38;5;28;43mself\u001b[39;49m\u001b[38;5;241;43m.\u001b[39;49m\u001b[43mtarget_id\u001b[49m\u001b[43m,\u001b[49m\u001b[43m \u001b[49m\u001b[38;5;28;43mself\u001b[39;49m\u001b[38;5;241;43m.\u001b[39;49m\u001b[43mname\u001b[49m\u001b[43m)\u001b[49m\n\u001b[1;32m   1325\u001b[0m \u001b[38;5;28;01mfor\u001b[39;00m temp_arg \u001b[38;5;129;01min\u001b[39;00m temp_args:\n\u001b[1;32m   1326\u001b[0m     \u001b[38;5;28;01mif\u001b[39;00m \u001b[38;5;28mhasattr\u001b[39m(temp_arg, \u001b[38;5;124m\"\u001b[39m\u001b[38;5;124m_detach\u001b[39m\u001b[38;5;124m\"\u001b[39m):\n",
      "File \u001b[0;32m/usr/local/spark/python/pyspark/errors/exceptions/captured.py:179\u001b[0m, in \u001b[0;36mcapture_sql_exception.<locals>.deco\u001b[0;34m(*a, **kw)\u001b[0m\n\u001b[1;32m    177\u001b[0m \u001b[38;5;28;01mdef\u001b[39;00m \u001b[38;5;21mdeco\u001b[39m(\u001b[38;5;241m*\u001b[39ma: Any, \u001b[38;5;241m*\u001b[39m\u001b[38;5;241m*\u001b[39mkw: Any) \u001b[38;5;241m-\u001b[39m\u001b[38;5;241m>\u001b[39m Any:\n\u001b[1;32m    178\u001b[0m     \u001b[38;5;28;01mtry\u001b[39;00m:\n\u001b[0;32m--> 179\u001b[0m         \u001b[38;5;28;01mreturn\u001b[39;00m \u001b[43mf\u001b[49m\u001b[43m(\u001b[49m\u001b[38;5;241;43m*\u001b[39;49m\u001b[43ma\u001b[49m\u001b[43m,\u001b[49m\u001b[43m \u001b[49m\u001b[38;5;241;43m*\u001b[39;49m\u001b[38;5;241;43m*\u001b[39;49m\u001b[43mkw\u001b[49m\u001b[43m)\u001b[49m\n\u001b[1;32m    180\u001b[0m     \u001b[38;5;28;01mexcept\u001b[39;00m Py4JJavaError \u001b[38;5;28;01mas\u001b[39;00m e:\n\u001b[1;32m    181\u001b[0m         converted \u001b[38;5;241m=\u001b[39m convert_exception(e\u001b[38;5;241m.\u001b[39mjava_exception)\n",
      "File \u001b[0;32m/usr/local/spark/python/lib/py4j-0.10.9.7-src.zip/py4j/protocol.py:326\u001b[0m, in \u001b[0;36mget_return_value\u001b[0;34m(answer, gateway_client, target_id, name)\u001b[0m\n\u001b[1;32m    324\u001b[0m value \u001b[38;5;241m=\u001b[39m OUTPUT_CONVERTER[\u001b[38;5;28mtype\u001b[39m](answer[\u001b[38;5;241m2\u001b[39m:], gateway_client)\n\u001b[1;32m    325\u001b[0m \u001b[38;5;28;01mif\u001b[39;00m answer[\u001b[38;5;241m1\u001b[39m] \u001b[38;5;241m==\u001b[39m REFERENCE_TYPE:\n\u001b[0;32m--> 326\u001b[0m     \u001b[38;5;28;01mraise\u001b[39;00m Py4JJavaError(\n\u001b[1;32m    327\u001b[0m         \u001b[38;5;124m\"\u001b[39m\u001b[38;5;124mAn error occurred while calling \u001b[39m\u001b[38;5;132;01m{0}\u001b[39;00m\u001b[38;5;132;01m{1}\u001b[39;00m\u001b[38;5;132;01m{2}\u001b[39;00m\u001b[38;5;124m.\u001b[39m\u001b[38;5;130;01m\\n\u001b[39;00m\u001b[38;5;124m\"\u001b[39m\u001b[38;5;241m.\u001b[39m\n\u001b[1;32m    328\u001b[0m         \u001b[38;5;28mformat\u001b[39m(target_id, \u001b[38;5;124m\"\u001b[39m\u001b[38;5;124m.\u001b[39m\u001b[38;5;124m\"\u001b[39m, name), value)\n\u001b[1;32m    329\u001b[0m \u001b[38;5;28;01melse\u001b[39;00m:\n\u001b[1;32m    330\u001b[0m     \u001b[38;5;28;01mraise\u001b[39;00m Py4JError(\n\u001b[1;32m    331\u001b[0m         \u001b[38;5;124m\"\u001b[39m\u001b[38;5;124mAn error occurred while calling \u001b[39m\u001b[38;5;132;01m{0}\u001b[39;00m\u001b[38;5;132;01m{1}\u001b[39;00m\u001b[38;5;132;01m{2}\u001b[39;00m\u001b[38;5;124m. Trace:\u001b[39m\u001b[38;5;130;01m\\n\u001b[39;00m\u001b[38;5;132;01m{3}\u001b[39;00m\u001b[38;5;130;01m\\n\u001b[39;00m\u001b[38;5;124m\"\u001b[39m\u001b[38;5;241m.\u001b[39m\n\u001b[1;32m    332\u001b[0m         \u001b[38;5;28mformat\u001b[39m(target_id, \u001b[38;5;124m\"\u001b[39m\u001b[38;5;124m.\u001b[39m\u001b[38;5;124m\"\u001b[39m, name, value))\n",
      "\u001b[0;31mPy4JJavaError\u001b[0m: An error occurred while calling o3307.count.\n: org.apache.spark.SparkException: Job aborted due to stage failure: Task 1 in stage 159.0 failed 4 times, most recent failure: Lost task 1.3 in stage 159.0 (TID 1506) (172.19.0.5 executor 21): ExecutorLostFailure (executor 21 exited caused by one of the running tasks) Reason: Command exited with code 137\nDriver stacktrace:\n\tat org.apache.spark.scheduler.DAGScheduler.failJobAndIndependentStages(DAGScheduler.scala:2844)\n\tat org.apache.spark.scheduler.DAGScheduler.$anonfun$abortStage$2(DAGScheduler.scala:2780)\n\tat org.apache.spark.scheduler.DAGScheduler.$anonfun$abortStage$2$adapted(DAGScheduler.scala:2779)\n\tat scala.collection.mutable.ResizableArray.foreach(ResizableArray.scala:62)\n\tat scala.collection.mutable.ResizableArray.foreach$(ResizableArray.scala:55)\n\tat scala.collection.mutable.ArrayBuffer.foreach(ArrayBuffer.scala:49)\n\tat org.apache.spark.scheduler.DAGScheduler.abortStage(DAGScheduler.scala:2779)\n\tat org.apache.spark.scheduler.DAGScheduler.$anonfun$handleTaskSetFailed$1(DAGScheduler.scala:1242)\n\tat org.apache.spark.scheduler.DAGScheduler.$anonfun$handleTaskSetFailed$1$adapted(DAGScheduler.scala:1242)\n\tat scala.Option.foreach(Option.scala:407)\n\tat org.apache.spark.scheduler.DAGScheduler.handleTaskSetFailed(DAGScheduler.scala:1242)\n\tat org.apache.spark.scheduler.DAGSchedulerEventProcessLoop.doOnReceive(DAGScheduler.scala:3048)\n\tat org.apache.spark.scheduler.DAGSchedulerEventProcessLoop.onReceive(DAGScheduler.scala:2982)\n\tat org.apache.spark.scheduler.DAGSchedulerEventProcessLoop.onReceive(DAGScheduler.scala:2971)\n\tat org.apache.spark.util.EventLoop$$anon$1.run(EventLoop.scala:49)\n"
     ]
    }
   ],
   "source": [
    "df.select(\"id_fund_date\").distinct().count()\n"
   ]
  },
  {
   "cell_type": "code",
   "execution_count": null,
   "id": "a8de3a83-def0-4891-9d60-a63630146448",
   "metadata": {},
   "outputs": [],
   "source": []
  },
  {
   "cell_type": "code",
   "execution_count": null,
   "id": "a67c5460-75de-4486-9ad3-cf3db5822a72",
   "metadata": {},
   "outputs": [],
   "source": []
  },
  {
   "cell_type": "code",
   "execution_count": null,
   "id": "c7b73dce-e17c-4c6b-bd51-9a5e6544d3c3",
   "metadata": {},
   "outputs": [],
   "source": []
  },
  {
   "cell_type": "code",
   "execution_count": 55,
   "id": "cdbe0d28-3599-4044-9e42-705a1421ea99",
   "metadata": {},
   "outputs": [
    {
     "name": "stdout",
     "output_type": "stream",
     "text": [
      "+----------+--------------+----------------+----+--------+---------------+------------+---+---------+\n",
      "|cnpj_fundo|valor_resgates|valor_aplicacoes|cota|pl_fundo|data_referencia|qtd_cotistas|ano|dt_ingest|\n",
      "+----------+--------------+----------------+----+--------+---------------+------------+---+---------+\n",
      "|         0|             0|               0|   0|       0|              0|           0|  0|        0|\n",
      "+----------+--------------+----------------+----+--------+---------------+------------+---+---------+\n",
      "\n"
     ]
    }
   ],
   "source": [
    "df_test.select([\n",
    "    f.count(f.when(f.col(c).isNull(), 1)).alias(c)\n",
    "    for c in df_test.columns\n",
    "]).show()"
   ]
  },
  {
   "cell_type": "code",
   "execution_count": null,
   "id": "89798ce7-c0b6-4a30-acf5-ec5d1793774b",
   "metadata": {},
   "outputs": [],
   "source": []
  },
  {
   "cell_type": "code",
   "execution_count": null,
   "id": "581919c4-6078-4e06-8d7c-d62e4005b0fa",
   "metadata": {},
   "outputs": [],
   "source": []
  },
  {
   "cell_type": "code",
   "execution_count": null,
   "id": "bd6aa5a2-240e-4a3b-8bf3-075ce1888154",
   "metadata": {},
   "outputs": [],
   "source": []
  },
  {
   "cell_type": "code",
   "execution_count": null,
   "id": "3d98eb20-6c0d-4e49-b850-c981a318e739",
   "metadata": {},
   "outputs": [],
   "source": []
  },
  {
   "cell_type": "code",
   "execution_count": null,
   "id": "bf9640c5-30f4-44b1-9d3c-deb796dc7c3e",
   "metadata": {},
   "outputs": [],
   "source": []
  },
  {
   "cell_type": "code",
   "execution_count": 2,
   "id": "c82872ed-1d43-4eea-b5f6-a1621463ef5c",
   "metadata": {},
   "outputs": [
    {
     "name": "stdout",
     "output_type": "stream",
     "text": [
      "ok ✅\n",
      "✅ [DADOS SALVOS COM SUCESSO EM s3a://s3-cvm-fii/s3a://s3-cvm-fii/stage-test2/]\n"
     ]
    }
   ],
   "source": [
    "\n",
    "df = (df\n",
    "    .withColumn('CNPJ_FUNDO_CLASSE',f.regexp_replace(f.col('CNPJ_FUNDO_CLASSE'), r'[./-]', ''))\n",
    "    .filter(f.col('TP_FUNDO_CLASSE')=='FI')\n",
    "    .withColumn('ano',f.year(f.col('DT_COMPTC')))\n",
    "    .select(\n",
    "        f.col('CNPJ_FUNDO_CLASSE').alias('cnpj_fundo'),\n",
    "        f.col('NR_COTST').alias('qtd_cotistas'),\n",
    "        f.col('RESG_DIA').alias('valor_resgates'),\n",
    "        f.col('CAPTC_DIA').alias('valor_aplicacoes'),\n",
    "        f.col('VL_QUOTA').alias('cota'),\n",
    "        f.col('VL_TOTAL').alias('valor_carteira'),\n",
    "        f.col('VL_PATRIM_LIQ').alias('pl_fundo'),\n",
    "        f.col('DT_COMPTC').alias('data_referencia'),\n",
    "        f.col('ano'),\n",
    "        f.current_date().alias('dt_ingest'))\n",
    ")\n",
    "\n",
    "df_25 = df.filter(f.col(\"ano\") == 2025)\n"
   ]
  },
  {
   "cell_type": "markdown",
   "id": "dea4d53e-e995-443e-888b-76a63c5528ff",
   "metadata": {},
   "source": [
    "# 5 - upload"
   ]
  },
  {
   "cell_type": "code",
   "execution_count": null,
   "id": "2d93c8a9-6f1a-430f-b139-2f9c64d84da4",
   "metadata": {},
   "outputs": [],
   "source": [
    "\n",
    "try:\n",
    "    df_25.write.mode(\"overwrite\").parquet(\"s3a://s3-cvm-fii/stage-test2/\")\n",
    "    print(\"\\u2705 [DADOS SALVOS COM SUCESSO EM s3a://s3-cvm-fii/s3a://s3-cvm-fii/stage-test2/]\")\n",
    "except Exception as e:\n",
    "    print(e)"
   ]
  },
  {
   "cell_type": "code",
   "execution_count": 8,
   "id": "c2371894-efc1-4b6b-ac45-53d723440896",
   "metadata": {},
   "outputs": [
    {
     "name": "stdout",
     "output_type": "stream",
     "text": [
      "✅\n"
     ]
    }
   ],
   "source": [
    "print('\\u2705')"
   ]
  },
  {
   "cell_type": "markdown",
   "id": "430e9880-97a9-4db0-b4ea-142f5c81ef03",
   "metadata": {},
   "source": [
    "# 6 - CONSULTANDO NO STAGE e LENDO PARQUET"
   ]
  },
  {
   "cell_type": "code",
   "execution_count": 16,
   "id": "727f9c24-46d2-4bd1-bbc9-7c863877ca27",
   "metadata": {},
   "outputs": [
    {
     "name": "stdout",
     "output_type": "stream",
     "text": [
      "ok ✅\n"
     ]
    }
   ],
   "source": [
    "s3 = boto3.client(\n",
    "    \"s3\",\n",
    "    endpoint_url=\"http://localstack:4566\",\n",
    "    aws_access_key_id=\"test\",\n",
    "    aws_secret_access_key=\"test\",\n",
    "    region_name=\"us-east-1\"\n",
    ")\n",
    "\n",
    "bucket_name = \"s3-cvm-fii\"\n",
    "prefix = \"stage-test2/\"\n",
    "\n",
    "response = s3.list_objects_v2(Bucket=bucket_name, Prefix=prefix)\n",
    "\n",
    "files = [f\"s3a://{bucket_name}/{obj['Key']}\" for obj in response.get(\"Contents\", []) if obj['Key'].endswith('.csv')]\n",
    "\n",
    "for path in files:\n",
    "    print(path)\n",
    "print('ok \\u2705')\n"
   ]
  },
  {
   "cell_type": "code",
   "execution_count": 21,
   "id": "4817b136-b949-48a3-bff6-480814b60f34",
   "metadata": {},
   "outputs": [
    {
     "name": "stdout",
     "output_type": "stream",
     "text": [
      "ok ✅\n"
     ]
    }
   ],
   "source": [
    "\n",
    "try:\n",
    "    df_parquet = spark.read.parquet(\"s3a://s3-cvm-fii/stage-test2/*.parquet\")\n",
    "    print('ok \\u2705')\n",
    "except Exception as e:\n",
    "    print(f'\\u240c{e}')"
   ]
  },
  {
   "cell_type": "code",
   "execution_count": 22,
   "id": "89ef27c5-1807-4099-83de-f369a7c71e2b",
   "metadata": {},
   "outputs": [
    {
     "name": "stdout",
     "output_type": "stream",
     "text": [
      "+--------------+------------+--------------+----------------+----------+--------------+----------+---------------+----+----------+\n",
      "|    cnpj_fundo|qtd_cotistas|valor_resgates|valor_aplicacoes|      cota|valor_carteira|  pl_fundo|data_referencia| ano| dt_ingest|\n",
      "+--------------+------------+--------------+----------------+----------+--------------+----------+---------------+----+----------+\n",
      "|00017024000153|        NULL|           0.0|             0.0|37.2288138|           1.0|1151690.99|     2025-01-02|2025|2025-08-03|\n",
      "|00017024000153|        NULL|           0.0|             0.0| 37.247108|           1.0|1152256.93|     2025-01-03|2025|2025-08-03|\n",
      "|00017024000153|        NULL|           0.0|             0.0|37.2637482|           1.0| 1152771.7|     2025-01-06|2025|2025-08-03|\n",
      "|00017024000153|        NULL|           0.0|             0.0|37.2827358|           1.0|1153359.09|     2025-01-07|2025|2025-08-03|\n",
      "|00017024000153|        NULL|       3539.35|             0.0|37.2986844|           1.0|1150313.12|     2025-01-08|2025|2025-08-03|\n",
      "|00017024000153|        NULL|           0.0|             0.0| 37.312915|           1.0| 1150752.0|     2025-01-09|2025|2025-08-03|\n",
      "|00017024000153|        NULL|           0.0|             0.0|37.3270704|           1.0|1151188.56|     2025-01-10|2025|2025-08-03|\n",
      "|00017024000153|        NULL|           0.0|             0.0|37.3415993|           1.0|1151636.64|     2025-01-13|2025|2025-08-03|\n",
      "|00017024000153|        NULL|           0.0|             0.0|37.3567077|           1.0|1152102.59|     2025-01-14|2025|2025-08-03|\n",
      "|00017024000153|        NULL|           0.0|             0.0|37.3724013|           1.0|1152586.59|     2025-01-15|2025|2025-08-03|\n",
      "|00017024000153|        NULL|           0.0|             0.0|37.3878984|           1.0|1153064.53|     2025-01-16|2025|2025-08-03|\n",
      "|00017024000153|        NULL|           0.0|             0.0|37.4026491|           1.0|1153519.45|     2025-01-17|2025|2025-08-03|\n",
      "|00017024000153|        NULL|           0.0|             0.0|37.4169789|           1.0|1153961.39|     2025-01-20|2025|2025-08-03|\n",
      "|00017024000153|        NULL|           0.0|             0.0|37.4307439|           1.0|1154385.91|     2025-01-21|2025|2025-08-03|\n",
      "|00017024000153|        NULL|           0.0|             0.0|37.4444544|           1.0|1154808.75|     2025-01-22|2025|2025-08-03|\n",
      "|00017024000153|        NULL|           0.0|             0.0|37.4583439|           1.0|1155237.11|     2025-01-23|2025|2025-08-03|\n",
      "|00017024000153|        NULL|           0.0|             0.0|37.4722681|           1.0|1155666.54|     2025-01-24|2025|2025-08-03|\n",
      "|00017024000153|        NULL|           0.0|             0.0|37.4860473|           1.0| 1156091.5|     2025-01-27|2025|2025-08-03|\n",
      "|00017024000153|        NULL|           0.0|             0.0|37.5000834|           1.0|1156524.38|     2025-01-28|2025|2025-08-03|\n",
      "|00017024000153|        NULL|           0.0|             0.0|37.5143499|           1.0|1156964.37|     2025-01-29|2025|2025-08-03|\n",
      "+--------------+------------+--------------+----------------+----------+--------------+----------+---------------+----+----------+\n",
      "only showing top 20 rows\n",
      "\n"
     ]
    }
   ],
   "source": [
    "df_parquet.show()"
   ]
  },
  {
   "cell_type": "code",
   "execution_count": 23,
   "id": "08bdde32-a975-4d0b-9e9d-6b28d3db751f",
   "metadata": {},
   "outputs": [
    {
     "data": {
      "text/plain": [
       "['cnpj_fundo',\n",
       " 'qtd_cotistas',\n",
       " 'valor_resgates',\n",
       " 'valor_aplicacoes',\n",
       " 'cota',\n",
       " 'valor_carteira',\n",
       " 'pl_fundo',\n",
       " 'data_referencia',\n",
       " 'ano',\n",
       " 'dt_ingest']"
      ]
     },
     "execution_count": 23,
     "metadata": {},
     "output_type": "execute_result"
    }
   ],
   "source": [
    "df_parquet.columns"
   ]
  },
  {
   "cell_type": "code",
   "execution_count": 24,
   "id": "60262392-673b-4126-a8cd-55b8b96d7db8",
   "metadata": {},
   "outputs": [
    {
     "name": "stdout",
     "output_type": "stream",
     "text": [
      "root\n",
      " |-- cnpj_fundo: string (nullable = true)\n",
      " |-- qtd_cotistas: integer (nullable = true)\n",
      " |-- valor_resgates: double (nullable = true)\n",
      " |-- valor_aplicacoes: double (nullable = true)\n",
      " |-- cota: double (nullable = true)\n",
      " |-- valor_carteira: double (nullable = true)\n",
      " |-- pl_fundo: double (nullable = true)\n",
      " |-- data_referencia: date (nullable = true)\n",
      " |-- ano: integer (nullable = true)\n",
      " |-- dt_ingest: date (nullable = true)\n",
      "\n"
     ]
    }
   ],
   "source": [
    "df_parquet.printSchema()"
   ]
  },
  {
   "cell_type": "code",
   "execution_count": null,
   "id": "c1b60807-aa80-444c-b1c1-e1b9c2f1d712",
   "metadata": {},
   "outputs": [],
   "source": []
  },
  {
   "cell_type": "code",
   "execution_count": null,
   "id": "dfa22634-148d-45c1-b7c4-1933f0efcba6",
   "metadata": {},
   "outputs": [],
   "source": []
  },
  {
   "cell_type": "code",
   "execution_count": null,
   "id": "28ca9a03-7d49-4dda-af6b-e591bb460185",
   "metadata": {},
   "outputs": [],
   "source": []
  },
  {
   "cell_type": "code",
   "execution_count": null,
   "id": "5793765d-930c-484a-a449-1c100142cc15",
   "metadata": {},
   "outputs": [],
   "source": []
  },
  {
   "cell_type": "code",
   "execution_count": null,
   "id": "79d92517",
   "metadata": {},
   "outputs": [],
   "source": []
  },
  {
   "cell_type": "code",
   "execution_count": null,
   "id": "e0790180-d2ec-44cf-9abf-923ae7d7a676",
   "metadata": {},
   "outputs": [],
   "source": [
    "def test(stage_tables:list=None):\n",
    "    paths = {\n",
    "    \"metricas\": \"/stage/metricas/\",\n",
    "    \"fundos\": \"/stage/fundos/\"\n",
    "    }\n",
    "\n",
    "    if stage_tables == None:\n",
    "        for s in list(paths.keys()):\n",
    "            path_stage = paths[s]\n",
    "            print(path_stage)\n",
    "\n",
    "    else:\n",
    "        for s in stage_tables:\n",
    "            path_stage = paths[s]\n",
    "            print(path_stage)\n"
   ]
  },
  {
   "cell_type": "code",
   "execution_count": 13,
   "id": "557afd43-6c07-4a82-94f5-7b5e8e20c8a9",
   "metadata": {},
   "outputs": [
    {
     "name": "stdout",
     "output_type": "stream",
     "text": [
      "/stage/fundos/\n"
     ]
    }
   ],
   "source": [
    "test(['fundos'])"
   ]
  },
  {
   "cell_type": "code",
   "execution_count": 7,
   "id": "5edf0c22",
   "metadata": {},
   "outputs": [],
   "source": [
    "lista_tabelas = ['metricas','fundos']"
   ]
  },
  {
   "cell_type": "code",
   "execution_count": 8,
   "id": "3b41db95",
   "metadata": {},
   "outputs": [
    {
     "data": {
      "text/plain": [
       "'metricas'"
      ]
     },
     "execution_count": 8,
     "metadata": {},
     "output_type": "execute_result"
    }
   ],
   "source": [
    "lista_tabelas[0]"
   ]
  },
  {
   "cell_type": "code",
   "execution_count": 1,
   "id": "887fbf1c",
   "metadata": {},
   "outputs": [],
   "source": [
    "dfs = {\n",
    "    \"fundos\": 1,\n",
    "    \"metricas\": 2\n",
    "    }\n"
   ]
  },
  {
   "cell_type": "code",
   "execution_count": 6,
   "id": "2da2d792",
   "metadata": {},
   "outputs": [
    {
     "name": "stdout",
     "output_type": "stream",
     "text": [
      "1\n",
      "2\n"
     ]
    }
   ],
   "source": [
    "\n",
    "for table_name, df in dfs.items():\n",
    "    print(df)"
   ]
  },
  {
   "cell_type": "code",
   "execution_count": null,
   "id": "5abf91da",
   "metadata": {},
   "outputs": [],
   "source": []
  },
  {
   "cell_type": "code",
   "execution_count": null,
   "id": "30ef21b9",
   "metadata": {},
   "outputs": [],
   "source": []
  },
  {
   "cell_type": "code",
   "execution_count": null,
   "id": "aa1c20a6-4984-4b62-86fb-5ad3662b25c0",
   "metadata": {},
   "outputs": [],
   "source": [
    "# df_ranked =(df\n",
    "#              .withColumn('rank', row_number().over(w.partitionBy('id_fundo').orderBy('data')))\n",
    "#              .withColumn(\n",
    "#                         \"var_95\",\n",
    "#                         when(col(\"rank\") > 252, lit(\"calcular_aqui\")) \n",
    "#                         .otherwise(lit(None)) )\n",
    "# )\n",
    "\n",
    "# calcule o var"
   ]
  },
  {
   "cell_type": "code",
   "execution_count": null,
   "id": "654f5cd0-98d6-4801-b060-27e18ba40844",
   "metadata": {},
   "outputs": [],
   "source": [
    "\n",
    "\n",
    "# ## variação cota dia\n",
    "# df_fi = (\n",
    "#     df_fi.withColumn('cota_dia_anterior',\n",
    "#                          f.lag(f.col('cota')).over(W.partitionBy(f.col('cnpj_fundo'))\n",
    "#                                                      .orderBy(f.col('data_referencia'))))\n",
    "#         .withColumn(\"variacao_cota_dia\",\n",
    "#             f.when(\n",
    "#                    (f.col(\"cota_dia_anterior\").isNotNull()) & (f.col(\"cota_dia_anterior\") != 0),\n",
    "#                     f.round(((f.col(\"cota\") - f.col(\"cota_dia_anterior\")) / f.col(\"cota_dia_anterior\")) * 100,4)))\n",
    "#         .withColumn(\"ano\", f.year(f.col(\"data_referencia\")))\n",
    "#         .withColumn(\"mes\",f.month(f.col(\"data_referencia\")))\n",
    "#         .withColumn(\"net\",\n",
    "#                    f.col(\"valor_aplicacoes\") - f.col(\"valor_resgates\"))\n",
    "#         .withColumn(\"pl_d1\",\n",
    "#                     f.lag(f.col(\"pl_fundo\")).over(W.partitionBy(f.col(\"cnpj_fundo\"))\n",
    "#                                                     .orderBy(f.col(\"data_referencia\")))\n",
    "#                     )\n",
    "#         .withColumn('pnl',f.col('pl_fundo') - f.col('pl_d1') - f.col('net'))\n",
    "#         .withColumn(\"dt_ingest\", f.current_date())\n",
    "#         .select(\n",
    "#              'cnpj_fundo',\n",
    "#              'pl_fundo',\n",
    "#              'cota',\n",
    "#              'qtd_cotistas',\n",
    "#              'valor_aplicacoes',\n",
    "#              'valor_resgates',\n",
    "#              'net',\n",
    "#              'pnl',\n",
    "#              'valor_carteira',\n",
    "#              'data_referencia',\n",
    "#              'variacao_cota_dia',\n",
    "#              'data_referencia',\n",
    "#              'mes',\n",
    "#              'ano',\n",
    "#             'dt_ingest')\n",
    "             \n",
    "# ).orderBy('data_referencia')"
   ]
  },
  {
   "cell_type": "code",
   "execution_count": null,
   "id": "bf2c531c-94e0-4d88-bbaa-a9e585ee9c6a",
   "metadata": {},
   "outputs": [],
   "source": []
  },
  {
   "cell_type": "code",
   "execution_count": null,
   "id": "c5cf4754-ee2d-41a1-82e9-6f676f04a661",
   "metadata": {},
   "outputs": [],
   "source": []
  },
  {
   "cell_type": "code",
   "execution_count": null,
   "id": "ece80b70-3be4-46da-8dfa-d38d8b868e62",
   "metadata": {},
   "outputs": [],
   "source": []
  },
  {
   "cell_type": "markdown",
   "id": "ae4f8ed9-5be0-4fd8-bc3a-2d9ff35395e9",
   "metadata": {},
   "source": [
    "# BACKUP"
   ]
  },
  {
   "cell_type": "code",
   "execution_count": null,
   "id": "f6b8d5c1-179d-4206-a571-65b3648c3beb",
   "metadata": {},
   "outputs": [],
   "source": [
    "df = (df\n",
    "    .filter(f.col('TP_FUNDO_CLASSE')=='FI')\n",
    "    .filter(f.abs(f.col('VL_PATRIM_LIQ')) < 1e24)\n",
    "    .filter(f.abs(f.col('VL_QUOTA')) < 1e12)\n",
    "    .drop('VL_TOTAL')\n",
    "    .withColumn('CNPJ_FUNDO_CLASSE',f.regexp_replace(f.col('CNPJ_FUNDO_CLASSE'), r'[./-]', ''))\n",
    "    .withColumn('ano',f.year(f.col('DT_COMPTC')))\n",
    "    .withColumn('pl_fundo', f.round(f.col('VL_PATRIM_LIQ'), 4))\n",
    "    .withColumn('cota', f.round(f.col('VL_QUOTA'), 4))\n",
    "    .withColumn('valor_resgates', f.round(f.col('RESG_DIA'), 4))\n",
    "    .withColumn('valor_aplicacoes', f.round(f.col('CAPTC_DIA'), 4))\n",
    "    .select(\n",
    "        f.col('CNPJ_FUNDO_CLASSE').alias('cnpj_fundo'),\n",
    "        f.col('NR_COTST').alias('qtd_cotistas'),\n",
    "        f.col('valor_resgates'),\n",
    "        f.col('valor_aplicacoes'),\n",
    "        f.col('cota'),\n",
    "        f.col('pl_fundo'),\n",
    "        f.col('DT_COMPTC').alias('data_referencia'),\n",
    "        f.col('ano'),\n",
    "        f.current_date().alias('dt_ingest'))\n",
    ")"
   ]
  },
  {
   "cell_type": "code",
   "execution_count": null,
   "id": "5d6c7271-e6b3-4461-86b3-96d48551dfd7",
   "metadata": {},
   "outputs": [],
   "source": []
  }
 ],
 "metadata": {
  "kernelspec": {
   "display_name": "venv",
   "language": "python",
   "name": "python3"
  },
  "language_info": {
   "codemirror_mode": {
    "name": "ipython",
    "version": 3
   },
   "file_extension": ".py",
   "mimetype": "text/x-python",
   "name": "python",
   "nbconvert_exporter": "python",
   "pygments_lexer": "ipython3",
   "version": "3.12.3"
  }
 },
 "nbformat": 4,
 "nbformat_minor": 5
}
