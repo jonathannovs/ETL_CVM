{
 "cells": [
  {
   "cell_type": "code",
   "execution_count": 1,
   "id": "1b3cc77d",
   "metadata": {},
   "outputs": [
    {
     "name": "stdout",
     "output_type": "stream",
     "text": [
      "test\n"
     ]
    }
   ],
   "source": [
    "print('test')"
   ]
  },
  {
   "cell_type": "code",
   "execution_count": 71,
   "id": "072152d1",
   "metadata": {},
   "outputs": [],
   "source": [
    "import requests\n",
    "import pandas as pd\n",
    "import zipfile\n",
    "import os\n",
    "import time\n",
    "from io import BytesIO\n",
    "import logging\n",
    "import sys # Usado para direcionar o log para o console\n",
    "from datetime import datetime\n",
    "from tqdm import tqdm\n",
    "import boto3\n",
    "\n",
    "\n",
    "# Configura os handlers: um para o arquivo e outro para o console\n",
    "# file_handler = logging.FileHandler(\"data_download.log\") # Salva em um arquivo\n",
    "# stream_handler = logging.StreamHandler(sys.stdout) # Mostra no console"
   ]
  },
  {
   "cell_type": "code",
   "execution_count": 16,
   "id": "ea723c3b",
   "metadata": {},
   "outputs": [],
   "source": [
    "logging.basicConfig(level=logging.INFO, format='%(asctime)s - %(levelname)s - %(message)s')"
   ]
  },
  {
   "cell_type": "code",
   "execution_count": null,
   "id": "682499f3",
   "metadata": {},
   "outputs": [
    {
     "name": "stderr",
     "output_type": "stream",
     "text": [
      "Baixando relatórios:   0%|          | 0/43 [00:00<?, ?mês/s]"
     ]
    },
    {
     "name": "stdout",
     "output_type": "stream",
     "text": [
      "2025-07-27 22:45:00,197 - INFO - Processando 202201...\n",
      "2025-07-27 22:45:00,198 - INFO - Processando 202202...\n",
      "2025-07-27 22:45:00,198 - INFO - Processando 202203...\n",
      "2025-07-27 22:45:00,198 - INFO - Processando 202204...\n",
      "2025-07-27 22:45:00,199 - INFO - Processando 202205...\n",
      "2025-07-27 22:45:00,199 - INFO - Processando 202206...\n",
      "2025-07-27 22:45:00,199 - INFO - Processando 202207...\n",
      "2025-07-27 22:45:00,200 - INFO - Processando 202208...\n",
      "2025-07-27 22:45:00,200 - INFO - Processando 202209...\n",
      "2025-07-27 22:45:00,200 - INFO - Processando 202210...\n",
      "2025-07-27 22:45:00,201 - INFO - Processando 202211...\n",
      "2025-07-27 22:45:00,201 - INFO - Processando 202212...\n",
      "2025-07-27 22:45:00,202 - INFO - Processando 202301...\n",
      "2025-07-27 22:45:00,202 - INFO - Processando 202302...\n",
      "2025-07-27 22:45:00,202 - INFO - Processando 202303...\n",
      "2025-07-27 22:45:00,203 - INFO - Processando 202304...\n",
      "2025-07-27 22:45:00,203 - INFO - Processando 202305...\n",
      "2025-07-27 22:45:00,203 - INFO - Processando 202306...\n",
      "2025-07-27 22:45:00,204 - INFO - Processando 202307...\n",
      "2025-07-27 22:45:00,205 - INFO - Processando 202308...\n",
      "2025-07-27 22:45:00,205 - INFO - Processando 202309...\n",
      "2025-07-27 22:45:00,206 - INFO - Processando 202310...\n",
      "2025-07-27 22:45:00,206 - INFO - Processando 202311...\n",
      "2025-07-27 22:45:00,207 - INFO - Processando 202312...\n",
      "2025-07-27 22:45:00,208 - INFO - Processando 202401...\n",
      "2025-07-27 22:45:00,208 - INFO - Processando 202402...\n",
      "2025-07-27 22:45:00,209 - INFO - Processando 202403...\n",
      "2025-07-27 22:45:00,209 - INFO - Processando 202404...\n",
      "2025-07-27 22:45:00,209 - INFO - Processando 202405...\n",
      "2025-07-27 22:45:00,210 - INFO - Processando 202406...\n",
      "2025-07-27 22:45:00,210 - INFO - Processando 202407...\n",
      "2025-07-27 22:45:00,210 - INFO - Processando 202408...\n",
      "2025-07-27 22:45:00,211 - INFO - Processando 202409...\n",
      "2025-07-27 22:45:00,211 - INFO - Processando 202410...\n",
      "2025-07-27 22:45:00,211 - INFO - Processando 202411...\n",
      "2025-07-27 22:45:00,212 - INFO - Processando 202412...\n",
      "2025-07-27 22:45:00,212 - INFO - Processando 202501...\n",
      "2025-07-27 22:45:00,213 - INFO - Processando 202502...\n",
      "2025-07-27 22:45:00,213 - INFO - Processando 202503...\n",
      "2025-07-27 22:45:00,214 - INFO - Processando 202504...\n",
      "2025-07-27 22:45:00,214 - INFO - Processando 202505...\n",
      "2025-07-27 22:45:00,215 - INFO - Processando 202506...\n",
      "2025-07-27 22:45:00,215 - INFO - Processando 202507...\n"
     ]
    },
    {
     "name": "stderr",
     "output_type": "stream",
     "text": [
      "Baixando relatórios: 100%|██████████| 43/43 [00:00<00:00, 2291.10mês/s]\n"
     ]
    }
   ],
   "source": [
    "logging.basicConfig(level=logging.INFO)\n",
    "start_date = 2022\n",
    "end_date = datetime.now().date()\n",
    "end_year = end_date.year\n",
    "end_month = end_date.month\n",
    "output_dir = \"/home/jonanov/Documentos/Data_engineer/PROJETOS/ETL_01/data\"\n",
    "os.makedirs(output_dir, exist_ok=True)\n",
    "\n",
    "# Criar lista de (ano, mês)\n",
    "periodos = []\n",
    "for year in range(start_date, end_year + 1):\n",
    "    for month in range(1, 13):\n",
    "        if year == end_year and month > end_month:\n",
    "            break\n",
    "        periodos.append((year, month))\n",
    "\n",
    "for year, month in tqdm(periodos, desc=\"Baixando relatórios\", unit=\"mês\"):\n",
    "    yyyymm = f\"{year}{month:02d}\"\n",
    "    url = f\"https://dados.cvm.gov.br/dados/FI/DOC/INF_DIARIO/DADOS/inf_diario_fi_{yyyymm}.zip\"\n",
    "    logging.info(f\"Processando Relatório_{yyyymm}\")"
   ]
  },
  {
   "cell_type": "code",
   "execution_count": null,
   "id": "338d9cb2",
   "metadata": {},
   "outputs": [
    {
     "name": "stderr",
     "output_type": "stream",
     "text": [
      "Relatórios: 100%|██████████| 12/12 [00:12<00:00,  1.00s/it]\n",
      "Relatórios: 100%|██████████| 12/12 [00:12<00:00,  1.00s/it]\n",
      "Relatórios: 100%|██████████| 12/12 [00:12<00:00,  1.00s/it]\n",
      "Relatórios:  58%|█████▊    | 7/12 [00:07<00:05,  1.00s/it]\n"
     ]
    }
   ],
   "source": [
    "# for year in range(start_date, end_year + 1):\n",
    "#     for month in tqdm(range(1, 13), desc=\"Relatórios\"):\n",
    "#         if year == end_year and month > end_month:\n",
    "#             break  # não tenta baixar meses futuros\n",
    "#         time.sleep(1)\n",
    "#         yyyymm = f\"{year}{month:02d}\"\n"
   ]
  },
  {
   "cell_type": "code",
   "execution_count": 68,
   "id": "cfbb74e8",
   "metadata": {},
   "outputs": [],
   "source": [
    "class ExtractCvm:\n",
    "\n",
    "    def __init__(self,start_date, output_dir, end_date=None):\n",
    "        self.start_date = start_date\n",
    "        self.output_dir = output_dir\n",
    "        self.end_date = end_date or datetime.now().date()\n",
    "        self.end_year = self.end_date.year\n",
    "        self.end_month = self.end_date.month\n",
    "\n",
    "\n",
    "    def extract_info_diary(self):\n",
    "\n",
    "        periodos = []\n",
    "        for year in range(self.start_date, self.end_year + 1):\n",
    "            for month in range(1, 13):\n",
    "                if year == self.end_year and month > self.end_month:\n",
    "                    break\n",
    "                periodos.append((year, month))\n",
    "\n",
    "        for year, month in tqdm(periodos, desc=\"Baixando relatórios\", unit=\"mês\"):\n",
    "            yyyymm = f\"{year}{month:02d}\"\n",
    "            url = f\"https://dados.cvm.gov.br/dados/FI/DOC/INF_DIARIO/DADOS/inf_diario_fi_{yyyymm}.zip\"\n",
    "            #logging.info(f\"Processando Relatório_{yyyymm}...\")\n",
    "            os.makedirs(self.output_dir, exist_ok=True)\n",
    "\n",
    "            try:\n",
    "                response = requests.get(url)\n",
    "                response.raise_for_status()\n",
    "                zip_file_in_memory = BytesIO(response.content)\n",
    "\n",
    "                with zipfile.ZipFile(zip_file_in_memory) as zf:\n",
    "                    csv_zip = zf.namelist()[0]\n",
    "                    df = pd.read_csv(zf.open(csv_zip), sep=';', encoding='latin1')\n",
    "                    output_path = os.path.join(self.output_dir, f\"inf_diario_fi_{yyyymm}.csv\")\n",
    "                    df.to_csv(output_path, index=False)\n",
    "\n",
    "                    logging.info(f\"Arquivo salvo em: {output_path}\")\n",
    "\n",
    "            except requests.exceptions.HTTPError as err:\n",
    "                logging.exception(f\"Erro HTTP: O arquivo para {month:02d}/{year} não foi encontrado ou o servidor retornou um erro.\")\n",
    "\n",
    "            except Exception as err:\n",
    "                logging.exception(f\"Erro inesperado em {month:02d}/{year}: {err}\")\n",
    "\n"
   ]
  },
  {
   "cell_type": "code",
   "execution_count": 69,
   "id": "c903c1e4",
   "metadata": {},
   "outputs": [
    {
     "name": "stderr",
     "output_type": "stream",
     "text": [
      "Baixando relatórios:   0%|          | 0/43 [00:00<?, ?mês/s]"
     ]
    },
    {
     "name": "stdout",
     "output_type": "stream",
     "text": [
      "2025-07-27 23:23:36,121 - INFO - Arquivo salvo em: /home/jonanov/Documentos/Data_engineer/PROJETOS/ETL_01/data/inf_diario_fi_202201.csv\n"
     ]
    },
    {
     "name": "stderr",
     "output_type": "stream",
     "text": [
      "Baixando relatórios:   2%|▏         | 1/43 [00:02<01:56,  2.78s/mês]"
     ]
    },
    {
     "name": "stdout",
     "output_type": "stream",
     "text": [
      "2025-07-27 23:23:38,563 - INFO - Arquivo salvo em: /home/jonanov/Documentos/Data_engineer/PROJETOS/ETL_01/data/inf_diario_fi_202202.csv\n"
     ]
    },
    {
     "name": "stderr",
     "output_type": "stream",
     "text": [
      "Baixando relatórios:   5%|▍         | 2/43 [00:05<01:45,  2.58s/mês]"
     ]
    },
    {
     "name": "stdout",
     "output_type": "stream",
     "text": [
      "2025-07-27 23:23:41,376 - INFO - Arquivo salvo em: /home/jonanov/Documentos/Data_engineer/PROJETOS/ETL_01/data/inf_diario_fi_202203.csv\n"
     ]
    },
    {
     "name": "stderr",
     "output_type": "stream",
     "text": [
      "Baixando relatórios:   7%|▋         | 3/43 [00:08<01:47,  2.69s/mês]"
     ]
    },
    {
     "name": "stdout",
     "output_type": "stream",
     "text": [
      "2025-07-27 23:23:43,905 - INFO - Arquivo salvo em: /home/jonanov/Documentos/Data_engineer/PROJETOS/ETL_01/data/inf_diario_fi_202204.csv\n"
     ]
    },
    {
     "name": "stderr",
     "output_type": "stream",
     "text": [
      "Baixando relatórios:   9%|▉         | 4/43 [00:10<01:42,  2.62s/mês]"
     ]
    },
    {
     "name": "stdout",
     "output_type": "stream",
     "text": [
      "2025-07-27 23:23:46,755 - INFO - Arquivo salvo em: /home/jonanov/Documentos/Data_engineer/PROJETOS/ETL_01/data/inf_diario_fi_202205.csv\n"
     ]
    },
    {
     "name": "stderr",
     "output_type": "stream",
     "text": [
      "Baixando relatórios:  12%|█▏        | 5/43 [00:13<01:42,  2.71s/mês]"
     ]
    },
    {
     "name": "stdout",
     "output_type": "stream",
     "text": [
      "2025-07-27 23:23:49,520 - INFO - Arquivo salvo em: /home/jonanov/Documentos/Data_engineer/PROJETOS/ETL_01/data/inf_diario_fi_202206.csv\n"
     ]
    },
    {
     "name": "stderr",
     "output_type": "stream",
     "text": [
      "Baixando relatórios:  14%|█▍        | 6/43 [00:16<01:40,  2.73s/mês]"
     ]
    },
    {
     "name": "stdout",
     "output_type": "stream",
     "text": [
      "2025-07-27 23:23:52,518 - INFO - Arquivo salvo em: /home/jonanov/Documentos/Data_engineer/PROJETOS/ETL_01/data/inf_diario_fi_202207.csv\n"
     ]
    },
    {
     "name": "stderr",
     "output_type": "stream",
     "text": [
      "Baixando relatórios:  16%|█▋        | 7/43 [00:19<01:41,  2.81s/mês]"
     ]
    },
    {
     "name": "stdout",
     "output_type": "stream",
     "text": [
      "2025-07-27 23:23:55,646 - INFO - Arquivo salvo em: /home/jonanov/Documentos/Data_engineer/PROJETOS/ETL_01/data/inf_diario_fi_202208.csv\n"
     ]
    },
    {
     "name": "stderr",
     "output_type": "stream",
     "text": [
      "Baixando relatórios:  19%|█▊        | 8/43 [00:22<01:42,  2.91s/mês]"
     ]
    },
    {
     "name": "stdout",
     "output_type": "stream",
     "text": [
      "2025-07-27 23:23:58,526 - INFO - Arquivo salvo em: /home/jonanov/Documentos/Data_engineer/PROJETOS/ETL_01/data/inf_diario_fi_202209.csv\n"
     ]
    },
    {
     "name": "stderr",
     "output_type": "stream",
     "text": [
      "Baixando relatórios:  21%|██        | 9/43 [00:25<01:38,  2.90s/mês]"
     ]
    },
    {
     "name": "stdout",
     "output_type": "stream",
     "text": [
      "2025-07-27 23:24:01,302 - INFO - Arquivo salvo em: /home/jonanov/Documentos/Data_engineer/PROJETOS/ETL_01/data/inf_diario_fi_202210.csv\n"
     ]
    },
    {
     "name": "stderr",
     "output_type": "stream",
     "text": [
      "Baixando relatórios:  23%|██▎       | 10/43 [00:27<01:34,  2.86s/mês]"
     ]
    },
    {
     "name": "stdout",
     "output_type": "stream",
     "text": [
      "2025-07-27 23:24:04,111 - INFO - Arquivo salvo em: /home/jonanov/Documentos/Data_engineer/PROJETOS/ETL_01/data/inf_diario_fi_202211.csv\n"
     ]
    },
    {
     "name": "stderr",
     "output_type": "stream",
     "text": [
      "Baixando relatórios:  26%|██▌       | 11/43 [00:30<01:31,  2.85s/mês]"
     ]
    },
    {
     "name": "stdout",
     "output_type": "stream",
     "text": [
      "2025-07-27 23:24:07,044 - INFO - Arquivo salvo em: /home/jonanov/Documentos/Data_engineer/PROJETOS/ETL_01/data/inf_diario_fi_202212.csv\n"
     ]
    },
    {
     "name": "stderr",
     "output_type": "stream",
     "text": [
      "Baixando relatórios:  28%|██▊       | 12/43 [00:33<01:29,  2.87s/mês]"
     ]
    },
    {
     "name": "stdout",
     "output_type": "stream",
     "text": [
      "2025-07-27 23:24:10,480 - INFO - Arquivo salvo em: /home/jonanov/Documentos/Data_engineer/PROJETOS/ETL_01/data/inf_diario_fi_202301.csv\n"
     ]
    },
    {
     "name": "stderr",
     "output_type": "stream",
     "text": [
      "Baixando relatórios:  30%|███       | 13/43 [00:37<01:31,  3.04s/mês]"
     ]
    },
    {
     "name": "stdout",
     "output_type": "stream",
     "text": [
      "2025-07-27 23:24:13,115 - INFO - Arquivo salvo em: /home/jonanov/Documentos/Data_engineer/PROJETOS/ETL_01/data/inf_diario_fi_202302.csv\n"
     ]
    },
    {
     "name": "stderr",
     "output_type": "stream",
     "text": [
      "Baixando relatórios:  33%|███▎      | 14/43 [00:39<01:24,  2.92s/mês]"
     ]
    },
    {
     "name": "stdout",
     "output_type": "stream",
     "text": [
      "2025-07-27 23:24:16,535 - INFO - Arquivo salvo em: /home/jonanov/Documentos/Data_engineer/PROJETOS/ETL_01/data/inf_diario_fi_202303.csv\n"
     ]
    },
    {
     "name": "stderr",
     "output_type": "stream",
     "text": [
      "Baixando relatórios:  35%|███▍      | 15/43 [00:43<01:25,  3.07s/mês]"
     ]
    },
    {
     "name": "stdout",
     "output_type": "stream",
     "text": [
      "2025-07-27 23:24:18,944 - INFO - Arquivo salvo em: /home/jonanov/Documentos/Data_engineer/PROJETOS/ETL_01/data/inf_diario_fi_202304.csv\n"
     ]
    },
    {
     "name": "stderr",
     "output_type": "stream",
     "text": [
      "Baixando relatórios:  37%|███▋      | 16/43 [00:45<01:17,  2.87s/mês]"
     ]
    },
    {
     "name": "stdout",
     "output_type": "stream",
     "text": [
      "2025-07-27 23:24:21,949 - INFO - Arquivo salvo em: /home/jonanov/Documentos/Data_engineer/PROJETOS/ETL_01/data/inf_diario_fi_202305.csv\n"
     ]
    },
    {
     "name": "stderr",
     "output_type": "stream",
     "text": [
      "Baixando relatórios:  40%|███▉      | 17/43 [00:48<01:15,  2.91s/mês]"
     ]
    },
    {
     "name": "stdout",
     "output_type": "stream",
     "text": [
      "2025-07-27 23:24:25,521 - INFO - Arquivo salvo em: /home/jonanov/Documentos/Data_engineer/PROJETOS/ETL_01/data/inf_diario_fi_202306.csv\n"
     ]
    },
    {
     "name": "stderr",
     "output_type": "stream",
     "text": [
      "Baixando relatórios:  42%|████▏     | 18/43 [00:52<01:17,  3.11s/mês]"
     ]
    },
    {
     "name": "stdout",
     "output_type": "stream",
     "text": [
      "2025-07-27 23:24:28,528 - INFO - Arquivo salvo em: /home/jonanov/Documentos/Data_engineer/PROJETOS/ETL_01/data/inf_diario_fi_202307.csv\n"
     ]
    },
    {
     "name": "stderr",
     "output_type": "stream",
     "text": [
      "Baixando relatórios:  44%|████▍     | 19/43 [00:55<01:13,  3.08s/mês]"
     ]
    },
    {
     "name": "stdout",
     "output_type": "stream",
     "text": [
      "2025-07-27 23:24:31,856 - INFO - Arquivo salvo em: /home/jonanov/Documentos/Data_engineer/PROJETOS/ETL_01/data/inf_diario_fi_202308.csv\n"
     ]
    },
    {
     "name": "stderr",
     "output_type": "stream",
     "text": [
      "Baixando relatórios:  47%|████▋     | 20/43 [00:58<01:12,  3.15s/mês]"
     ]
    },
    {
     "name": "stdout",
     "output_type": "stream",
     "text": [
      "2025-07-27 23:24:35,048 - INFO - Arquivo salvo em: /home/jonanov/Documentos/Data_engineer/PROJETOS/ETL_01/data/inf_diario_fi_202309.csv\n"
     ]
    },
    {
     "name": "stderr",
     "output_type": "stream",
     "text": [
      "Baixando relatórios:  49%|████▉     | 21/43 [01:01<01:09,  3.16s/mês]"
     ]
    },
    {
     "name": "stdout",
     "output_type": "stream",
     "text": [
      "2025-07-27 23:24:38,041 - INFO - Arquivo salvo em: /home/jonanov/Documentos/Data_engineer/PROJETOS/ETL_01/data/inf_diario_fi_202310.csv\n"
     ]
    },
    {
     "name": "stderr",
     "output_type": "stream",
     "text": [
      "Baixando relatórios:  51%|█████     | 22/43 [01:04<01:05,  3.11s/mês]"
     ]
    },
    {
     "name": "stdout",
     "output_type": "stream",
     "text": [
      "2025-07-27 23:24:40,895 - INFO - Arquivo salvo em: /home/jonanov/Documentos/Data_engineer/PROJETOS/ETL_01/data/inf_diario_fi_202311.csv\n"
     ]
    },
    {
     "name": "stderr",
     "output_type": "stream",
     "text": [
      "Baixando relatórios:  53%|█████▎    | 23/43 [01:07<01:00,  3.04s/mês]"
     ]
    },
    {
     "name": "stdout",
     "output_type": "stream",
     "text": [
      "2025-07-27 23:24:43,996 - INFO - Arquivo salvo em: /home/jonanov/Documentos/Data_engineer/PROJETOS/ETL_01/data/inf_diario_fi_202312.csv\n"
     ]
    },
    {
     "name": "stderr",
     "output_type": "stream",
     "text": [
      "Baixando relatórios:  56%|█████▌    | 24/43 [01:10<00:58,  3.06s/mês]"
     ]
    },
    {
     "name": "stdout",
     "output_type": "stream",
     "text": [
      "2025-07-27 23:24:47,342 - INFO - Arquivo salvo em: /home/jonanov/Documentos/Data_engineer/PROJETOS/ETL_01/data/inf_diario_fi_202401.csv\n"
     ]
    },
    {
     "name": "stderr",
     "output_type": "stream",
     "text": [
      "Baixando relatórios:  58%|█████▊    | 25/43 [01:13<00:56,  3.14s/mês]"
     ]
    },
    {
     "name": "stdout",
     "output_type": "stream",
     "text": [
      "2025-07-27 23:24:50,297 - INFO - Arquivo salvo em: /home/jonanov/Documentos/Data_engineer/PROJETOS/ETL_01/data/inf_diario_fi_202402.csv\n"
     ]
    },
    {
     "name": "stderr",
     "output_type": "stream",
     "text": [
      "Baixando relatórios:  60%|██████    | 26/43 [01:16<00:52,  3.09s/mês]"
     ]
    },
    {
     "name": "stdout",
     "output_type": "stream",
     "text": [
      "2025-07-27 23:24:53,489 - INFO - Arquivo salvo em: /home/jonanov/Documentos/Data_engineer/PROJETOS/ETL_01/data/inf_diario_fi_202403.csv\n"
     ]
    },
    {
     "name": "stderr",
     "output_type": "stream",
     "text": [
      "Baixando relatórios:  63%|██████▎   | 27/43 [01:20<00:49,  3.12s/mês]"
     ]
    },
    {
     "name": "stdout",
     "output_type": "stream",
     "text": [
      "2025-07-27 23:24:56,756 - INFO - Arquivo salvo em: /home/jonanov/Documentos/Data_engineer/PROJETOS/ETL_01/data/inf_diario_fi_202404.csv\n"
     ]
    },
    {
     "name": "stderr",
     "output_type": "stream",
     "text": [
      "Baixando relatórios:  65%|██████▌   | 28/43 [01:23<00:47,  3.16s/mês]"
     ]
    },
    {
     "name": "stdout",
     "output_type": "stream",
     "text": [
      "2025-07-27 23:24:59,851 - INFO - Arquivo salvo em: /home/jonanov/Documentos/Data_engineer/PROJETOS/ETL_01/data/inf_diario_fi_202405.csv\n"
     ]
    },
    {
     "name": "stderr",
     "output_type": "stream",
     "text": [
      "Baixando relatórios:  67%|██████▋   | 29/43 [01:26<00:43,  3.14s/mês]"
     ]
    },
    {
     "name": "stdout",
     "output_type": "stream",
     "text": [
      "2025-07-27 23:25:03,013 - INFO - Arquivo salvo em: /home/jonanov/Documentos/Data_engineer/PROJETOS/ETL_01/data/inf_diario_fi_202406.csv\n"
     ]
    },
    {
     "name": "stderr",
     "output_type": "stream",
     "text": [
      "Baixando relatórios:  70%|██████▉   | 30/43 [01:29<00:40,  3.15s/mês]"
     ]
    },
    {
     "name": "stdout",
     "output_type": "stream",
     "text": [
      "2025-07-27 23:25:07,629 - INFO - Arquivo salvo em: /home/jonanov/Documentos/Data_engineer/PROJETOS/ETL_01/data/inf_diario_fi_202407.csv\n"
     ]
    },
    {
     "name": "stderr",
     "output_type": "stream",
     "text": [
      "Baixando relatórios:  72%|███████▏  | 31/43 [01:34<00:43,  3.59s/mês]"
     ]
    },
    {
     "name": "stdout",
     "output_type": "stream",
     "text": [
      "2025-07-27 23:25:11,180 - INFO - Arquivo salvo em: /home/jonanov/Documentos/Data_engineer/PROJETOS/ETL_01/data/inf_diario_fi_202408.csv\n"
     ]
    },
    {
     "name": "stderr",
     "output_type": "stream",
     "text": [
      "Baixando relatórios:  74%|███████▍  | 32/43 [01:37<00:39,  3.58s/mês]"
     ]
    },
    {
     "name": "stdout",
     "output_type": "stream",
     "text": [
      "2025-07-27 23:25:14,590 - INFO - Arquivo salvo em: /home/jonanov/Documentos/Data_engineer/PROJETOS/ETL_01/data/inf_diario_fi_202409.csv\n"
     ]
    },
    {
     "name": "stderr",
     "output_type": "stream",
     "text": [
      "Baixando relatórios:  77%|███████▋  | 33/43 [01:41<00:35,  3.53s/mês]/tmp/ipykernel_809256/2256072350.py:33: DtypeWarning: Columns (2) have mixed types. Specify dtype option on import or set low_memory=False.\n",
      "  df = pd.read_csv(zf.open(csv_zip), sep=';', encoding='latin1')\n"
     ]
    },
    {
     "name": "stdout",
     "output_type": "stream",
     "text": [
      "2025-07-27 23:25:18,106 - INFO - Arquivo salvo em: /home/jonanov/Documentos/Data_engineer/PROJETOS/ETL_01/data/inf_diario_fi_202410.csv\n"
     ]
    },
    {
     "name": "stderr",
     "output_type": "stream",
     "text": [
      "Baixando relatórios:  79%|███████▉  | 34/43 [01:44<00:31,  3.52s/mês]/tmp/ipykernel_809256/2256072350.py:33: DtypeWarning: Columns (2) have mixed types. Specify dtype option on import or set low_memory=False.\n",
      "  df = pd.read_csv(zf.open(csv_zip), sep=';', encoding='latin1')\n"
     ]
    },
    {
     "name": "stdout",
     "output_type": "stream",
     "text": [
      "2025-07-27 23:25:21,112 - INFO - Arquivo salvo em: /home/jonanov/Documentos/Data_engineer/PROJETOS/ETL_01/data/inf_diario_fi_202411.csv\n"
     ]
    },
    {
     "name": "stderr",
     "output_type": "stream",
     "text": [
      "Baixando relatórios:  81%|████████▏ | 35/43 [01:47<00:26,  3.37s/mês]/tmp/ipykernel_809256/2256072350.py:33: DtypeWarning: Columns (2) have mixed types. Specify dtype option on import or set low_memory=False.\n",
      "  df = pd.read_csv(zf.open(csv_zip), sep=';', encoding='latin1')\n"
     ]
    },
    {
     "name": "stdout",
     "output_type": "stream",
     "text": [
      "2025-07-27 23:25:24,267 - INFO - Arquivo salvo em: /home/jonanov/Documentos/Data_engineer/PROJETOS/ETL_01/data/inf_diario_fi_202412.csv\n"
     ]
    },
    {
     "name": "stderr",
     "output_type": "stream",
     "text": [
      "Baixando relatórios:  84%|████████▎ | 36/43 [01:50<00:23,  3.30s/mês]/tmp/ipykernel_809256/2256072350.py:33: DtypeWarning: Columns (2) have mixed types. Specify dtype option on import or set low_memory=False.\n",
      "  df = pd.read_csv(zf.open(csv_zip), sep=';', encoding='latin1')\n"
     ]
    },
    {
     "name": "stdout",
     "output_type": "stream",
     "text": [
      "2025-07-27 23:25:27,623 - INFO - Arquivo salvo em: /home/jonanov/Documentos/Data_engineer/PROJETOS/ETL_01/data/inf_diario_fi_202501.csv\n"
     ]
    },
    {
     "name": "stderr",
     "output_type": "stream",
     "text": [
      "Baixando relatórios:  86%|████████▌ | 37/43 [01:54<00:19,  3.32s/mês]/tmp/ipykernel_809256/2256072350.py:33: DtypeWarning: Columns (2) have mixed types. Specify dtype option on import or set low_memory=False.\n",
      "  df = pd.read_csv(zf.open(csv_zip), sep=';', encoding='latin1')\n"
     ]
    },
    {
     "name": "stdout",
     "output_type": "stream",
     "text": [
      "2025-07-27 23:25:30,669 - INFO - Arquivo salvo em: /home/jonanov/Documentos/Data_engineer/PROJETOS/ETL_01/data/inf_diario_fi_202502.csv\n"
     ]
    },
    {
     "name": "stderr",
     "output_type": "stream",
     "text": [
      "Baixando relatórios:  88%|████████▊ | 38/43 [01:57<00:16,  3.24s/mês]/tmp/ipykernel_809256/2256072350.py:33: DtypeWarning: Columns (2) have mixed types. Specify dtype option on import or set low_memory=False.\n",
      "  df = pd.read_csv(zf.open(csv_zip), sep=';', encoding='latin1')\n"
     ]
    },
    {
     "name": "stdout",
     "output_type": "stream",
     "text": [
      "2025-07-27 23:25:33,547 - INFO - Arquivo salvo em: /home/jonanov/Documentos/Data_engineer/PROJETOS/ETL_01/data/inf_diario_fi_202503.csv\n"
     ]
    },
    {
     "name": "stderr",
     "output_type": "stream",
     "text": [
      "Baixando relatórios:  91%|█████████ | 39/43 [02:00<00:12,  3.13s/mês]"
     ]
    },
    {
     "name": "stdout",
     "output_type": "stream",
     "text": [
      "2025-07-27 23:25:36,535 - INFO - Arquivo salvo em: /home/jonanov/Documentos/Data_engineer/PROJETOS/ETL_01/data/inf_diario_fi_202504.csv\n"
     ]
    },
    {
     "name": "stderr",
     "output_type": "stream",
     "text": [
      "Baixando relatórios:  93%|█████████▎| 40/43 [02:03<00:09,  3.09s/mês]"
     ]
    },
    {
     "name": "stdout",
     "output_type": "stream",
     "text": [
      "2025-07-27 23:25:40,008 - INFO - Arquivo salvo em: /home/jonanov/Documentos/Data_engineer/PROJETOS/ETL_01/data/inf_diario_fi_202505.csv\n"
     ]
    },
    {
     "name": "stderr",
     "output_type": "stream",
     "text": [
      "Baixando relatórios:  95%|█████████▌| 41/43 [02:06<00:06,  3.20s/mês]"
     ]
    },
    {
     "name": "stdout",
     "output_type": "stream",
     "text": [
      "2025-07-27 23:25:43,123 - INFO - Arquivo salvo em: /home/jonanov/Documentos/Data_engineer/PROJETOS/ETL_01/data/inf_diario_fi_202506.csv\n"
     ]
    },
    {
     "name": "stderr",
     "output_type": "stream",
     "text": [
      "Baixando relatórios:  98%|█████████▊| 42/43 [02:09<00:03,  3.18s/mês]"
     ]
    },
    {
     "name": "stdout",
     "output_type": "stream",
     "text": [
      "2025-07-27 23:25:45,860 - INFO - Arquivo salvo em: /home/jonanov/Documentos/Data_engineer/PROJETOS/ETL_01/data/inf_diario_fi_202507.csv\n"
     ]
    },
    {
     "name": "stderr",
     "output_type": "stream",
     "text": [
      "Baixando relatórios: 100%|██████████| 43/43 [02:12<00:00,  3.08s/mês]\n"
     ]
    }
   ],
   "source": [
    "if __name__ == \"__main__\":\n",
    "    import logging\n",
    "    logging.basicConfig(level=logging.INFO)\n",
    "\n",
    "    extrator = ExtractCvm(start_date=2022, output_dir=\"/home/jonanov/Documentos/Data_engineer/PROJETOS/ETL_01/data\")\n",
    "    extrator.extract_info_diary()"
   ]
  },
  {
   "cell_type": "code",
   "execution_count": null,
   "id": "913c40c0",
   "metadata": {},
   "outputs": [],
   "source": [
    "\n",
    "from botocore.exceptions import ClientError\n",
    "\n",
    "class load_bucket:\n",
    "\n",
    "    def __init__(self):\n",
    "        self.bucket_name = 'bucket-cvm-fi'\n",
    "        self.local_path = local_path\n",
    "        self.s3 = boto3.client(\n",
    "            \"s3\",\n",
    "            endpoint_url=\"http://localstack:4566\",  \n",
    "            aws_access_key_id=\"test\",            \n",
    "            aws_secret_access_key=\"test\",\n",
    "            region_name=\"us-east-1\"\n",
    "        )\n",
    "\n",
    "    def create_bucket(self):\n",
    "        try:\n",
    "            self.s3.create_bucket(Bucket=self.bucket_name)\n",
    "            print(f\"Bucket '{self.bucket_name}' criado com sucesso.\")\n",
    "        except ClientError as e:\n",
    "            if e.response['Error']['Code'] == 'BucketAlreadyOwnedByYou':\n",
    "                print(f\"Bucket '{self.bucket_name}' já existe.\")\n",
    "            else:\n",
    "                print(f\"Erro ao criar o bucket: {e}\")\n",
    "\n",
    "        # Lista os buckets\n",
    "        response = self.s3.list_buckets()\n",
    "        print(\"Buckets existentes:\")\n",
    "        for bucket in response.get('Buckets', []):\n",
    "            print(f\" - {bucket['Name']}\")\n",
    "        print('#' * 50)\n",
    "\n",
    "    def insert_data(self):\n",
    "        for file_name in os.listdir(self.local_path):\n",
    "            path_full = os.path.join(self.local_path, file_name)\n",
    "\n",
    "            if os.path.isfile(path_full):\n",
    "                chave_s3 = file_name.replace(\"\\\\\", \"/\")\n",
    "\n",
    "                try:\n",
    "                    with open(path_full, \"rb\") as f:\n",
    "                        self.s3.put_object(Bucket=self.bucket_name, Key=chave_s3, Body=f)\n",
    "                    print(f\"Arquivo '{file_name}' enviado com sucesso para '{chave_s3}'.\")\n",
    "                except ClientError as e:\n",
    "                    print(f\"Erro ao enviar o arquivo '{file_name}': {e}\")\n",
    "                except Exception as e:\n",
    "                    print(f\"Erro inesperado ao enviar o arquivo '{file_name}': {e}\")\n",
    "        print('#' * 50)\n"
   ]
  },
  {
   "cell_type": "code",
   "execution_count": null,
   "id": "ea4a941f",
   "metadata": {},
   "outputs": [],
   "source": []
  },
  {
   "cell_type": "code",
   "execution_count": null,
   "id": "50e5dd3e",
   "metadata": {},
   "outputs": [],
   "source": []
  },
  {
   "cell_type": "code",
   "execution_count": 65,
   "id": "d4435545",
   "metadata": {},
   "outputs": [
    {
     "name": "stderr",
     "output_type": "stream",
     "text": [
      "Baixando relatórios:   0%|          | 0/43 [00:00<?, ?mês/s]"
     ]
    },
    {
     "name": "stdout",
     "output_type": "stream",
     "text": [
      "2025-07-27 22:48:19,382 - INFO - Processando Relatório_202201...\n",
      "2025-07-27 22:48:22,681 - INFO - Arquivo salvo: /home/jonanov/Documentos/Data_engineer/PROJETOS/ETL_01/data/inf_diario_fi_202201.csv\n"
     ]
    },
    {
     "name": "stderr",
     "output_type": "stream",
     "text": [
      "Baixando relatórios:   2%|▏         | 1/43 [00:03<02:18,  3.30s/mês]"
     ]
    },
    {
     "name": "stdout",
     "output_type": "stream",
     "text": [
      "2025-07-27 22:48:22,681 - INFO - Processando Relatório_202202...\n",
      "2025-07-27 22:48:25,132 - INFO - Arquivo salvo: /home/jonanov/Documentos/Data_engineer/PROJETOS/ETL_01/data/inf_diario_fi_202202.csv\n"
     ]
    },
    {
     "name": "stderr",
     "output_type": "stream",
     "text": [
      "Baixando relatórios:   5%|▍         | 2/43 [00:05<01:54,  2.80s/mês]"
     ]
    },
    {
     "name": "stdout",
     "output_type": "stream",
     "text": [
      "2025-07-27 22:48:25,133 - INFO - Processando Relatório_202203...\n",
      "2025-07-27 22:48:28,068 - INFO - Arquivo salvo: /home/jonanov/Documentos/Data_engineer/PROJETOS/ETL_01/data/inf_diario_fi_202203.csv\n"
     ]
    },
    {
     "name": "stderr",
     "output_type": "stream",
     "text": [
      "Baixando relatórios:   7%|▋         | 3/43 [00:08<01:54,  2.86s/mês]"
     ]
    },
    {
     "name": "stdout",
     "output_type": "stream",
     "text": [
      "2025-07-27 22:48:28,069 - INFO - Processando Relatório_202204...\n",
      "2025-07-27 22:48:30,508 - INFO - Arquivo salvo: /home/jonanov/Documentos/Data_engineer/PROJETOS/ETL_01/data/inf_diario_fi_202204.csv\n"
     ]
    },
    {
     "name": "stderr",
     "output_type": "stream",
     "text": [
      "Baixando relatórios:   9%|▉         | 4/43 [00:11<01:45,  2.70s/mês]"
     ]
    },
    {
     "name": "stdout",
     "output_type": "stream",
     "text": [
      "2025-07-27 22:48:30,509 - INFO - Processando Relatório_202205...\n",
      "2025-07-27 22:48:33,302 - INFO - Arquivo salvo: /home/jonanov/Documentos/Data_engineer/PROJETOS/ETL_01/data/inf_diario_fi_202205.csv\n"
     ]
    },
    {
     "name": "stderr",
     "output_type": "stream",
     "text": [
      "Baixando relatórios:  12%|█▏        | 5/43 [00:13<01:43,  2.73s/mês]"
     ]
    },
    {
     "name": "stdout",
     "output_type": "stream",
     "text": [
      "2025-07-27 22:48:33,302 - INFO - Processando Relatório_202206...\n",
      "2025-07-27 22:48:36,067 - INFO - Arquivo salvo: /home/jonanov/Documentos/Data_engineer/PROJETOS/ETL_01/data/inf_diario_fi_202206.csv\n"
     ]
    },
    {
     "name": "stderr",
     "output_type": "stream",
     "text": [
      "Baixando relatórios:  14%|█▍        | 6/43 [00:16<01:41,  2.74s/mês]"
     ]
    },
    {
     "name": "stdout",
     "output_type": "stream",
     "text": [
      "2025-07-27 22:48:36,068 - INFO - Processando Relatório_202207...\n",
      "2025-07-27 22:48:38,808 - INFO - Arquivo salvo: /home/jonanov/Documentos/Data_engineer/PROJETOS/ETL_01/data/inf_diario_fi_202207.csv\n"
     ]
    },
    {
     "name": "stderr",
     "output_type": "stream",
     "text": [
      "Baixando relatórios:  16%|█▋        | 7/43 [00:19<01:38,  2.74s/mês]"
     ]
    },
    {
     "name": "stdout",
     "output_type": "stream",
     "text": [
      "2025-07-27 22:48:38,809 - INFO - Processando Relatório_202208...\n",
      "2025-07-27 22:48:41,853 - INFO - Arquivo salvo: /home/jonanov/Documentos/Data_engineer/PROJETOS/ETL_01/data/inf_diario_fi_202208.csv\n"
     ]
    },
    {
     "name": "stderr",
     "output_type": "stream",
     "text": [
      "Baixando relatórios:  19%|█▊        | 8/43 [00:22<01:39,  2.84s/mês]"
     ]
    },
    {
     "name": "stdout",
     "output_type": "stream",
     "text": [
      "2025-07-27 22:48:41,854 - INFO - Processando Relatório_202209...\n",
      "2025-07-27 22:48:44,613 - INFO - Arquivo salvo: /home/jonanov/Documentos/Data_engineer/PROJETOS/ETL_01/data/inf_diario_fi_202209.csv\n"
     ]
    },
    {
     "name": "stderr",
     "output_type": "stream",
     "text": [
      "Baixando relatórios:  21%|██        | 9/43 [00:25<01:35,  2.81s/mês]"
     ]
    },
    {
     "name": "stdout",
     "output_type": "stream",
     "text": [
      "2025-07-27 22:48:44,614 - INFO - Processando Relatório_202210...\n",
      "2025-07-27 22:48:47,345 - INFO - Arquivo salvo: /home/jonanov/Documentos/Data_engineer/PROJETOS/ETL_01/data/inf_diario_fi_202210.csv\n"
     ]
    },
    {
     "name": "stderr",
     "output_type": "stream",
     "text": [
      "Baixando relatórios:  23%|██▎       | 10/43 [00:27<01:32,  2.79s/mês]"
     ]
    },
    {
     "name": "stdout",
     "output_type": "stream",
     "text": [
      "2025-07-27 22:48:47,346 - INFO - Processando Relatório_202211...\n",
      "2025-07-27 22:48:49,997 - INFO - Arquivo salvo: /home/jonanov/Documentos/Data_engineer/PROJETOS/ETL_01/data/inf_diario_fi_202211.csv\n"
     ]
    },
    {
     "name": "stderr",
     "output_type": "stream",
     "text": [
      "Baixando relatórios:  26%|██▌       | 11/43 [00:30<01:27,  2.75s/mês]"
     ]
    },
    {
     "name": "stdout",
     "output_type": "stream",
     "text": [
      "2025-07-27 22:48:49,997 - INFO - Processando Relatório_202212...\n",
      "2025-07-27 22:48:52,923 - INFO - Arquivo salvo: /home/jonanov/Documentos/Data_engineer/PROJETOS/ETL_01/data/inf_diario_fi_202212.csv\n"
     ]
    },
    {
     "name": "stderr",
     "output_type": "stream",
     "text": [
      "Baixando relatórios:  28%|██▊       | 12/43 [00:33<01:26,  2.80s/mês]"
     ]
    },
    {
     "name": "stdout",
     "output_type": "stream",
     "text": [
      "2025-07-27 22:48:52,924 - INFO - Processando Relatório_202301...\n",
      "2025-07-27 22:48:55,906 - INFO - Arquivo salvo: /home/jonanov/Documentos/Data_engineer/PROJETOS/ETL_01/data/inf_diario_fi_202301.csv\n"
     ]
    },
    {
     "name": "stderr",
     "output_type": "stream",
     "text": [
      "Baixando relatórios:  30%|███       | 13/43 [00:36<01:25,  2.86s/mês]"
     ]
    },
    {
     "name": "stdout",
     "output_type": "stream",
     "text": [
      "2025-07-27 22:48:55,907 - INFO - Processando Relatório_202302...\n",
      "2025-07-27 22:48:58,342 - INFO - Arquivo salvo: /home/jonanov/Documentos/Data_engineer/PROJETOS/ETL_01/data/inf_diario_fi_202302.csv\n"
     ]
    },
    {
     "name": "stderr",
     "output_type": "stream",
     "text": [
      "Baixando relatórios:  33%|███▎      | 14/43 [00:38<01:19,  2.73s/mês]"
     ]
    },
    {
     "name": "stdout",
     "output_type": "stream",
     "text": [
      "2025-07-27 22:48:58,343 - INFO - Processando Relatório_202303...\n",
      "2025-07-27 22:49:01,444 - INFO - Arquivo salvo: /home/jonanov/Documentos/Data_engineer/PROJETOS/ETL_01/data/inf_diario_fi_202303.csv\n"
     ]
    },
    {
     "name": "stderr",
     "output_type": "stream",
     "text": [
      "Baixando relatórios:  35%|███▍      | 15/43 [00:42<01:19,  2.84s/mês]"
     ]
    },
    {
     "name": "stdout",
     "output_type": "stream",
     "text": [
      "2025-07-27 22:49:01,445 - INFO - Processando Relatório_202304...\n",
      "2025-07-27 22:49:03,885 - INFO - Arquivo salvo: /home/jonanov/Documentos/Data_engineer/PROJETOS/ETL_01/data/inf_diario_fi_202304.csv\n"
     ]
    },
    {
     "name": "stderr",
     "output_type": "stream",
     "text": [
      "Baixando relatórios:  37%|███▋      | 16/43 [00:44<01:13,  2.72s/mês]"
     ]
    },
    {
     "name": "stdout",
     "output_type": "stream",
     "text": [
      "2025-07-27 22:49:03,886 - INFO - Processando Relatório_202305...\n",
      "2025-07-27 22:49:06,969 - INFO - Arquivo salvo: /home/jonanov/Documentos/Data_engineer/PROJETOS/ETL_01/data/inf_diario_fi_202305.csv\n"
     ]
    },
    {
     "name": "stderr",
     "output_type": "stream",
     "text": [
      "Baixando relatórios:  40%|███▉      | 17/43 [00:47<01:13,  2.83s/mês]"
     ]
    },
    {
     "name": "stdout",
     "output_type": "stream",
     "text": [
      "2025-07-27 22:49:06,970 - INFO - Processando Relatório_202306...\n",
      "2025-07-27 22:49:09,855 - INFO - Arquivo salvo: /home/jonanov/Documentos/Data_engineer/PROJETOS/ETL_01/data/inf_diario_fi_202306.csv\n"
     ]
    },
    {
     "name": "stderr",
     "output_type": "stream",
     "text": [
      "Baixando relatórios:  42%|████▏     | 18/43 [00:50<01:11,  2.85s/mês]"
     ]
    },
    {
     "name": "stdout",
     "output_type": "stream",
     "text": [
      "2025-07-27 22:49:09,857 - INFO - Processando Relatório_202307...\n",
      "2025-07-27 22:49:13,039 - INFO - Arquivo salvo: /home/jonanov/Documentos/Data_engineer/PROJETOS/ETL_01/data/inf_diario_fi_202307.csv\n"
     ]
    },
    {
     "name": "stderr",
     "output_type": "stream",
     "text": [
      "Baixando relatórios:  44%|████▍     | 19/43 [00:53<01:10,  2.95s/mês]"
     ]
    },
    {
     "name": "stdout",
     "output_type": "stream",
     "text": [
      "2025-07-27 22:49:13,040 - INFO - Processando Relatório_202308...\n",
      "2025-07-27 22:49:16,720 - INFO - Arquivo salvo: /home/jonanov/Documentos/Data_engineer/PROJETOS/ETL_01/data/inf_diario_fi_202308.csv\n"
     ]
    },
    {
     "name": "stderr",
     "output_type": "stream",
     "text": [
      "Baixando relatórios:  47%|████▋     | 20/43 [00:57<01:12,  3.17s/mês]"
     ]
    },
    {
     "name": "stdout",
     "output_type": "stream",
     "text": [
      "2025-07-27 22:49:16,725 - INFO - Processando Relatório_202309...\n",
      "2025-07-27 22:49:19,474 - INFO - Arquivo salvo: /home/jonanov/Documentos/Data_engineer/PROJETOS/ETL_01/data/inf_diario_fi_202309.csv\n"
     ]
    },
    {
     "name": "stderr",
     "output_type": "stream",
     "text": [
      "Baixando relatórios:  49%|████▉     | 21/43 [01:00<01:06,  3.04s/mês]"
     ]
    },
    {
     "name": "stdout",
     "output_type": "stream",
     "text": [
      "2025-07-27 22:49:19,475 - INFO - Processando Relatório_202310...\n",
      "2025-07-27 22:49:22,498 - INFO - Arquivo salvo: /home/jonanov/Documentos/Data_engineer/PROJETOS/ETL_01/data/inf_diario_fi_202310.csv\n"
     ]
    },
    {
     "name": "stderr",
     "output_type": "stream",
     "text": [
      "Baixando relatórios:  51%|█████     | 22/43 [01:03<01:03,  3.04s/mês]"
     ]
    },
    {
     "name": "stdout",
     "output_type": "stream",
     "text": [
      "2025-07-27 22:49:22,499 - INFO - Processando Relatório_202311...\n",
      "2025-07-27 22:49:25,308 - INFO - Arquivo salvo: /home/jonanov/Documentos/Data_engineer/PROJETOS/ETL_01/data/inf_diario_fi_202311.csv\n"
     ]
    },
    {
     "name": "stderr",
     "output_type": "stream",
     "text": [
      "Baixando relatórios:  53%|█████▎    | 23/43 [01:05<00:59,  2.97s/mês]"
     ]
    },
    {
     "name": "stdout",
     "output_type": "stream",
     "text": [
      "2025-07-27 22:49:25,309 - INFO - Processando Relatório_202312...\n",
      "2025-07-27 22:49:28,424 - INFO - Arquivo salvo: /home/jonanov/Documentos/Data_engineer/PROJETOS/ETL_01/data/inf_diario_fi_202312.csv\n"
     ]
    },
    {
     "name": "stderr",
     "output_type": "stream",
     "text": [
      "Baixando relatórios:  56%|█████▌    | 24/43 [01:09<00:57,  3.01s/mês]"
     ]
    },
    {
     "name": "stdout",
     "output_type": "stream",
     "text": [
      "2025-07-27 22:49:28,425 - INFO - Processando Relatório_202401...\n",
      "2025-07-27 22:49:31,745 - INFO - Arquivo salvo: /home/jonanov/Documentos/Data_engineer/PROJETOS/ETL_01/data/inf_diario_fi_202401.csv\n"
     ]
    },
    {
     "name": "stderr",
     "output_type": "stream",
     "text": [
      "Baixando relatórios:  58%|█████▊    | 25/43 [01:12<00:55,  3.11s/mês]"
     ]
    },
    {
     "name": "stdout",
     "output_type": "stream",
     "text": [
      "2025-07-27 22:49:31,746 - INFO - Processando Relatório_202402...\n",
      "2025-07-27 22:49:34,626 - INFO - Arquivo salvo: /home/jonanov/Documentos/Data_engineer/PROJETOS/ETL_01/data/inf_diario_fi_202402.csv\n"
     ]
    },
    {
     "name": "stderr",
     "output_type": "stream",
     "text": [
      "Baixando relatórios:  60%|██████    | 26/43 [01:15<00:51,  3.04s/mês]"
     ]
    },
    {
     "name": "stdout",
     "output_type": "stream",
     "text": [
      "2025-07-27 22:49:34,627 - INFO - Processando Relatório_202403...\n",
      "2025-07-27 22:49:37,591 - INFO - Arquivo salvo: /home/jonanov/Documentos/Data_engineer/PROJETOS/ETL_01/data/inf_diario_fi_202403.csv\n"
     ]
    },
    {
     "name": "stderr",
     "output_type": "stream",
     "text": [
      "Baixando relatórios:  63%|██████▎   | 27/43 [01:18<00:48,  3.02s/mês]"
     ]
    },
    {
     "name": "stdout",
     "output_type": "stream",
     "text": [
      "2025-07-27 22:49:37,592 - INFO - Processando Relatório_202404...\n",
      "2025-07-27 22:49:41,093 - INFO - Arquivo salvo: /home/jonanov/Documentos/Data_engineer/PROJETOS/ETL_01/data/inf_diario_fi_202404.csv\n"
     ]
    },
    {
     "name": "stderr",
     "output_type": "stream",
     "text": [
      "Baixando relatórios:  65%|██████▌   | 28/43 [01:21<00:47,  3.16s/mês]"
     ]
    },
    {
     "name": "stdout",
     "output_type": "stream",
     "text": [
      "2025-07-27 22:49:41,094 - INFO - Processando Relatório_202405...\n",
      "2025-07-27 22:49:44,206 - INFO - Arquivo salvo: /home/jonanov/Documentos/Data_engineer/PROJETOS/ETL_01/data/inf_diario_fi_202405.csv\n"
     ]
    },
    {
     "name": "stderr",
     "output_type": "stream",
     "text": [
      "Baixando relatórios:  67%|██████▋   | 29/43 [01:24<00:44,  3.15s/mês]"
     ]
    },
    {
     "name": "stdout",
     "output_type": "stream",
     "text": [
      "2025-07-27 22:49:44,207 - INFO - Processando Relatório_202406...\n",
      "2025-07-27 22:49:47,178 - INFO - Arquivo salvo: /home/jonanov/Documentos/Data_engineer/PROJETOS/ETL_01/data/inf_diario_fi_202406.csv\n"
     ]
    },
    {
     "name": "stderr",
     "output_type": "stream",
     "text": [
      "Baixando relatórios:  70%|██████▉   | 30/43 [01:27<00:40,  3.09s/mês]"
     ]
    },
    {
     "name": "stdout",
     "output_type": "stream",
     "text": [
      "2025-07-27 22:49:47,179 - INFO - Processando Relatório_202407...\n",
      "2025-07-27 22:49:50,642 - INFO - Arquivo salvo: /home/jonanov/Documentos/Data_engineer/PROJETOS/ETL_01/data/inf_diario_fi_202407.csv\n"
     ]
    },
    {
     "name": "stderr",
     "output_type": "stream",
     "text": [
      "Baixando relatórios:  72%|███████▏  | 31/43 [01:31<00:38,  3.21s/mês]"
     ]
    },
    {
     "name": "stdout",
     "output_type": "stream",
     "text": [
      "2025-07-27 22:49:50,643 - INFO - Processando Relatório_202408...\n",
      "2025-07-27 22:49:54,097 - INFO - Arquivo salvo: /home/jonanov/Documentos/Data_engineer/PROJETOS/ETL_01/data/inf_diario_fi_202408.csv\n"
     ]
    },
    {
     "name": "stderr",
     "output_type": "stream",
     "text": [
      "Baixando relatórios:  74%|███████▍  | 32/43 [01:34<00:36,  3.28s/mês]"
     ]
    },
    {
     "name": "stdout",
     "output_type": "stream",
     "text": [
      "2025-07-27 22:49:54,098 - INFO - Processando Relatório_202409...\n",
      "2025-07-27 22:49:57,309 - INFO - Arquivo salvo: /home/jonanov/Documentos/Data_engineer/PROJETOS/ETL_01/data/inf_diario_fi_202409.csv\n"
     ]
    },
    {
     "name": "stderr",
     "output_type": "stream",
     "text": [
      "Baixando relatórios:  77%|███████▋  | 33/43 [01:37<00:32,  3.26s/mês]"
     ]
    },
    {
     "name": "stdout",
     "output_type": "stream",
     "text": [
      "2025-07-27 22:49:57,309 - INFO - Processando Relatório_202410...\n"
     ]
    },
    {
     "name": "stderr",
     "output_type": "stream",
     "text": [
      "/tmp/ipykernel_809256/3047666089.py:29: DtypeWarning: Columns (2) have mixed types. Specify dtype option on import or set low_memory=False.\n",
      "  df = pd.read_csv(zf.open(csv_zip), sep=';', encoding='latin1')\n"
     ]
    },
    {
     "name": "stdout",
     "output_type": "stream",
     "text": [
      "2025-07-27 22:50:00,745 - INFO - Arquivo salvo: /home/jonanov/Documentos/Data_engineer/PROJETOS/ETL_01/data/inf_diario_fi_202410.csv\n"
     ]
    },
    {
     "name": "stderr",
     "output_type": "stream",
     "text": [
      "Baixando relatórios:  79%|███████▉  | 34/43 [01:41<00:29,  3.31s/mês]"
     ]
    },
    {
     "name": "stdout",
     "output_type": "stream",
     "text": [
      "2025-07-27 22:50:00,746 - INFO - Processando Relatório_202411...\n"
     ]
    },
    {
     "name": "stderr",
     "output_type": "stream",
     "text": [
      "/tmp/ipykernel_809256/3047666089.py:29: DtypeWarning: Columns (2) have mixed types. Specify dtype option on import or set low_memory=False.\n",
      "  df = pd.read_csv(zf.open(csv_zip), sep=';', encoding='latin1')\n"
     ]
    },
    {
     "name": "stdout",
     "output_type": "stream",
     "text": [
      "2025-07-27 22:50:03,516 - INFO - Arquivo salvo: /home/jonanov/Documentos/Data_engineer/PROJETOS/ETL_01/data/inf_diario_fi_202411.csv\n"
     ]
    },
    {
     "name": "stderr",
     "output_type": "stream",
     "text": [
      "Baixando relatórios:  81%|████████▏ | 35/43 [01:44<00:25,  3.15s/mês]"
     ]
    },
    {
     "name": "stdout",
     "output_type": "stream",
     "text": [
      "2025-07-27 22:50:03,516 - INFO - Processando Relatório_202412...\n"
     ]
    },
    {
     "name": "stderr",
     "output_type": "stream",
     "text": [
      "/tmp/ipykernel_809256/3047666089.py:29: DtypeWarning: Columns (2) have mixed types. Specify dtype option on import or set low_memory=False.\n",
      "  df = pd.read_csv(zf.open(csv_zip), sep=';', encoding='latin1')\n"
     ]
    },
    {
     "name": "stdout",
     "output_type": "stream",
     "text": [
      "2025-07-27 22:50:06,613 - INFO - Arquivo salvo: /home/jonanov/Documentos/Data_engineer/PROJETOS/ETL_01/data/inf_diario_fi_202412.csv\n"
     ]
    },
    {
     "name": "stderr",
     "output_type": "stream",
     "text": [
      "Baixando relatórios:  84%|████████▎ | 36/43 [01:47<00:21,  3.13s/mês]"
     ]
    },
    {
     "name": "stdout",
     "output_type": "stream",
     "text": [
      "2025-07-27 22:50:06,614 - INFO - Processando Relatório_202501...\n"
     ]
    },
    {
     "name": "stderr",
     "output_type": "stream",
     "text": [
      "/tmp/ipykernel_809256/3047666089.py:29: DtypeWarning: Columns (2) have mixed types. Specify dtype option on import or set low_memory=False.\n",
      "  df = pd.read_csv(zf.open(csv_zip), sep=';', encoding='latin1')\n"
     ]
    },
    {
     "name": "stdout",
     "output_type": "stream",
     "text": [
      "2025-07-27 22:50:09,860 - INFO - Arquivo salvo: /home/jonanov/Documentos/Data_engineer/PROJETOS/ETL_01/data/inf_diario_fi_202501.csv\n"
     ]
    },
    {
     "name": "stderr",
     "output_type": "stream",
     "text": [
      "Baixando relatórios:  86%|████████▌ | 37/43 [01:50<00:19,  3.17s/mês]"
     ]
    },
    {
     "name": "stdout",
     "output_type": "stream",
     "text": [
      "2025-07-27 22:50:09,860 - INFO - Processando Relatório_202502...\n"
     ]
    },
    {
     "name": "stderr",
     "output_type": "stream",
     "text": [
      "/tmp/ipykernel_809256/3047666089.py:29: DtypeWarning: Columns (2) have mixed types. Specify dtype option on import or set low_memory=False.\n",
      "  df = pd.read_csv(zf.open(csv_zip), sep=';', encoding='latin1')\n"
     ]
    },
    {
     "name": "stdout",
     "output_type": "stream",
     "text": [
      "2025-07-27 22:50:12,982 - INFO - Arquivo salvo: /home/jonanov/Documentos/Data_engineer/PROJETOS/ETL_01/data/inf_diario_fi_202502.csv\n"
     ]
    },
    {
     "name": "stderr",
     "output_type": "stream",
     "text": [
      "Baixando relatórios:  88%|████████▊ | 38/43 [01:53<00:15,  3.15s/mês]"
     ]
    },
    {
     "name": "stdout",
     "output_type": "stream",
     "text": [
      "2025-07-27 22:50:12,983 - INFO - Processando Relatório_202503...\n"
     ]
    },
    {
     "name": "stderr",
     "output_type": "stream",
     "text": [
      "/tmp/ipykernel_809256/3047666089.py:29: DtypeWarning: Columns (2) have mixed types. Specify dtype option on import or set low_memory=False.\n",
      "  df = pd.read_csv(zf.open(csv_zip), sep=';', encoding='latin1')\n"
     ]
    },
    {
     "name": "stdout",
     "output_type": "stream",
     "text": [
      "2025-07-27 22:50:15,860 - INFO - Arquivo salvo: /home/jonanov/Documentos/Data_engineer/PROJETOS/ETL_01/data/inf_diario_fi_202503.csv\n"
     ]
    },
    {
     "name": "stderr",
     "output_type": "stream",
     "text": [
      "Baixando relatórios:  91%|█████████ | 39/43 [01:56<00:12,  3.07s/mês]"
     ]
    },
    {
     "name": "stdout",
     "output_type": "stream",
     "text": [
      "2025-07-27 22:50:15,861 - INFO - Processando Relatório_202504...\n",
      "2025-07-27 22:50:18,902 - INFO - Arquivo salvo: /home/jonanov/Documentos/Data_engineer/PROJETOS/ETL_01/data/inf_diario_fi_202504.csv\n"
     ]
    },
    {
     "name": "stderr",
     "output_type": "stream",
     "text": [
      "Baixando relatórios:  93%|█████████▎| 40/43 [01:59<00:09,  3.06s/mês]"
     ]
    },
    {
     "name": "stdout",
     "output_type": "stream",
     "text": [
      "2025-07-27 22:50:18,902 - INFO - Processando Relatório_202505...\n",
      "2025-07-27 22:50:21,997 - INFO - Arquivo salvo: /home/jonanov/Documentos/Data_engineer/PROJETOS/ETL_01/data/inf_diario_fi_202505.csv\n"
     ]
    },
    {
     "name": "stderr",
     "output_type": "stream",
     "text": [
      "Baixando relatórios:  95%|█████████▌| 41/43 [02:02<00:06,  3.07s/mês]"
     ]
    },
    {
     "name": "stdout",
     "output_type": "stream",
     "text": [
      "2025-07-27 22:50:21,998 - INFO - Processando Relatório_202506...\n",
      "2025-07-27 22:50:24,987 - INFO - Arquivo salvo: /home/jonanov/Documentos/Data_engineer/PROJETOS/ETL_01/data/inf_diario_fi_202506.csv\n"
     ]
    },
    {
     "name": "stderr",
     "output_type": "stream",
     "text": [
      "Baixando relatórios:  98%|█████████▊| 42/43 [02:05<00:03,  3.05s/mês]"
     ]
    },
    {
     "name": "stdout",
     "output_type": "stream",
     "text": [
      "2025-07-27 22:50:24,988 - INFO - Processando Relatório_202507...\n",
      "2025-07-27 22:50:27,591 - INFO - Arquivo salvo: /home/jonanov/Documentos/Data_engineer/PROJETOS/ETL_01/data/inf_diario_fi_202507.csv\n"
     ]
    },
    {
     "name": "stderr",
     "output_type": "stream",
     "text": [
      "Baixando relatórios: 100%|██████████| 43/43 [02:08<00:00,  2.98s/mês]\n"
     ]
    }
   ],
   "source": [
    "logging.basicConfig(level=logging.INFO)\n",
    "start_date = 2022\n",
    "end_date = datetime.now().date()\n",
    "end_year = end_date.year\n",
    "end_month = end_date.month\n",
    "output_dir = \"/home/jonanov/Documentos/Data_engineer/PROJETOS/ETL_01/data\"\n",
    "os.makedirs(output_dir, exist_ok=True)\n",
    "\n",
    "# Criar lista de (ano, mês)\n",
    "periodos = []\n",
    "for year in range(start_date, end_year + 1):\n",
    "    for month in range(1, 13):\n",
    "        if year == end_year and month > end_month:\n",
    "            break\n",
    "        periodos.append((year, month))\n",
    "\n",
    "for year, month in tqdm(periodos, desc=\"Baixando relatórios\", unit=\"mês\"):\n",
    "    yyyymm = f\"{year}{month:02d}\"\n",
    "    url = f\"https://dados.cvm.gov.br/dados/FI/DOC/INF_DIARIO/DADOS/inf_diario_fi_{yyyymm}.zip\"\n",
    "    logging.info(f\"Processando Relatório_{yyyymm}...\")\n",
    "\n",
    "    try:\n",
    "        response = requests.get(url)\n",
    "        response.raise_for_status()\n",
    "        zip_file_in_memory = BytesIO(response.content)\n",
    "\n",
    "        with zipfile.ZipFile(zip_file_in_memory) as zf:\n",
    "            csv_zip = zf.namelist()[0]\n",
    "            df = pd.read_csv(zf.open(csv_zip), sep=';', encoding='latin1')\n",
    "            output_path = os.path.join(output_dir, f\"inf_diario_fi_{yyyymm}.csv\")\n",
    "            df.to_csv(output_path, index=False)\n",
    "\n",
    "            logging.info(f\"Arquivo salvo: {output_path}\")\n",
    "\n",
    "    except requests.exceptions.HTTPError as err:\n",
    "        logging.exception(f\"Erro HTTP: O arquivo para {month:02d}/{year} não foi encontrado ou o servidor retornou um erro.\")\n",
    "    # except requests.exceptions.RequestException as err:\n",
    "    #     logging.exception(f\"Ocorreu um erro de conexão para {month:02d}/{year}: {err}\")\n",
    "    except Exception as err:\n",
    "        logging.exception(f\"Erro inesperado em {month:02d}/{year}: {err}\")"
   ]
  },
  {
   "cell_type": "code",
   "execution_count": 28,
   "id": "861d39bd",
   "metadata": {},
   "outputs": [
    {
     "data": {
      "text/html": [
       "<div>\n",
       "<style scoped>\n",
       "    .dataframe tbody tr th:only-of-type {\n",
       "        vertical-align: middle;\n",
       "    }\n",
       "\n",
       "    .dataframe tbody tr th {\n",
       "        vertical-align: top;\n",
       "    }\n",
       "\n",
       "    .dataframe thead th {\n",
       "        text-align: right;\n",
       "    }\n",
       "</style>\n",
       "<table border=\"1\" class=\"dataframe\">\n",
       "  <thead>\n",
       "    <tr style=\"text-align: right;\">\n",
       "      <th></th>\n",
       "      <th>TP_FUNDO</th>\n",
       "      <th>CNPJ_FUNDO</th>\n",
       "      <th>DT_COMPTC</th>\n",
       "      <th>VL_TOTAL</th>\n",
       "      <th>VL_QUOTA</th>\n",
       "      <th>VL_PATRIM_LIQ</th>\n",
       "      <th>CAPTC_DIA</th>\n",
       "      <th>RESG_DIA</th>\n",
       "      <th>NR_COTST</th>\n",
       "    </tr>\n",
       "  </thead>\n",
       "  <tbody>\n",
       "    <tr>\n",
       "      <th>0</th>\n",
       "      <td>FI</td>\n",
       "      <td>00.017.024/0001-53</td>\n",
       "      <td>2021-07-01</td>\n",
       "      <td>1074549.55</td>\n",
       "      <td>27.512452</td>\n",
       "      <td>1075592.01</td>\n",
       "      <td>0.0</td>\n",
       "      <td>0.00</td>\n",
       "      <td>1</td>\n",
       "    </tr>\n",
       "    <tr>\n",
       "      <th>1</th>\n",
       "      <td>FI</td>\n",
       "      <td>00.017.024/0001-53</td>\n",
       "      <td>2021-07-02</td>\n",
       "      <td>1069738.09</td>\n",
       "      <td>27.514565</td>\n",
       "      <td>1075674.60</td>\n",
       "      <td>0.0</td>\n",
       "      <td>0.00</td>\n",
       "      <td>1</td>\n",
       "    </tr>\n",
       "    <tr>\n",
       "      <th>2</th>\n",
       "      <td>FI</td>\n",
       "      <td>00.017.024/0001-53</td>\n",
       "      <td>2021-07-05</td>\n",
       "      <td>1069921.24</td>\n",
       "      <td>27.517180</td>\n",
       "      <td>1075776.84</td>\n",
       "      <td>0.0</td>\n",
       "      <td>0.00</td>\n",
       "      <td>1</td>\n",
       "    </tr>\n",
       "    <tr>\n",
       "      <th>3</th>\n",
       "      <td>FI</td>\n",
       "      <td>00.017.024/0001-53</td>\n",
       "      <td>2021-07-06</td>\n",
       "      <td>1070097.99</td>\n",
       "      <td>27.519678</td>\n",
       "      <td>1075874.50</td>\n",
       "      <td>0.0</td>\n",
       "      <td>0.00</td>\n",
       "      <td>1</td>\n",
       "    </tr>\n",
       "    <tr>\n",
       "      <th>4</th>\n",
       "      <td>FI</td>\n",
       "      <td>00.017.024/0001-53</td>\n",
       "      <td>2021-07-07</td>\n",
       "      <td>1066022.47</td>\n",
       "      <td>27.522013</td>\n",
       "      <td>1071994.92</td>\n",
       "      <td>0.0</td>\n",
       "      <td>3970.88</td>\n",
       "      <td>1</td>\n",
       "    </tr>\n",
       "    <tr>\n",
       "      <th>...</th>\n",
       "      <td>...</td>\n",
       "      <td>...</td>\n",
       "      <td>...</td>\n",
       "      <td>...</td>\n",
       "      <td>...</td>\n",
       "      <td>...</td>\n",
       "      <td>...</td>\n",
       "      <td>...</td>\n",
       "      <td>...</td>\n",
       "    </tr>\n",
       "    <tr>\n",
       "      <th>469761</th>\n",
       "      <td>FI</td>\n",
       "      <td>97.929.213/0001-34</td>\n",
       "      <td>2021-07-26</td>\n",
       "      <td>71459007.00</td>\n",
       "      <td>9.582287</td>\n",
       "      <td>72818875.37</td>\n",
       "      <td>0.0</td>\n",
       "      <td>0.00</td>\n",
       "      <td>2</td>\n",
       "    </tr>\n",
       "    <tr>\n",
       "      <th>469762</th>\n",
       "      <td>FI</td>\n",
       "      <td>97.929.213/0001-34</td>\n",
       "      <td>2021-07-27</td>\n",
       "      <td>70981869.29</td>\n",
       "      <td>9.519419</td>\n",
       "      <td>72341125.87</td>\n",
       "      <td>0.0</td>\n",
       "      <td>0.00</td>\n",
       "      <td>2</td>\n",
       "    </tr>\n",
       "    <tr>\n",
       "      <th>469763</th>\n",
       "      <td>FI</td>\n",
       "      <td>97.929.213/0001-34</td>\n",
       "      <td>2021-07-28</td>\n",
       "      <td>72461627.51</td>\n",
       "      <td>9.533863</td>\n",
       "      <td>72450889.67</td>\n",
       "      <td>0.0</td>\n",
       "      <td>0.00</td>\n",
       "      <td>2</td>\n",
       "    </tr>\n",
       "    <tr>\n",
       "      <th>469764</th>\n",
       "      <td>FI</td>\n",
       "      <td>97.929.213/0001-34</td>\n",
       "      <td>2021-07-29</td>\n",
       "      <td>72468361.26</td>\n",
       "      <td>9.534696</td>\n",
       "      <td>72457219.46</td>\n",
       "      <td>0.0</td>\n",
       "      <td>0.00</td>\n",
       "      <td>2</td>\n",
       "    </tr>\n",
       "    <tr>\n",
       "      <th>469765</th>\n",
       "      <td>FI</td>\n",
       "      <td>97.929.213/0001-34</td>\n",
       "      <td>2021-07-30</td>\n",
       "      <td>71821883.11</td>\n",
       "      <td>9.449573</td>\n",
       "      <td>71810339.90</td>\n",
       "      <td>0.0</td>\n",
       "      <td>0.00</td>\n",
       "      <td>2</td>\n",
       "    </tr>\n",
       "  </tbody>\n",
       "</table>\n",
       "<p>469766 rows × 9 columns</p>\n",
       "</div>"
      ],
      "text/plain": [
       "       TP_FUNDO          CNPJ_FUNDO   DT_COMPTC     VL_TOTAL   VL_QUOTA  \\\n",
       "0            FI  00.017.024/0001-53  2021-07-01   1074549.55  27.512452   \n",
       "1            FI  00.017.024/0001-53  2021-07-02   1069738.09  27.514565   \n",
       "2            FI  00.017.024/0001-53  2021-07-05   1069921.24  27.517180   \n",
       "3            FI  00.017.024/0001-53  2021-07-06   1070097.99  27.519678   \n",
       "4            FI  00.017.024/0001-53  2021-07-07   1066022.47  27.522013   \n",
       "...         ...                 ...         ...          ...        ...   \n",
       "469761       FI  97.929.213/0001-34  2021-07-26  71459007.00   9.582287   \n",
       "469762       FI  97.929.213/0001-34  2021-07-27  70981869.29   9.519419   \n",
       "469763       FI  97.929.213/0001-34  2021-07-28  72461627.51   9.533863   \n",
       "469764       FI  97.929.213/0001-34  2021-07-29  72468361.26   9.534696   \n",
       "469765       FI  97.929.213/0001-34  2021-07-30  71821883.11   9.449573   \n",
       "\n",
       "        VL_PATRIM_LIQ  CAPTC_DIA  RESG_DIA  NR_COTST  \n",
       "0          1075592.01        0.0      0.00         1  \n",
       "1          1075674.60        0.0      0.00         1  \n",
       "2          1075776.84        0.0      0.00         1  \n",
       "3          1075874.50        0.0      0.00         1  \n",
       "4          1071994.92        0.0   3970.88         1  \n",
       "...               ...        ...       ...       ...  \n",
       "469761    72818875.37        0.0      0.00         2  \n",
       "469762    72341125.87        0.0      0.00         2  \n",
       "469763    72450889.67        0.0      0.00         2  \n",
       "469764    72457219.46        0.0      0.00         2  \n",
       "469765    71810339.90        0.0      0.00         2  \n",
       "\n",
       "[469766 rows x 9 columns]"
      ]
     },
     "execution_count": 28,
     "metadata": {},
     "output_type": "execute_result"
    }
   ],
   "source": [
    "df"
   ]
  },
  {
   "cell_type": "code",
   "execution_count": 2,
   "id": "3a07e07b",
   "metadata": {},
   "outputs": [],
   "source": [
    "import os\n",
    "import pandas as pd"
   ]
  },
  {
   "cell_type": "code",
   "execution_count": 3,
   "id": "6888af88",
   "metadata": {},
   "outputs": [
    {
     "name": "stdout",
     "output_type": "stream",
     "text": [
      "inf_diario_fi_202412.csv\n",
      "inf_diario_fi_202503.csv\n",
      "inf_diario_fi_202301.csv\n",
      "inf_diario_fi_202201.csv\n",
      "inf_diario_fi_202403.csv\n",
      "inf_diario_fi_202205.csv\n",
      "inf_diario_fi_202203.csv\n",
      "inf_diario_fi_202404.csv\n",
      "inf_diario_fi_202312.csv\n",
      "inf_diario_fi_202211.csv\n",
      "inf_diario_fi_202210.csv\n",
      "inf_diario_fi_202504.csv\n",
      "inf_diario_fi_202309.csv\n",
      "inf_diario_fi_202311.csv\n",
      "inf_diario_fi_202409.csv\n",
      "inf_diario_fi_202310.csv\n",
      "inf_diario_fi_202304.csv\n",
      "inf_diario_fi_202306.csv\n",
      "inf_diario_fi_202206.csv\n",
      "inf_diario_fi_202302.csv\n",
      "inf_diario_fi_202208.csv\n",
      "inf_diario_fi_202408.csv\n",
      "inf_diario_fi_202307.csv\n",
      "inf_diario_fi_202505.csv\n",
      "inf_diario_fi_202303.csv\n",
      "inf_diario_fi_202405.csv\n",
      "inf_diario_fi_202507.csv\n",
      "inf_diario_fi_202305.csv\n",
      "inf_diario_fi_202501.csv\n",
      "inf_diario_fi_202401.csv\n",
      "inf_diario_fi_202308.csv\n",
      "inf_diario_fi_202411.csv\n",
      "inf_diario_fi_202502.csv\n",
      "inf_diario_fi_202207.csv\n",
      "inf_diario_fi_202212.csv\n",
      "inf_diario_fi_202410.csv\n",
      "inf_diario_fi_202407.csv\n",
      "inf_diario_fi_202406.csv\n",
      "inf_diario_fi_202204.csv\n",
      "inf_diario_fi_202202.csv\n",
      "inf_diario_fi_202506.csv\n",
      "inf_diario_fi_202209.csv\n",
      "inf_diario_fi_202402.csv\n"
     ]
    }
   ],
   "source": [
    "for i in os.listdir('/home/jonanov/Documentos/Data_engineer/PROJETOS/ETL_01/data'):\n",
    "    print(i)"
   ]
  },
  {
   "cell_type": "code",
   "execution_count": 15,
   "id": "b24a6bf6",
   "metadata": {},
   "outputs": [
    {
     "name": "stderr",
     "output_type": "stream",
     "text": [
      "/tmp/ipykernel_366899/299970433.py:3: DtypeWarning: Columns (2) have mixed types. Specify dtype option on import or set low_memory=False.\n",
      "  df = pd.read_csv(file_path,encoding='latin1')\n"
     ]
    },
    {
     "name": "stdout",
     "output_type": "stream",
     "text": [
      "DF: inf_diario_fi_202412.csv \n",
      " TP_FUNDO_CLASSE           0\n",
      "CNPJ_FUNDO_CLASSE         0\n",
      "ID_SUBCLASSE         538678\n",
      "DT_COMPTC                 0\n",
      "VL_TOTAL                  0\n",
      "VL_QUOTA                  0\n",
      "VL_PATRIM_LIQ             0\n",
      "CAPTC_DIA                 0\n",
      "RESG_DIA                  0\n",
      "NR_COTST                  0\n",
      "dtype: int64 linhas\n",
      "\n",
      " #############################################\n",
      "\n"
     ]
    },
    {
     "name": "stderr",
     "output_type": "stream",
     "text": [
      "/tmp/ipykernel_366899/299970433.py:3: DtypeWarning: Columns (2) have mixed types. Specify dtype option on import or set low_memory=False.\n",
      "  df = pd.read_csv(file_path,encoding='latin1')\n"
     ]
    },
    {
     "name": "stdout",
     "output_type": "stream",
     "text": [
      "DF: inf_diario_fi_202503.csv \n",
      " TP_FUNDO_CLASSE           0\n",
      "CNPJ_FUNDO_CLASSE         0\n",
      "ID_SUBCLASSE         486624\n",
      "DT_COMPTC                 0\n",
      "VL_TOTAL                  0\n",
      "VL_QUOTA                  0\n",
      "VL_PATRIM_LIQ             0\n",
      "CAPTC_DIA                 0\n",
      "RESG_DIA                  0\n",
      "NR_COTST                  0\n",
      "dtype: int64 linhas\n",
      "\n",
      " #############################################\n",
      "\n",
      "DF: inf_diario_fi_202301.csv \n",
      " TP_FUNDO         0\n",
      "CNPJ_FUNDO       0\n",
      "DT_COMPTC        0\n",
      "VL_TOTAL         0\n",
      "VL_QUOTA         0\n",
      "VL_PATRIM_LIQ    0\n",
      "CAPTC_DIA        0\n",
      "RESG_DIA         0\n",
      "NR_COTST         0\n",
      "dtype: int64 linhas\n",
      "\n",
      " #############################################\n",
      "\n",
      "DF: inf_diario_fi_202201.csv \n",
      " TP_FUNDO         0\n",
      "CNPJ_FUNDO       0\n",
      "DT_COMPTC        0\n",
      "VL_TOTAL         0\n",
      "VL_QUOTA         0\n",
      "VL_PATRIM_LIQ    0\n",
      "CAPTC_DIA        0\n",
      "RESG_DIA         0\n",
      "NR_COTST         0\n",
      "dtype: int64 linhas\n",
      "\n",
      " #############################################\n",
      "\n",
      "DF: inf_diario_fi_202403.csv \n",
      " TP_FUNDO_CLASSE           0\n",
      "CNPJ_FUNDO_CLASSE         0\n",
      "ID_SUBCLASSE         517245\n",
      "DT_COMPTC                 0\n",
      "VL_TOTAL                  0\n",
      "VL_QUOTA                  0\n",
      "VL_PATRIM_LIQ             0\n",
      "CAPTC_DIA                 0\n",
      "RESG_DIA                  0\n",
      "NR_COTST                  0\n",
      "dtype: int64 linhas\n",
      "\n",
      " #############################################\n",
      "\n",
      "DF: inf_diario_fi_202205.csv \n",
      " TP_FUNDO         0\n",
      "CNPJ_FUNDO       0\n",
      "DT_COMPTC        0\n",
      "VL_TOTAL         0\n",
      "VL_QUOTA         0\n",
      "VL_PATRIM_LIQ    0\n",
      "CAPTC_DIA        0\n",
      "RESG_DIA         0\n",
      "NR_COTST         0\n",
      "dtype: int64 linhas\n",
      "\n",
      " #############################################\n",
      "\n",
      "DF: inf_diario_fi_202203.csv \n",
      " TP_FUNDO         0\n",
      "CNPJ_FUNDO       0\n",
      "DT_COMPTC        0\n",
      "VL_TOTAL         0\n",
      "VL_QUOTA         0\n",
      "VL_PATRIM_LIQ    0\n",
      "CAPTC_DIA        0\n",
      "RESG_DIA         0\n",
      "NR_COTST         0\n",
      "dtype: int64 linhas\n",
      "\n",
      " #############################################\n",
      "\n",
      "DF: inf_diario_fi_202404.csv \n",
      " TP_FUNDO_CLASSE           0\n",
      "CNPJ_FUNDO_CLASSE         0\n",
      "ID_SUBCLASSE         569499\n",
      "DT_COMPTC                 0\n",
      "VL_TOTAL                  0\n",
      "VL_QUOTA                  0\n",
      "VL_PATRIM_LIQ             0\n",
      "CAPTC_DIA                 0\n",
      "RESG_DIA                  0\n",
      "NR_COTST                  0\n",
      "dtype: int64 linhas\n",
      "\n",
      " #############################################\n",
      "\n",
      "DF: inf_diario_fi_202312.csv \n",
      " TP_FUNDO_CLASSE           0\n",
      "CNPJ_FUNDO_CLASSE         0\n",
      "ID_SUBCLASSE         514295\n",
      "DT_COMPTC                 0\n",
      "VL_TOTAL                  0\n",
      "VL_QUOTA                  0\n",
      "VL_PATRIM_LIQ             0\n",
      "CAPTC_DIA                 0\n",
      "RESG_DIA                  0\n",
      "NR_COTST                  0\n",
      "dtype: int64 linhas\n",
      "\n",
      " #############################################\n",
      "\n",
      "DF: inf_diario_fi_202211.csv \n",
      " TP_FUNDO         0\n",
      "CNPJ_FUNDO       0\n",
      "DT_COMPTC        0\n",
      "VL_TOTAL         0\n",
      "VL_QUOTA         0\n",
      "VL_PATRIM_LIQ    0\n",
      "CAPTC_DIA        0\n",
      "RESG_DIA         0\n",
      "NR_COTST         0\n",
      "dtype: int64 linhas\n",
      "\n",
      " #############################################\n",
      "\n",
      "DF: inf_diario_fi_202210.csv \n",
      " TP_FUNDO         0\n",
      "CNPJ_FUNDO       0\n",
      "DT_COMPTC        0\n",
      "VL_TOTAL         0\n",
      "VL_QUOTA         0\n",
      "VL_PATRIM_LIQ    0\n",
      "CAPTC_DIA        0\n",
      "RESG_DIA         0\n",
      "NR_COTST         0\n",
      "dtype: int64 linhas\n",
      "\n",
      " #############################################\n",
      "\n",
      "DF: inf_diario_fi_202504.csv \n",
      " TP_FUNDO_CLASSE           0\n",
      "CNPJ_FUNDO_CLASSE         0\n",
      "ID_SUBCLASSE         506301\n",
      "DT_COMPTC                 0\n",
      "VL_TOTAL                  0\n",
      "VL_QUOTA                  0\n",
      "VL_PATRIM_LIQ             0\n",
      "CAPTC_DIA                 0\n",
      "RESG_DIA                  0\n",
      "NR_COTST                  0\n",
      "dtype: int64 linhas\n",
      "\n",
      " #############################################\n",
      "\n",
      "DF: inf_diario_fi_202309.csv \n",
      " TP_FUNDO         0\n",
      "CNPJ_FUNDO       0\n",
      "DT_COMPTC        0\n",
      "VL_TOTAL         0\n",
      "VL_QUOTA         0\n",
      "VL_PATRIM_LIQ    0\n",
      "CAPTC_DIA        0\n",
      "RESG_DIA         0\n",
      "NR_COTST         0\n",
      "dtype: int64 linhas\n",
      "\n",
      " #############################################\n",
      "\n",
      "DF: inf_diario_fi_202311.csv \n",
      " TP_FUNDO         0\n",
      "CNPJ_FUNDO       0\n",
      "DT_COMPTC        0\n",
      "VL_TOTAL         0\n",
      "VL_QUOTA         0\n",
      "VL_PATRIM_LIQ    0\n",
      "CAPTC_DIA        0\n",
      "RESG_DIA         0\n",
      "NR_COTST         0\n",
      "dtype: int64 linhas\n",
      "\n",
      " #############################################\n",
      "\n",
      "DF: inf_diario_fi_202409.csv \n",
      " TP_FUNDO_CLASSE           0\n",
      "CNPJ_FUNDO_CLASSE         0\n",
      "ID_SUBCLASSE         538493\n",
      "DT_COMPTC                 0\n",
      "VL_TOTAL                  0\n",
      "VL_QUOTA                  0\n",
      "VL_PATRIM_LIQ             0\n",
      "CAPTC_DIA                 0\n",
      "RESG_DIA                  0\n",
      "NR_COTST                  0\n",
      "dtype: int64 linhas\n",
      "\n",
      " #############################################\n",
      "\n",
      "DF: inf_diario_fi_202310.csv \n",
      " TP_FUNDO         0\n",
      "CNPJ_FUNDO       0\n",
      "DT_COMPTC        0\n",
      "VL_TOTAL         0\n",
      "VL_QUOTA         0\n",
      "VL_PATRIM_LIQ    0\n",
      "CAPTC_DIA        0\n",
      "RESG_DIA         0\n",
      "NR_COTST         0\n",
      "dtype: int64 linhas\n",
      "\n",
      " #############################################\n",
      "\n",
      "DF: inf_diario_fi_202304.csv \n",
      " TP_FUNDO         0\n",
      "CNPJ_FUNDO       0\n",
      "DT_COMPTC        0\n",
      "VL_TOTAL         0\n",
      "VL_QUOTA         0\n",
      "VL_PATRIM_LIQ    0\n",
      "CAPTC_DIA        0\n",
      "RESG_DIA         0\n",
      "NR_COTST         0\n",
      "dtype: int64 linhas\n",
      "\n",
      " #############################################\n",
      "\n",
      "DF: inf_diario_fi_202306.csv \n",
      " TP_FUNDO         0\n",
      "CNPJ_FUNDO       0\n",
      "DT_COMPTC        0\n",
      "VL_TOTAL         0\n",
      "VL_QUOTA         0\n",
      "VL_PATRIM_LIQ    0\n",
      "CAPTC_DIA        0\n",
      "RESG_DIA         0\n",
      "NR_COTST         0\n",
      "dtype: int64 linhas\n",
      "\n",
      " #############################################\n",
      "\n",
      "DF: inf_diario_fi_202206.csv \n",
      " TP_FUNDO         0\n",
      "CNPJ_FUNDO       0\n",
      "DT_COMPTC        0\n",
      "VL_TOTAL         0\n",
      "VL_QUOTA         0\n",
      "VL_PATRIM_LIQ    0\n",
      "CAPTC_DIA        0\n",
      "RESG_DIA         0\n",
      "NR_COTST         0\n",
      "dtype: int64 linhas\n",
      "\n",
      " #############################################\n",
      "\n",
      "DF: inf_diario_fi_202302.csv \n",
      " TP_FUNDO         0\n",
      "CNPJ_FUNDO       0\n",
      "DT_COMPTC        0\n",
      "VL_TOTAL         0\n",
      "VL_QUOTA         0\n",
      "VL_PATRIM_LIQ    0\n",
      "CAPTC_DIA        0\n",
      "RESG_DIA         0\n",
      "NR_COTST         0\n",
      "dtype: int64 linhas\n",
      "\n",
      " #############################################\n",
      "\n",
      "DF: inf_diario_fi_202208.csv \n",
      " TP_FUNDO         0\n",
      "CNPJ_FUNDO       0\n",
      "DT_COMPTC        0\n",
      "VL_TOTAL         0\n",
      "VL_QUOTA         0\n",
      "VL_PATRIM_LIQ    0\n",
      "CAPTC_DIA        0\n",
      "RESG_DIA         0\n",
      "NR_COTST         0\n",
      "dtype: int64 linhas\n",
      "\n",
      " #############################################\n",
      "\n",
      "DF: inf_diario_fi_202408.csv \n",
      " TP_FUNDO_CLASSE           0\n",
      "CNPJ_FUNDO_CLASSE         0\n",
      "ID_SUBCLASSE         565953\n",
      "DT_COMPTC                 0\n",
      "VL_TOTAL                  0\n",
      "VL_QUOTA                  0\n",
      "VL_PATRIM_LIQ             0\n",
      "CAPTC_DIA                 0\n",
      "RESG_DIA                  0\n",
      "NR_COTST                  0\n",
      "dtype: int64 linhas\n",
      "\n",
      " #############################################\n",
      "\n",
      "DF: inf_diario_fi_202307.csv \n",
      " TP_FUNDO         0\n",
      "CNPJ_FUNDO       0\n",
      "DT_COMPTC        0\n",
      "VL_TOTAL         0\n",
      "VL_QUOTA         0\n",
      "VL_PATRIM_LIQ    0\n",
      "CAPTC_DIA        0\n",
      "RESG_DIA         0\n",
      "NR_COTST         0\n",
      "dtype: int64 linhas\n",
      "\n",
      " #############################################\n",
      "\n",
      "DF: inf_diario_fi_202505.csv \n",
      " TP_FUNDO_CLASSE           0\n",
      "CNPJ_FUNDO_CLASSE         0\n",
      "ID_SUBCLASSE         527787\n",
      "DT_COMPTC                 0\n",
      "VL_TOTAL                  0\n",
      "VL_QUOTA                  0\n",
      "VL_PATRIM_LIQ             0\n",
      "CAPTC_DIA                 0\n",
      "RESG_DIA                  0\n",
      "NR_COTST                  0\n",
      "dtype: int64 linhas\n",
      "\n",
      " #############################################\n",
      "\n",
      "DF: inf_diario_fi_202303.csv \n",
      " TP_FUNDO         0\n",
      "CNPJ_FUNDO       0\n",
      "DT_COMPTC        0\n",
      "VL_TOTAL         0\n",
      "VL_QUOTA         0\n",
      "VL_PATRIM_LIQ    0\n",
      "CAPTC_DIA        0\n",
      "RESG_DIA         0\n",
      "NR_COTST         0\n",
      "dtype: int64 linhas\n",
      "\n",
      " #############################################\n",
      "\n",
      "DF: inf_diario_fi_202405.csv \n",
      " TP_FUNDO_CLASSE           0\n",
      "CNPJ_FUNDO_CLASSE         0\n",
      "ID_SUBCLASSE         543625\n",
      "DT_COMPTC                 0\n",
      "VL_TOTAL                  0\n",
      "VL_QUOTA                  0\n",
      "VL_PATRIM_LIQ             0\n",
      "CAPTC_DIA                 0\n",
      "RESG_DIA                  0\n",
      "NR_COTST                  0\n",
      "dtype: int64 linhas\n",
      "\n",
      " #############################################\n",
      "\n",
      "DF: inf_diario_fi_202507.csv \n",
      " TP_FUNDO_CLASSE           0\n",
      "CNPJ_FUNDO_CLASSE         0\n",
      "ID_SUBCLASSE         446347\n",
      "DT_COMPTC                 0\n",
      "VL_TOTAL                  0\n",
      "VL_QUOTA                  0\n",
      "VL_PATRIM_LIQ             0\n",
      "CAPTC_DIA                 0\n",
      "RESG_DIA                  0\n",
      "NR_COTST                  0\n",
      "dtype: int64 linhas\n",
      "\n",
      " #############################################\n",
      "\n",
      "DF: inf_diario_fi_202305.csv \n",
      " TP_FUNDO         0\n",
      "CNPJ_FUNDO       0\n",
      "DT_COMPTC        0\n",
      "VL_TOTAL         0\n",
      "VL_QUOTA         0\n",
      "VL_PATRIM_LIQ    0\n",
      "CAPTC_DIA        0\n",
      "RESG_DIA         0\n",
      "NR_COTST         0\n",
      "dtype: int64 linhas\n",
      "\n",
      " #############################################\n",
      "\n"
     ]
    },
    {
     "name": "stderr",
     "output_type": "stream",
     "text": [
      "/tmp/ipykernel_366899/299970433.py:3: DtypeWarning: Columns (2) have mixed types. Specify dtype option on import or set low_memory=False.\n",
      "  df = pd.read_csv(file_path,encoding='latin1')\n"
     ]
    },
    {
     "name": "stdout",
     "output_type": "stream",
     "text": [
      "DF: inf_diario_fi_202501.csv \n",
      " TP_FUNDO_CLASSE           0\n",
      "CNPJ_FUNDO_CLASSE         0\n",
      "ID_SUBCLASSE         559836\n",
      "DT_COMPTC                 0\n",
      "VL_TOTAL                  0\n",
      "VL_QUOTA                  0\n",
      "VL_PATRIM_LIQ             0\n",
      "CAPTC_DIA                 0\n",
      "RESG_DIA                  0\n",
      "NR_COTST                  0\n",
      "dtype: int64 linhas\n",
      "\n",
      " #############################################\n",
      "\n",
      "DF: inf_diario_fi_202401.csv \n",
      " TP_FUNDO_CLASSE           0\n",
      "CNPJ_FUNDO_CLASSE         0\n",
      "ID_SUBCLASSE         567834\n",
      "DT_COMPTC                 0\n",
      "VL_TOTAL                  0\n",
      "VL_QUOTA                  0\n",
      "VL_PATRIM_LIQ             0\n",
      "CAPTC_DIA                 0\n",
      "RESG_DIA                  0\n",
      "NR_COTST                  0\n",
      "dtype: int64 linhas\n",
      "\n",
      " #############################################\n",
      "\n",
      "DF: inf_diario_fi_202308.csv \n",
      " TP_FUNDO         0\n",
      "CNPJ_FUNDO       0\n",
      "DT_COMPTC        0\n",
      "VL_TOTAL         0\n",
      "VL_QUOTA         0\n",
      "VL_PATRIM_LIQ    0\n",
      "CAPTC_DIA        0\n",
      "RESG_DIA         0\n",
      "NR_COTST         0\n",
      "dtype: int64 linhas\n",
      "\n",
      " #############################################\n",
      "\n"
     ]
    },
    {
     "name": "stderr",
     "output_type": "stream",
     "text": [
      "/tmp/ipykernel_366899/299970433.py:3: DtypeWarning: Columns (2) have mixed types. Specify dtype option on import or set low_memory=False.\n",
      "  df = pd.read_csv(file_path,encoding='latin1')\n"
     ]
    },
    {
     "name": "stdout",
     "output_type": "stream",
     "text": [
      "DF: inf_diario_fi_202411.csv \n",
      " TP_FUNDO_CLASSE           0\n",
      "CNPJ_FUNDO_CLASSE         0\n",
      "ID_SUBCLASSE         486254\n",
      "DT_COMPTC                 0\n",
      "VL_TOTAL                  0\n",
      "VL_QUOTA                  0\n",
      "VL_PATRIM_LIQ             0\n",
      "CAPTC_DIA                 0\n",
      "RESG_DIA                  0\n",
      "NR_COTST                  0\n",
      "dtype: int64 linhas\n",
      "\n",
      " #############################################\n",
      "\n"
     ]
    },
    {
     "name": "stderr",
     "output_type": "stream",
     "text": [
      "/tmp/ipykernel_366899/299970433.py:3: DtypeWarning: Columns (2) have mixed types. Specify dtype option on import or set low_memory=False.\n",
      "  df = pd.read_csv(file_path,encoding='latin1')\n"
     ]
    },
    {
     "name": "stdout",
     "output_type": "stream",
     "text": [
      "DF: inf_diario_fi_202502.csv \n",
      " TP_FUNDO_CLASSE           0\n",
      "CNPJ_FUNDO_CLASSE         0\n",
      "ID_SUBCLASSE         510948\n",
      "DT_COMPTC                 0\n",
      "VL_TOTAL                  0\n",
      "VL_QUOTA                  0\n",
      "VL_PATRIM_LIQ             0\n",
      "CAPTC_DIA                 0\n",
      "RESG_DIA                  0\n",
      "NR_COTST                  0\n",
      "dtype: int64 linhas\n",
      "\n",
      " #############################################\n",
      "\n",
      "DF: inf_diario_fi_202207.csv \n",
      " TP_FUNDO         0\n",
      "CNPJ_FUNDO       0\n",
      "DT_COMPTC        0\n",
      "VL_TOTAL         0\n",
      "VL_QUOTA         0\n",
      "VL_PATRIM_LIQ    0\n",
      "CAPTC_DIA        0\n",
      "RESG_DIA         0\n",
      "NR_COTST         0\n",
      "dtype: int64 linhas\n",
      "\n",
      " #############################################\n",
      "\n",
      "DF: inf_diario_fi_202212.csv \n",
      " TP_FUNDO         0\n",
      "CNPJ_FUNDO       0\n",
      "DT_COMPTC        0\n",
      "VL_TOTAL         0\n",
      "VL_QUOTA         0\n",
      "VL_PATRIM_LIQ    0\n",
      "CAPTC_DIA        0\n",
      "RESG_DIA         0\n",
      "NR_COTST         0\n",
      "dtype: int64 linhas\n",
      "\n",
      " #############################################\n",
      "\n"
     ]
    },
    {
     "name": "stderr",
     "output_type": "stream",
     "text": [
      "/tmp/ipykernel_366899/299970433.py:3: DtypeWarning: Columns (2) have mixed types. Specify dtype option on import or set low_memory=False.\n",
      "  df = pd.read_csv(file_path,encoding='latin1')\n"
     ]
    },
    {
     "name": "stdout",
     "output_type": "stream",
     "text": [
      "DF: inf_diario_fi_202410.csv \n",
      " TP_FUNDO_CLASSE           0\n",
      "CNPJ_FUNDO_CLASSE         0\n",
      "ID_SUBCLASSE         592988\n",
      "DT_COMPTC                 0\n",
      "VL_TOTAL                  0\n",
      "VL_QUOTA                  0\n",
      "VL_PATRIM_LIQ             0\n",
      "CAPTC_DIA                 0\n",
      "RESG_DIA                  0\n",
      "NR_COTST                  0\n",
      "dtype: int64 linhas\n",
      "\n",
      " #############################################\n",
      "\n",
      "DF: inf_diario_fi_202407.csv \n",
      " TP_FUNDO_CLASSE           0\n",
      "CNPJ_FUNDO_CLASSE         0\n",
      "ID_SUBCLASSE         593746\n",
      "DT_COMPTC                 0\n",
      "VL_TOTAL                  0\n",
      "VL_QUOTA                  0\n",
      "VL_PATRIM_LIQ             0\n",
      "CAPTC_DIA                 0\n",
      "RESG_DIA                  0\n",
      "NR_COTST                  0\n",
      "dtype: int64 linhas\n",
      "\n",
      " #############################################\n",
      "\n",
      "DF: inf_diario_fi_202406.csv \n",
      " TP_FUNDO_CLASSE           0\n",
      "CNPJ_FUNDO_CLASSE         0\n",
      "ID_SUBCLASSE         517137\n",
      "DT_COMPTC                 0\n",
      "VL_TOTAL                  0\n",
      "VL_QUOTA                  0\n",
      "VL_PATRIM_LIQ             0\n",
      "CAPTC_DIA                 0\n",
      "RESG_DIA                  0\n",
      "NR_COTST                  0\n",
      "dtype: int64 linhas\n",
      "\n",
      " #############################################\n",
      "\n",
      "DF: inf_diario_fi_202204.csv \n",
      " TP_FUNDO         0\n",
      "CNPJ_FUNDO       0\n",
      "DT_COMPTC        0\n",
      "VL_TOTAL         0\n",
      "VL_QUOTA         0\n",
      "VL_PATRIM_LIQ    0\n",
      "CAPTC_DIA        0\n",
      "RESG_DIA         0\n",
      "NR_COTST         0\n",
      "dtype: int64 linhas\n",
      "\n",
      " #############################################\n",
      "\n",
      "DF: inf_diario_fi_202202.csv \n",
      " TP_FUNDO         0\n",
      "CNPJ_FUNDO       0\n",
      "DT_COMPTC        0\n",
      "VL_TOTAL         0\n",
      "VL_QUOTA         0\n",
      "VL_PATRIM_LIQ    0\n",
      "CAPTC_DIA        0\n",
      "RESG_DIA         0\n",
      "NR_COTST         0\n",
      "dtype: int64 linhas\n",
      "\n",
      " #############################################\n",
      "\n",
      "DF: inf_diario_fi_202506.csv \n",
      " TP_FUNDO_CLASSE           0\n",
      "CNPJ_FUNDO_CLASSE         0\n",
      "ID_SUBCLASSE         505833\n",
      "DT_COMPTC                 0\n",
      "VL_TOTAL                  1\n",
      "VL_QUOTA                  0\n",
      "VL_PATRIM_LIQ             0\n",
      "CAPTC_DIA                 0\n",
      "RESG_DIA                  0\n",
      "NR_COTST                  0\n",
      "dtype: int64 linhas\n",
      "\n",
      " #############################################\n",
      "\n",
      "DF: inf_diario_fi_202209.csv \n",
      " TP_FUNDO         0\n",
      "CNPJ_FUNDO       0\n",
      "DT_COMPTC        0\n",
      "VL_TOTAL         0\n",
      "VL_QUOTA         0\n",
      "VL_PATRIM_LIQ    0\n",
      "CAPTC_DIA        0\n",
      "RESG_DIA         0\n",
      "NR_COTST         0\n",
      "dtype: int64 linhas\n",
      "\n",
      " #############################################\n",
      "\n",
      "DF: inf_diario_fi_202402.csv \n",
      " TP_FUNDO_CLASSE           0\n",
      "CNPJ_FUNDO_CLASSE         0\n",
      "ID_SUBCLASSE         491206\n",
      "DT_COMPTC                 0\n",
      "VL_TOTAL                  0\n",
      "VL_QUOTA                  0\n",
      "VL_PATRIM_LIQ             0\n",
      "CAPTC_DIA                 0\n",
      "RESG_DIA                  0\n",
      "NR_COTST                  0\n",
      "dtype: int64 linhas\n",
      "\n",
      " #############################################\n",
      "\n"
     ]
    }
   ],
   "source": [
    "\n",
    "for i in os.listdir('/home/jonanov/Documentos/Data_engineer/PROJETOS/ETL_01/data'):\n",
    "    file_path = os.path.join(f'/home/jonanov/Documentos/Data_engineer/PROJETOS/ETL_01/data',str(i))\n",
    "    df = pd.read_csv(file_path,encoding='latin1')\n",
    "    #print(f'DF: {i} : {df.shape[0]} linhas')\n",
    "    print(f'DF: {i} \\n {df.isna().sum()} linhas')\n",
    "    print('\\n #############################################\\n')\n",
    "   "
   ]
  },
  {
   "cell_type": "code",
   "execution_count": 13,
   "id": "25c581dc",
   "metadata": {},
   "outputs": [
    {
     "data": {
      "text/plain": [
       "22289942"
      ]
     },
     "execution_count": 13,
     "metadata": {},
     "output_type": "execute_result"
    }
   ],
   "source": [
    "sum(lista_linhas_df)"
   ]
  },
  {
   "cell_type": "code",
   "execution_count": 8,
   "id": "4b7182dd",
   "metadata": {},
   "outputs": [
    {
     "data": {
      "text/plain": [
       "TP_FUNDO         0\n",
       "CNPJ_FUNDO       0\n",
       "DT_COMPTC        0\n",
       "VL_TOTAL         0\n",
       "VL_QUOTA         0\n",
       "VL_PATRIM_LIQ    0\n",
       "CAPTC_DIA        0\n",
       "RESG_DIA         0\n",
       "NR_COTST         0\n",
       "dtype: int64"
      ]
     },
     "execution_count": 8,
     "metadata": {},
     "output_type": "execute_result"
    }
   ],
   "source": [
    "df.isna().sum()"
   ]
  },
  {
   "cell_type": "code",
   "execution_count": null,
   "id": "11bcf382",
   "metadata": {},
   "outputs": [],
   "source": []
  },
  {
   "cell_type": "code",
   "execution_count": null,
   "id": "22b6224e",
   "metadata": {},
   "outputs": [],
   "source": []
  },
  {
   "cell_type": "code",
   "execution_count": null,
   "id": "571f5012",
   "metadata": {},
   "outputs": [],
   "source": []
  },
  {
   "cell_type": "code",
   "execution_count": null,
   "id": "e573b2b3",
   "metadata": {},
   "outputs": [],
   "source": []
  },
  {
   "cell_type": "code",
   "execution_count": null,
   "id": "87ebc0c0",
   "metadata": {},
   "outputs": [],
   "source": []
  },
  {
   "cell_type": "code",
   "execution_count": null,
   "id": "e75a75d1",
   "metadata": {},
   "outputs": [],
   "source": []
  },
  {
   "cell_type": "code",
   "execution_count": null,
   "id": "4ac73e40",
   "metadata": {},
   "outputs": [],
   "source": []
  },
  {
   "cell_type": "code",
   "execution_count": null,
   "id": "a22eb9b0",
   "metadata": {},
   "outputs": [],
   "source": []
  },
  {
   "cell_type": "code",
   "execution_count": null,
   "id": "33b17c4f",
   "metadata": {},
   "outputs": [],
   "source": []
  },
  {
   "cell_type": "code",
   "execution_count": null,
   "id": "c24aead7",
   "metadata": {},
   "outputs": [],
   "source": []
  },
  {
   "cell_type": "code",
   "execution_count": null,
   "id": "dde11c9b",
   "metadata": {},
   "outputs": [],
   "source": []
  },
  {
   "cell_type": "code",
   "execution_count": null,
   "id": "e4ea411e",
   "metadata": {},
   "outputs": [],
   "source": []
  },
  {
   "cell_type": "code",
   "execution_count": null,
   "id": "887b7b8f",
   "metadata": {},
   "outputs": [],
   "source": []
  }
 ],
 "metadata": {
  "kernelspec": {
   "display_name": "venv",
   "language": "python",
   "name": "python3"
  },
  "language_info": {
   "codemirror_mode": {
    "name": "ipython",
    "version": 3
   },
   "file_extension": ".py",
   "mimetype": "text/x-python",
   "name": "python",
   "nbconvert_exporter": "python",
   "pygments_lexer": "ipython3",
   "version": "3.12.3"
  }
 },
 "nbformat": 4,
 "nbformat_minor": 5
}
