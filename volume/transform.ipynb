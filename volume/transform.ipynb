{
 "cells": [
  {
   "cell_type": "code",
   "execution_count": 1,
   "id": "44fc7235-b89f-4e47-a9b3-78bcd5397ac5",
   "metadata": {},
   "outputs": [],
   "source": [
    "from pyspark.sql import functions as f\n",
    "from pyspark.sql.window import Window as W\n",
    "from pyspark.sql import SparkSession"
   ]
  },
  {
   "cell_type": "markdown",
   "id": "415264bf-ecc7-465a-b0f9-b652355b714f",
   "metadata": {},
   "source": [
    "## 1 - Configurando spark"
   ]
  },
  {
   "cell_type": "code",
   "execution_count": 2,
   "id": "058a52df-b75e-45ea-94a1-b7f80994e508",
   "metadata": {},
   "outputs": [],
   "source": [
    "spark = SparkSession.builder \\\n",
    "    .appName(\"Teste PySpark\") \\\n",
    "    .master(\"spark://spark-master:7077\") \\\n",
    "    .config(\"spark.jars.packages\", \"org.apache.hadoop:hadoop-aws:3.3.4\") \\\n",
    "    .getOrCreate()"
   ]
  },
  {
   "cell_type": "code",
   "execution_count": 3,
   "id": "c7e653c4-cb67-4850-9617-3ec8ab47ae1f",
   "metadata": {},
   "outputs": [],
   "source": [
    "hadoop_conf = spark._jsc.hadoopConfiguration()\n",
    "hadoop_conf.set(\"fs.s3a.endpoint\", \"http://localstack:4566\")\n",
    "hadoop_conf.set(\"fs.s3a.access.key\", \"test\")\n",
    "hadoop_conf.set(\"fs.s3a.secret.key\", \"test\")\n",
    "hadoop_conf.set(\"fs.s3a.path.style.access\", \"true\")\n",
    "hadoop_conf.set(\"fs.s3a.impl\", \"org.apache.hadoop.fs.s3a.S3AFileSystem\")\n"
   ]
  },
  {
   "cell_type": "code",
   "execution_count": null,
   "id": "34ac2338-d685-463a-a8b3-aae2ca732d5e",
   "metadata": {},
   "outputs": [],
   "source": [
    "# data = [(\"Alice\", 25), (\"Bob\", 30), (\"Carol\", 27)]\n",
    "# df = spark.createDataFrame(data, [\"Nome\", \"Idade\"])\n",
    "# df.show()"
   ]
  },
  {
   "cell_type": "markdown",
   "id": "35bb6265-6887-46f2-8155-567c26e3bc99",
   "metadata": {},
   "source": [
    "## 2 - Acessando bucket S3"
   ]
  },
  {
   "cell_type": "code",
   "execution_count": null,
   "id": "28b809ef-e50e-474f-bd74-ca5a939d0a1f",
   "metadata": {},
   "outputs": [],
   "source": [
    "# !pip install boto3"
   ]
  },
  {
   "cell_type": "code",
   "execution_count": 12,
   "id": "727f9c24-46d2-4bd1-bbc9-7c863877ca27",
   "metadata": {},
   "outputs": [
    {
     "name": "stdout",
     "output_type": "stream",
     "text": [
      "ok ✅\n"
     ]
    }
   ],
   "source": [
    "import boto3\n",
    "\n",
    "s3 = boto3.client(\n",
    "    \"s3\",\n",
    "    endpoint_url=\"http://localstack:4566\",\n",
    "    aws_access_key_id=\"test\",\n",
    "    aws_secret_access_key=\"test\",\n",
    "    region_name=\"us-east-1\"\n",
    ")\n",
    "\n",
    "bucket_name = \"s3-cvm-fii\"\n",
    "prefix = \"raw/\"\n",
    "\n",
    "response = s3.list_objects_v2(Bucket=bucket_name, Prefix=prefix)\n",
    "\n",
    "files = [f\"s3a://{bucket_name}/{obj['Key']}\" for obj in response.get(\"Contents\", []) if obj['Key'].endswith('.csv')]\n",
    "\n",
    "# for path in files:\n",
    "#     print(path)\n",
    "print('ok \\u2705')\n"
   ]
  },
  {
   "cell_type": "markdown",
   "id": "23ef90d7-b671-4113-8fbb-ea1b0fe4ff7d",
   "metadata": {},
   "source": [
    "## 3 - lendo arquivos do bucket e unificando"
   ]
  },
  {
   "cell_type": "code",
   "execution_count": 13,
   "id": "45b7d411-ba4c-45c8-9774-8d554404ee28",
   "metadata": {},
   "outputs": [
    {
     "name": "stdout",
     "output_type": "stream",
     "text": [
      "ok ✅\n"
     ]
    }
   ],
   "source": [
    "try:\n",
    "    df = spark.read \\\n",
    "        .option(\"header\", \"true\") \\\n",
    "        .option(\"encoding\", \"latin1\") \\\n",
    "        .option(\"sep\", \";\") \\\n",
    "        .option(\"inferSchema\", \"true\") \\\n",
    "        .csv(\"s3a://s3-cvm-fii/raw/*.csv\")\n",
    "    print('ok \\u2705')\n",
    "except Exception as e:\n",
    "    print(f'\\u270c{e}')"
   ]
  },
  {
   "cell_type": "code",
   "execution_count": 14,
   "id": "b8c82762-d30b-4219-a376-13e5b7998221",
   "metadata": {},
   "outputs": [
    {
     "name": "stdout",
     "output_type": "stream",
     "text": [
      "+---------------+------------------+------------+----------+----------+---------------+-------------+---------+--------+--------+\n",
      "|TP_FUNDO_CLASSE| CNPJ_FUNDO_CLASSE|ID_SUBCLASSE| DT_COMPTC|  VL_TOTAL|       VL_QUOTA|VL_PATRIM_LIQ|CAPTC_DIA|RESG_DIA|NR_COTST|\n",
      "+---------------+------------------+------------+----------+----------+---------------+-------------+---------+--------+--------+\n",
      "|             FI|00.017.024/0001-53|        NULL|2024-10-01|1132614.16|36.454622000000|   1137511.23|     0.00|    0.00|       1|\n",
      "|             FI|00.017.024/0001-53|        NULL|2024-10-02|1133099.67|36.466316600000|   1137876.14|     0.00|    0.00|       1|\n",
      "|             FI|00.017.024/0001-53|        NULL|2024-10-03|1133598.00|36.478972500000|   1138271.05|     0.00|    0.00|       1|\n",
      "|             FI|00.017.024/0001-53|        NULL|2024-10-04|1134093.71|36.492039300000|   1138678.78|     0.00|    0.00|       1|\n",
      "|             FI|00.017.024/0001-53|        NULL|2024-10-07|1134255.06|36.505022800000|   1139083.91|     0.00|    0.00|       1|\n",
      "|             FI|00.017.024/0001-53|        NULL|2024-10-08|1127240.85|36.517816600000|   1136373.51|     0.00| 3109.61|       1|\n",
      "|             FI|00.017.024/0001-53|        NULL|2024-10-09|1127691.50|36.530650800000|   1136772.89|     0.00|    0.00|       1|\n",
      "|             FI|00.017.024/0001-53|        NULL|2024-10-10|1128139.81|36.542221500000|   1137132.95|     0.00|    0.00|       1|\n",
      "|             FI|00.017.024/0001-53|        NULL|2024-10-11|1128588.65|36.553716000000|   1137490.64|     0.00|    0.00|       1|\n",
      "|             FI|00.017.024/0001-53|        NULL|2024-10-14|1129052.58|36.565228800000|   1137848.90|     0.00|    0.00|       1|\n",
      "+---------------+------------------+------------+----------+----------+---------------+-------------+---------+--------+--------+\n",
      "only showing top 10 rows\n",
      "\n"
     ]
    }
   ],
   "source": [
    "df.show(10,truncate=30)"
   ]
  },
  {
   "cell_type": "code",
   "execution_count": 15,
   "id": "49bd54d5-5d37-4715-a0e2-912550b356d1",
   "metadata": {},
   "outputs": [
    {
     "data": {
      "text/plain": [
       "22365065"
      ]
     },
     "execution_count": 15,
     "metadata": {},
     "output_type": "execute_result"
    }
   ],
   "source": [
    "df.count()"
   ]
  },
  {
   "cell_type": "code",
   "execution_count": 16,
   "id": "ebb31bfb-a43e-4f93-a6ae-7328ce432a02",
   "metadata": {},
   "outputs": [
    {
     "name": "stdout",
     "output_type": "stream",
     "text": [
      "root\n",
      " |-- TP_FUNDO_CLASSE: string (nullable = true)\n",
      " |-- CNPJ_FUNDO_CLASSE: string (nullable = true)\n",
      " |-- ID_SUBCLASSE: string (nullable = true)\n",
      " |-- DT_COMPTC: string (nullable = true)\n",
      " |-- VL_TOTAL: string (nullable = true)\n",
      " |-- VL_QUOTA: string (nullable = true)\n",
      " |-- VL_PATRIM_LIQ: string (nullable = true)\n",
      " |-- CAPTC_DIA: string (nullable = true)\n",
      " |-- RESG_DIA: string (nullable = true)\n",
      " |-- NR_COTST: integer (nullable = true)\n",
      "\n"
     ]
    }
   ],
   "source": [
    "df.printSchema()"
   ]
  },
  {
   "cell_type": "code",
   "execution_count": 24,
   "id": "dabe3909-291a-4ddf-8976-8a3ffd9c7d46",
   "metadata": {},
   "outputs": [],
   "source": [
    "columns_rename = {\n",
    "                    \"TP_FUNDO_CLASSE\": \"tipo_fundo\",\n",
    "                     \"CNPJ_FUNDO_CLASSE\": \"cnpj_fundo\",\n",
    "                     \"DT_COMPTC\": \"data_referencia\",\n",
    "                     \"NR_COTST\": \"qtd_cotistas\",\n",
    "                     \"RESG_DIA\": \"valor_resgates\",\n",
    "                     \"CAPTC_DIA\": \"valor_aplicacoes\",\n",
    "                     \"VL_QUOTA\": \"cota\",\n",
    "                     \"VL_TOTAL\": \"valor_carteira\",\n",
    "                     \"VL_PATRIM_LIQ\":'pl_fundo'\n",
    "                    }\n",
    "\n",
    "for old_name, new_name in columns_rename.items():\n",
    "    df = df.withColumnRenamed(old_name, new_name)\n"
   ]
  },
  {
   "cell_type": "code",
   "execution_count": 25,
   "id": "7ec6d340-dcdf-4d35-abd5-f93dd94facd4",
   "metadata": {},
   "outputs": [],
   "source": [
    "df_fi=df.filter(f.col('TP_FUNDO_CLASSE')=='FI')"
   ]
  },
  {
   "cell_type": "code",
   "execution_count": 27,
   "id": "d519aaa3-3bda-4681-9525-b07cd31ade7b",
   "metadata": {},
   "outputs": [
    {
     "name": "stdout",
     "output_type": "stream",
     "text": [
      "+----------+------------------+------------+---------------+--------------+-----------------+-------------+----------------+--------------+------------+\n",
      "|tipo_fundo|        cnpj_fundo|ID_SUBCLASSE|data_referencia|valor_carteira|             cota|   patrimonio|valor_aplicacoes|valor_resgates|qtd_cotistas|\n",
      "+----------+------------------+------------+---------------+--------------+-----------------+-------------+----------------+--------------+------------+\n",
      "|        FI|00.398.561/0001-90|        NULL|     2024-10-21|   23475252.07| 187.734400400000|  23443586.02|            0.00|      11159.76|         984|\n",
      "|        FI|01.045.435/0001-15|        NULL|     2024-10-02|     496331.16|  19.946286800000|    492609.14|            0.00|          0.00|          81|\n",
      "|        FI|02.367.527/0001-84|        NULL|     2024-10-03| 3256177058.25| 199.367351400000|3255755175.29|      1253414.03|    6366911.29|       24417|\n",
      "|        FI|02.846.259/0001-83|        NULL|     2024-10-21|   92986915.66| 220.047035300000|  92985796.63|            0.00|          0.00|           3|\n",
      "|        FI|03.029.216/0001-78|        NULL|     2024-10-03|   49139031.95| 187.096804200000|  49137334.36|        20000.00|      92813.89|         473|\n",
      "|        FI|03.191.854/0001-90|        NULL|     2024-10-18|  264986380.74|  20.009633340000| 265047226.62|           42.49|    2443821.73|           2|\n",
      "|        FI|03.206.300/0001-10|        NULL|     2024-10-21|  331439712.75|  23.107399300000| 331389931.92|            0.00|          0.00|           3|\n",
      "|        FI|03.271.099/0001-54|        NULL|     2024-10-22|  481911665.86|  82.367597600000| 481312744.79|            0.00|     199121.41|           1|\n",
      "|        FI|03.336.770/0001-06|        NULL|     2024-10-02|    4259620.90| 103.202073000000|   4257269.79|            0.00|          0.00|         118|\n",
      "|        FI|03.917.789/0001-38|        NULL|     2024-10-17|   14326971.12| 318.531548000000|  14708730.04|            0.00|          0.00|          44|\n",
      "|        FI|04.495.282/0001-04|        NULL|     2024-10-01|  150995542.71|  12.938115600000| 150639867.34|            0.00|          0.00|           9|\n",
      "|        FI|04.763.484/0001-81|        NULL|     2024-10-30|    6767028.84|  85.883052300000|   6759277.53|            0.00|          0.00|           1|\n",
      "|        FI|04.830.289/0001-27|        NULL|     2024-10-22|  377809442.08|   6.740193700000| 377501393.67|            0.00|      78251.92|           1|\n",
      "|        FI|04.869.180/0001-01|        NULL|     2024-10-04|  316800077.90|  12.652371400000| 316741137.56|            0.00|      50000.00|          41|\n",
      "|        FI|04.882.637/0001-00|        NULL|     2024-10-04|  318204813.22|  28.176090900000| 318260184.35|            0.00|      22971.16|       12589|\n",
      "|        FI|05.043.204/0001-23|        NULL|     2024-10-09|  144859935.18|1386.103826440000| 144920023.31|            0.00|          0.00|           3|\n",
      "|        FI|05.091.403/0001-07|        NULL|     2024-10-02|  190654828.92|   6.304609700000| 190228987.39|        52235.35|          0.00|           1|\n",
      "|        FI|05.092.264/0001-36|        NULL|     2024-10-09|  253912077.13|2883.928643100000| 140747717.18|            0.00|          0.00|          16|\n",
      "|        FI|05.164.364/0001-20|        NULL|     2024-10-02|  379897008.53|   6.423007000000| 379841574.65|       400000.00|      27922.29|          66|\n",
      "|        FI|05.317.156/0001-14|        NULL|     2024-10-04|   22426597.23| 778.024259400000|  26023535.18|            0.00|          0.00|           1|\n",
      "+----------+------------------+------------+---------------+--------------+-----------------+-------------+----------------+--------------+------------+\n",
      "only showing top 20 rows\n",
      "\n"
     ]
    }
   ],
   "source": [
    "\n",
    "df_fi.sample(False, 0.001).show()"
   ]
  },
  {
   "cell_type": "code",
   "execution_count": 28,
   "id": "4d8beb82-4bea-40a1-9f3c-a5fa50e60a6e",
   "metadata": {},
   "outputs": [],
   "source": [
    "df_fi = (\n",
    "        df_fi\n",
    "        .withColumn('cnpj_fundo',f.regexp_replace(f.col('cnpj_fundo'), r'[./-]', ''))\n",
    "        .select(\n",
    "             'cnpj_fundo',\n",
    "             'patrimonio',\n",
    "             'cota',\n",
    "             'qtd_cotistas',\n",
    "             'valor_aplicacoes',\n",
    "             'valor_resgates',\n",
    "             'valor_carteira',\n",
    "             'data_referencia')\n",
    "        )"
   ]
  },
  {
   "cell_type": "code",
   "execution_count": 30,
   "id": "5ab1d9ed-1bb7-4618-886e-d4a9bc3c959c",
   "metadata": {},
   "outputs": [
    {
     "name": "stdout",
     "output_type": "stream",
     "text": [
      "+--------------+----------+---------------+------------+----------------+--------------+--------------+---------------+\n",
      "|    cnpj_fundo|patrimonio|           cota|qtd_cotistas|valor_aplicacoes|valor_resgates|valor_carteira|data_referencia|\n",
      "+--------------+----------+---------------+------------+----------------+--------------+--------------+---------------+\n",
      "|00017024000153|1137511.23|36.454622000000|           1|            0.00|          0.00|    1132614.16|     2024-10-01|\n",
      "|00017024000153|1137876.14|36.466316600000|           1|            0.00|          0.00|    1133099.67|     2024-10-02|\n",
      "|00017024000153|1138271.05|36.478972500000|           1|            0.00|          0.00|    1133598.00|     2024-10-03|\n",
      "|00017024000153|1138678.78|36.492039300000|           1|            0.00|          0.00|    1134093.71|     2024-10-04|\n",
      "|00017024000153|1139083.91|36.505022800000|           1|            0.00|          0.00|    1134255.06|     2024-10-07|\n",
      "|00017024000153|1136373.51|36.517816600000|           1|            0.00|       3109.61|    1127240.85|     2024-10-08|\n",
      "|00017024000153|1136772.89|36.530650800000|           1|            0.00|          0.00|    1127691.50|     2024-10-09|\n",
      "|00017024000153|1137132.95|36.542221500000|           1|            0.00|          0.00|    1128139.81|     2024-10-10|\n",
      "|00017024000153|1137490.64|36.553716000000|           1|            0.00|          0.00|    1128588.65|     2024-10-11|\n",
      "|00017024000153|1137848.90|36.565228800000|           1|            0.00|          0.00|    1129052.58|     2024-10-14|\n",
      "+--------------+----------+---------------+------------+----------------+--------------+--------------+---------------+\n",
      "\n"
     ]
    }
   ],
   "source": [
    "df_teste = df_fi.limit(10)\n",
    "df_teste.show()"
   ]
  },
  {
   "cell_type": "code",
   "execution_count": 22,
   "id": "2b16e8df-0bbc-4d39-89ac-b67739e362e0",
   "metadata": {},
   "outputs": [
    {
     "name": "stdout",
     "output_type": "stream",
     "text": [
      "+--------------+----------+---------------+------------+----------------+--------------+--------------+---------------+\n",
      "|    cnpj_fundo|patrimonio|           cota|qtd_cotistas|valor_aplicacoes|valor_resgates|valor_carteira|data_referencia|\n",
      "+--------------+----------+---------------+------------+----------------+--------------+--------------+---------------+\n",
      "|00017024000153|1137511.23|36.454622000000|           1|            0.00|          0.00|    1132614.16|     2024-10-01|\n",
      "|00017024000153|1137876.14|36.466316600000|           1|            0.00|          0.00|    1133099.67|     2024-10-02|\n",
      "|00017024000153|1138271.05|36.478972500000|           1|            0.00|          0.00|    1133598.00|     2024-10-03|\n",
      "|00017024000153|1138678.78|36.492039300000|           1|            0.00|          0.00|    1134093.71|     2024-10-04|\n",
      "|00017024000153|1139083.91|36.505022800000|           1|            0.00|          0.00|    1134255.06|     2024-10-07|\n",
      "|00017024000153|1136373.51|36.517816600000|           1|            0.00|       3109.61|    1127240.85|     2024-10-08|\n",
      "|00017024000153|1136772.89|36.530650800000|           1|            0.00|          0.00|    1127691.50|     2024-10-09|\n",
      "|00017024000153|1137132.95|36.542221500000|           1|            0.00|          0.00|    1128139.81|     2024-10-10|\n",
      "|00017024000153|1137490.64|36.553716000000|           1|            0.00|          0.00|    1128588.65|     2024-10-11|\n",
      "|00017024000153|1137848.90|36.565228800000|           1|            0.00|          0.00|    1129052.58|     2024-10-14|\n",
      "+--------------+----------+---------------+------------+----------------+--------------+--------------+---------------+\n",
      "\n"
     ]
    }
   ],
   "source": [
    "df_teste.show()"
   ]
  },
  {
   "cell_type": "code",
   "execution_count": null,
   "id": "e156d6ab-2ef1-43ed-885e-a63fa9f45958",
   "metadata": {},
   "outputs": [],
   "source": [
    "break"
   ]
  },
  {
   "cell_type": "code",
   "execution_count": 56,
   "id": "64c8b103-47f3-4fce-93a8-bfadf66929d8",
   "metadata": {},
   "outputs": [
    {
     "name": "stdout",
     "output_type": "stream",
     "text": [
      "+----------+----------+----------+------------+----------------+--------------+--------------+---------------+-----------------+-----------------+---+----+\n",
      "|cnpj_fundo|patrimonio|      cota|qtd_cotistas|valor_aplicacoes|valor_resgates|valor_carteira|data_referencia|variacao_cota_dia|variacao_cota_mes|mes| ano|\n",
      "+----------+----------+----------+------------+----------------+--------------+--------------+---------------+-----------------+-----------------+---+----+\n",
      "|0001702...|1137511.23|36.4546...|           1|            0.00|          0.00|    1132614.16|     2024-10-01|             NULL|             NULL| 10|2024|\n",
      "|0001702...|1137876.14|36.4663...|           1|            0.00|          0.00|    1133099.67|     2024-10-02|           0.0321|           0.0321| 10|2024|\n",
      "|0001702...|1138271.05|36.4789...|           1|            0.00|          0.00|    1133598.00|     2024-10-03|           0.0347|           0.0347| 10|2024|\n",
      "|0001702...|1138678.78|36.4920...|           1|            0.00|          0.00|    1134093.71|     2024-10-04|           0.0358|           0.0358| 10|2024|\n",
      "|0001702...|1139083.91|36.5050...|           1|            0.00|          0.00|    1134255.06|     2024-10-07|           0.0356|           0.0356| 10|2024|\n",
      "|0001702...|1136373.51|36.5178...|           1|            0.00|       3109.61|    1127240.85|     2024-10-08|            0.035|            0.035| 10|2024|\n",
      "|0001702...|1136772.89|36.5306...|           1|            0.00|          0.00|    1127691.50|     2024-10-09|           0.0351|           0.0351| 10|2024|\n",
      "|0001702...|1137132.95|36.5422...|           1|            0.00|          0.00|    1128139.81|     2024-10-10|           0.0317|           0.0317| 10|2024|\n",
      "|0001702...|1137490.64|36.5537...|           1|            0.00|          0.00|    1128588.65|     2024-10-11|           0.0315|           0.0315| 10|2024|\n",
      "|0001702...|1137848.90|36.5652...|           1|            0.00|          0.00|    1129052.58|     2024-10-14|           0.0315|           0.0315| 10|2024|\n",
      "+----------+----------+----------+------------+----------------+--------------+--------------+---------------+-----------------+-----------------+---+----+\n",
      "\n"
     ]
    }
   ],
   "source": [
    "## variação cota dia\n",
    "(\n",
    "    df_teste.withColumn('cota_dia_anterior',\n",
    "                         f.lag(f.col('cota')).over(W.partitionBy(f.col('cnpj_fundo'))\n",
    "                                                     .orderBy(f.col('data_referencia'))))\n",
    "        .withColumn(\"variacao_cota_dia\",\n",
    "            f.when(\n",
    "                   (f.col(\"cota_dia_anterior\").isNotNull()) & (f.col(\"cota_dia_anterior\") != 0),\n",
    "                    f.round(((f.col(\"cota\") - f.col(\"cota_dia_anterior\")) / f.col(\"cota_dia_anterior\")) * 100,4)\n",
    "                    )\n",
    "                   )\n",
    "        .withColumn(\"ano\", f.year(f.col(\"data_referencia\")))\n",
    "        .withColumn(\"mes\",f.month(f.col(\"data_referencia\")))\n",
    "\n",
    "        .withColumn(\"last_day_of_month\", f.last_day(\"data_referencia\"))\n",
    "\n",
    "        .withColumn('ultima_cota_mes',\n",
    "                             f.lag(f.col('cota')).over(W.partitionBy(f.col('cnpj_fundo'))\n",
    "                                                         .orderBy(f.col('last_day_of_month'))))\n",
    "        .withColumn(\"variacao_cota_mes\",\n",
    "            f.when(\n",
    "                    (f.col(\"ultima_cota_mes\").isNotNull()) & (f.col(\"ultima_cota_mes\") != 0),\n",
    "                   f.round(((f.col(\"cota\") - f.col(\"ultima_cota_mes\")) / f.col(\"ultima_cota_mes\")) * 100,4)\n",
    "                )\n",
    "            )\n",
    "        .select(\n",
    "             'cnpj_fundo',\n",
    "             'patrimonio',\n",
    "             'cota',\n",
    "             'qtd_cotistas',\n",
    "             'valor_aplicacoes',\n",
    "             'valor_resgates',\n",
    "             'valor_carteira',\n",
    "             'data_referencia',\n",
    "            'variacao_cota_dia',\n",
    "            'variacao_cota_mes',\n",
    "            'mes',\n",
    "            'ano')\n",
    "             \n",
    ").show(10,truncate=10)"
   ]
  },
  {
   "cell_type": "code",
   "execution_count": null,
   "id": "11c9bf63-172c-4173-b208-f5093a505a0c",
   "metadata": {},
   "outputs": [],
   "source": []
  },
  {
   "cell_type": "markdown",
   "id": "1bade850-29f9-4614-a19b-b491850bc9c0",
   "metadata": {},
   "source": [
    "-----------------------\n",
    "Campo: CAPTC_DIA\n",
    "-----------------------\n",
    "   Descrição : Captação do dia\n",
    "   Domínio   : Numérico2\n",
    "\n",
    "-----------------------\n",
    "Campo: CNPJ_FUNDO_CLASSE\n",
    "-----------------------\n",
    "   Descrição : CNPJ do fundo/classe\n",
    "\n",
    "-----------------------\n",
    "Campo: DT_COMPTC\n",
    "-----------------------\n",
    "   Descrição : Data de competência do documento\n",
    "   Domínio   : AAAA-MM-DD\n",
    "   Tipo Dados: date\n",
    "\n",
    "-----------------------\n",
    "Campo: ID_SUBCLASSE\n",
    "-----------------------\n",
    "   Descrição : Identificador da subclasse\n",
    "\n",
    "\n",
    "-----------------------\n",
    "Campo: NR_COTST\n",
    "-----------------------\n",
    "   Descrição : Número de cotistas\n",
    "\n",
    "\n",
    "-----------------------\n",
    "Campo: RESG_DIA\n",
    "-----------------------\n",
    "   Descrição : Resgate no dia\n",
    "\n",
    "-----------------------\n",
    "Campo: TP_FUNDO_CLASSE\n",
    "-----------------------\n",
    "   Descrição : Tipo de fundo/classe\n",
    "\n",
    "-----------------------\n",
    "Campo: VL_PATRIM_LIQ\n",
    "-----------------------\n",
    "   Descrição : Valor do patrimônio líquido\n",
    "   Domínio   : Numérico\n",
    "-----------------------\n",
    "Campo: VL_QUOTA\n",
    "-----------------------\n",
    "   Descrição : Valor da cota\n",
    "   Domínio   : Numérico\n",
    "   \n",
    "-----------------------\n",
    "Campo: VL_TOTAL\n",
    "-----------------------\n",
    "   Descrição : Valor total da carteira\n",
    "   Domínio   : Numérico\n"
   ]
  },
  {
   "cell_type": "code",
   "execution_count": null,
   "id": "4f6dcb96-bb38-4ba3-99d4-62363f5010a0",
   "metadata": {},
   "outputs": [],
   "source": []
  },
  {
   "cell_type": "code",
   "execution_count": null,
   "id": "b25e9328-64b8-4943-a984-a3f21eeb7c6f",
   "metadata": {},
   "outputs": [],
   "source": []
  },
  {
   "cell_type": "code",
   "execution_count": null,
   "id": "b58d8be4-06f7-4606-8bde-d22cc03f6346",
   "metadata": {},
   "outputs": [],
   "source": []
  },
  {
   "cell_type": "code",
   "execution_count": null,
   "id": "c8213afb-fd1f-4ed3-819d-5efb2aa1e1c2",
   "metadata": {},
   "outputs": [],
   "source": []
  },
  {
   "cell_type": "code",
   "execution_count": null,
   "id": "557afd43-6c07-4a82-94f5-7b5e8e20c8a9",
   "metadata": {},
   "outputs": [],
   "source": []
  }
 ],
 "metadata": {
  "kernelspec": {
   "display_name": "Python 3 (ipykernel)",
   "language": "python",
   "name": "python3"
  },
  "language_info": {
   "codemirror_mode": {
    "name": "ipython",
    "version": 3
   },
   "file_extension": ".py",
   "mimetype": "text/x-python",
   "name": "python",
   "nbconvert_exporter": "python",
   "pygments_lexer": "ipython3",
   "version": "3.11.6"
  }
 },
 "nbformat": 4,
 "nbformat_minor": 5
}
